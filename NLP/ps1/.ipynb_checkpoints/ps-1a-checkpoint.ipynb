{
 "metadata": {
  "name": "",
  "signature": "sha256:f12bda383c541a7b150b1c911c13eea0bcef66a495dc6cc2fd23f3db9208247f"
 },
 "nbformat": 3,
 "nbformat_minor": 0,
 "worksheets": [
  {
   "cells": [
    {
     "cell_type": "markdown",
     "metadata": {},
     "source": [
      "Problem Set 1a: Text classification\n",
      "==============\n",
      "\n",
      "(_This problem set is graded out of 30 for students taking CS4650 and out of 35 for students taking CS7650. But like all problem sets, this will count towards 6% of your final grade _)\n",
      "\n",
      "\n",
      "In this problem set, you will build a system for classifying movie reviews as positive, negative, or neutral. You will:\n",
      "\n",
      "- Do some basic text processing, tokenizing your input and converting it into a bag-of-words representation\n",
      "- Build a classifier based on sentiment word lists\n",
      "- Build a machine learning classifier, using Naive Bayes\n",
      "- Evaluate your classifiers and examine what they have learned\n",
      "\n",
      "In Problem Set 1b (due one week later), you will try some more advanced classifiers."
     ]
    },
    {
     "cell_type": "markdown",
     "metadata": {},
     "source": [
      "## Installation ##\n",
      "\n",
      "You may need to install some of the libraries below. Usually this is done with pip or easy_install. See here:\n",
      "\n",
      "- [NLTK](http://www.nltk.org/install.html)\n",
      "- [matplotlib](http://matplotlib.org/users/installing.html)\n",
      "- [numpy](http://docs.scipy.org/doc/numpy/user/install.html)"
     ]
    },
    {
     "cell_type": "code",
     "collapsed": false,
     "input": [
      "from nltk.tokenize import word_tokenize, sent_tokenize \n",
      "from collections import defaultdict, Counter\n",
      "from matplotlib import pyplot as plt\n",
      "import numpy as np\n",
      "import scorer\n",
      "import operator\n",
      "import nltk.data"
     ],
     "language": "python",
     "metadata": {},
     "outputs": [],
     "prompt_number": 2
    },
    {
     "cell_type": "markdown",
     "metadata": {},
     "source": [
      "# 1. Data Processing #\n",
      "(_Completing docsToBOWs() - 4 pts, each question in Deliverable 1 is worth 1 pt. Total 8 pts for part 1_)\n",
      "\n",
      "Your first step is to write code that can apply the following\n",
      "preprocessing steps. You will have to run this code fairly quickly on\n",
      "the test data when you receive it, so make sure it is modular and\n",
      "well-written.\n",
      "\n",
      "- You will edit a function that takes as its argument a \"key\" document.\n",
      "  It should produce a \"BOW\" (bag-of-words) document.\n",
      "  Each line of the key document contains a filename and a label.\n",
      "  Each line of the BOW document should contain a BOW representation of the corresponding\n",
      "  file in the key document. \n",
      "- A BOW representation looks like this: \"word:count word:count word:count...\" for every word that appears in\n",
      "  the document. Do not print words that have zero count. Use space delimiters.\n",
      "- Use NLTK's [tokenization package](http://nltk.org/api/nltk.tokenize.html) function \n",
      "  to divide each file into sentences, and each sentence into tokens.\n",
      "- Downcase all tokens\n",
      "- Only consider tokens that are completely alphabetic.\n",
      "\n",
      "I have provided some shell code, but you will have to fill in the tokenization and filtering steps."
     ]
    },
    {
     "cell_type": "code",
     "collapsed": false,
     "input": [
      "def docsToBOWs(keyfile):\n",
      "     with open(keyfile,'r') as keys:\n",
      "         with open(keyfile.replace('.key','.bow'),'w') as outfile:\n",
      "            for keyline in keys:\n",
      "                dataloc = keyline.rstrip().split(' ')[0]\n",
      "             #   fcounts = ... #add code here\n",
      "                fcounts = Counter()\n",
      "                with open(dataloc,'r') as infile:\n",
      "                    for line in infile:\n",
      "                        myTokenizer(line,fcounts)\n",
      "                for word,count in fcounts.items():\n",
      "                    print >>outfile,\"{}:{}\".format(word,count), #write the word and its count to a line\n",
      "                print >>outfile,\"\"\n",
      "        \n",
      "def myTokenizer(line,fcounts):\n",
      "    sent_tokenize_list =sent_tokenize(line);\n",
      "    for sentence in sent_tokenize_list:\n",
      "            words = word_tokenize(sentence)\n",
      "            for word in words:\n",
      "       #             print word.lower()\n",
      "                    if word.isalpha():\n",
      "                        fcounts[word.lower()] += 1"
     ],
     "language": "python",
     "metadata": {},
     "outputs": [],
     "prompt_number": 3
    },
    {
     "cell_type": "markdown",
     "metadata": {},
     "source": [
      "These are the keyfiles that are relevant to this homework. \n",
      "At the beginning you won't have test-imdb.key"
     ]
    },
    {
     "cell_type": "code",
     "collapsed": false,
     "input": [
      "trainkey = 'train-imdb.key'\n",
      "devkey = 'dev-imdb.key'\n",
      "testkey = 'test-imdb.key'"
     ],
     "language": "python",
     "metadata": {},
     "outputs": [],
     "prompt_number": 4
    },
    {
     "cell_type": "markdown",
     "metadata": {},
     "source": [
      "Next, run these lines to produce the BOW files."
     ]
    },
    {
     "cell_type": "code",
     "collapsed": true,
     "input": [
      "docsToBOWs(trainkey)\n",
      "docsToBOWs(devkey)\n",
      "#my_tokenization()\n",
      "# docsToBOWs('test-imdb.key') # you won't have this file yet"
     ],
     "language": "python",
     "metadata": {},
     "outputs": [],
     "prompt_number": 5
    },
    {
     "cell_type": "markdown",
     "metadata": {},
     "source": [
      "The next cell defines a [generator function](http://wiki.python.org/moin/Generators), called \"dataIterator\"\n",
      "\n",
      "- This allows you to easily iterate through the dataset defined by a given keyfile. \n",
      "- Each time you call \"next\" (possibly implicitly), it returns a dict containing features and counts for the next document in the sequence. \n",
      "- In this case, the features include the words, and a special \"offset\" feature\n",
      "- This is equivalent to $\\boldsymbol{x}_i$ in the reading.\n",
      "- You can see how this is used in the getAllCounts() function below, which takes a dataIterator as an argument.\n",
      "\n",
      "Lines 7-8 of the code might look confusing if you are not a pythonista. \n",
      "\n",
      "- This is a [list comprehension](http://legacy.python.org/dev/peps/pep-0202/)\n",
      "nested inside a [dict comprehension](http://legacy.python.org/dev/peps/pep-0274/).\n",
      "- Here's an [introduction](http://carlgroner.me/Python/2011/11/09/An-Introduction-to-List-Comprehensions-in-Python.html) with more examples."
     ]
    },
    {
     "cell_type": "code",
     "collapsed": false,
     "input": [
      "offset = '**OFFSET**'\n",
      "def dataIterator(keyfile):\n",
      "    with open(keyfile.replace('key','bow'),'r') as bows:\n",
      "        with open(keyfile,'r') as keys:\n",
      "            for keyline in keys:\n",
      "                textloc,label = keyline.rstrip().split(' ')\n",
      "                fcounts = {word:int(count) for word,count in\\\n",
      "                           [x.split(':') for x in bows.readline().rstrip().split(' ')]}\n",
      "                fcounts[offset] = 1\n",
      "                yield fcounts,label"
     ],
     "language": "python",
     "metadata": {},
     "outputs": [],
     "prompt_number": 6
    },
    {
     "cell_type": "markdown",
     "metadata": {},
     "source": [
      "The dataIterator above incrementally re-reads the keyfile and BOW file every time you call it. \n",
      "This is a good idea if you have huge data that won't fit in memory, but the file I/O involves some overhead.\n",
      "If you want, you can write a second dataIterator that iterates across data stored in memory, which\n",
      "will be faster."
     ]
    },
    {
     "cell_type": "markdown",
     "metadata": {},
     "source": [
      "**Sanity check**: How many unique words appear in the training set? (Types, not tokens.) I get 24861. (Don't count the offset feature.)\n",
      "\n",
      "- Note how the dataIterator function is used here. \n",
      "- fcounts is a dict, which it returns for each document.\n",
      "- We are currently ignoring the label, but that is also provided.\n",
      "- This may take a couple of minutes to run"
     ]
    },
    {
     "cell_type": "code",
     "collapsed": false,
     "input": [
      "def getAllCounts(datait):\n",
      "    allcounts = Counter()\n",
      "    for fcounts, _ in datait:\n",
      "    #    print fcounts\n",
      "        allcounts += Counter(fcounts)\n",
      "    return allcounts\n",
      "\n",
      "ac_train = getAllCounts(dataIterator('train-imdb.key'))\n",
      "ac_dev = getAllCounts(dataIterator('dev-imdb.key'))\n",
      "#ac_test = getAllCounts(dataIterator('test-imdb.key'))\n",
      "print \"number of word types\",len(ac_train.keys())-1\n"
     ],
     "language": "python",
     "metadata": {},
     "outputs": [
      {
       "output_type": "stream",
       "stream": "stdout",
       "text": [
        "number of word types 24861\n"
       ]
      }
     ],
     "prompt_number": 7
    },
    {
     "cell_type": "markdown",
     "metadata": {},
     "source": [
      "The following code makes a plot, with the log-rank (from 1 to the log of the total number of words) \n",
      "on the x-axis and the log count on the y-axis."
     ]
    },
    {
     "cell_type": "code",
     "collapsed": false,
     "input": [
      "# this enables you to create inline plots in the notebook \n",
      "train_count = 0.0\n",
      "train_unique_count  = 0.0\n",
      "dev_unique_count  = 0.0\n",
      "dev_words = []\n",
      "     \n",
      "for key in ac_train.keys():\n",
      "    train_count =train_count+ac_train.get(key)\n",
      "    if(ac_train.get(key) ==1):\n",
      "        train_unique_count= train_unique_count+1\n",
      "   \n",
      "print \"number of train word tokens\", train_count\n",
      "print \"number of  dev word types\",len(ac_dev.keys())-1\n",
      "dev_count = 0.0\n",
      "\n",
      "for key in ac_dev.keys():\n",
      "    dev_count =dev_count+ac_dev.get(key)\n",
      "    if(ac_dev.get(key) ==1):\n",
      "        dev_unique_count= dev_unique_count+1\n",
      "    if(ac_train.get(key)==None):\n",
      "         dev_words.append(key)\n",
      "   \n",
      "print \"number of dev word tokens\", dev_count\n",
      "\n",
      "print \"Train ratio\", train_count/(len(ac_train.keys())-1)\n",
      "print \"Dev ratio\", dev_count/(len(ac_dev.keys())-1)\n",
      "print \"Dev single Count words\",dev_unique_count\n",
      "print \"Test single count words\",train_unique_count\n",
      "print \"Words unique in dev \" , len(dev_words)\n",
      "   \n",
      "   #     dev_words = []\n",
      "    #     if(ac_train.get(key)==0):\n",
      "     #   dev_words.append(key)\n",
      "%pylab inline"
     ],
     "language": "python",
     "metadata": {},
     "outputs": [
      {
       "output_type": "stream",
       "stream": "stdout",
       "text": [
        "number of train word tokens 466337.0\n",
        "number of  dev word types 16900\n",
        "number of dev word tokens 223858.0\n",
        "Train ratio 18.7577732191\n",
        "Dev ratio 13.246035503\n",
        "Dev single Count words 8012.0\n",
        "Test single count words 10807.0\n",
        "Words unique in dev  4796\n",
        "Populating the interactive namespace from numpy and matplotlib"
       ]
      },
      {
       "output_type": "stream",
       "stream": "stdout",
       "text": [
        "\n"
       ]
      }
     ],
     "prompt_number": 8
    },
    {
     "cell_type": "code",
     "collapsed": false,
     "input": [
      "tr_logcounts = np.log(np.array(sorted(ac_train.values(),reverse=True)))\n",
      "plt.plot(np.log(range(len(tr_logcounts))),tr_logcounts)\n",
      "dv_logcounts = np.log(np.array(sorted(ac_dev.values(),reverse=True)))\n",
      "plt.plot(np.log(range(len(dv_logcounts))),dv_logcounts,'r')\n",
      "plt.xlabel('log rank')\n",
      "plt.ylabel('log count')"
     ],
     "language": "python",
     "metadata": {},
     "outputs": [
      {
       "output_type": "stream",
       "stream": "stderr",
       "text": [
        "-c:2: RuntimeWarning: divide by zero encountered in log\n",
        "-c:4: RuntimeWarning: divide by zero encountered in log\n"
       ]
      },
      {
       "metadata": {},
       "output_type": "pyout",
       "prompt_number": 9,
       "text": [
        "<matplotlib.text.Text at 0x14422fd0>"
       ]
      },
      {
       "metadata": {},
       "output_type": "display_data",
       "png": "[encoded data removed]",
       "text": [
        "<matplotlib.figure.Figure at 0x14251fd0>"
       ]
      }
     ],
     "prompt_number": 9
    },
    {
     "cell_type": "markdown",
     "metadata": {},
     "source": [
      "**Deliverable 1**\n",
      "\n",
      "- Explain what you see in the plot. Does it observe Zipf's law? How well?\n",
      "- Print the token/type ratio for both the training and dev data.\n",
      "- Print the number of types which appear exactly once in the training and dev data\n",
      "- Print the number of types that appear in the dev data but not the training data (hint: use [sets](https://docs.python.org/2/library/sets.html) for this)"
     ]
    },
    {
     "cell_type": "markdown",
     "metadata": {},
     "source": [
      "The plot observes Zipf's law in the middle region. However, it fails to obey that in extreme areas (having very high and very frequency regions).\n",
      "print 'test'"
     ]
    },
    {
     "cell_type": "code",
     "collapsed": false,
     "input": [
      "# this enables you to create inline plots in the notebook \n",
      "train_count = 0.0\n",
      "train_unique_count  = 0.0\n",
      "dev_unique_count  = 0.0\n",
      "dev_words = []\n",
      "     \n",
      "for key in ac_train.keys():\n",
      "    train_count =train_count+ac_train.get(key)\n",
      "    if(ac_train.get(key) ==1):\n",
      "        train_unique_count= train_unique_count+1\n",
      "   \n",
      "print \"number of train word tokens\", train_count\n",
      "print \"number of  dev word types\",len(ac_dev.keys())-1\n",
      "dev_count = 0.0\n",
      "\n",
      "for key in ac_dev.keys():\n",
      "    dev_count =dev_count+ac_dev.get(key)\n",
      "    if(ac_dev.get(key) ==1):\n",
      "        dev_unique_count= dev_unique_count+1\n",
      "    if(ac_train.get(key)==None):\n",
      "         dev_words.append(key)\n",
      "   \n",
      "print \"number of dev word tokens\", dev_count\n",
      "\n",
      "print \"Train ratio\", train_count/(len(ac_train.keys())-1)\n",
      "print \"Dev ratio\", dev_count/(len(ac_dev.keys())-1)\n",
      "print \"Dev single Count words\",dev_unique_count\n",
      "print \"Test single count words\",train_unique_count\n",
      "print \"Words unique in dev \" , len(dev_words)\n",
      "   "
     ],
     "language": "python",
     "metadata": {},
     "outputs": [
      {
       "output_type": "stream",
       "stream": "stdout",
       "text": [
        "number of train word tokens 466337.0\n",
        "number of  dev word types 16900\n",
        "number of dev word tokens 223858.0\n",
        "Train ratio 18.7577732191\n",
        "Dev ratio 13.246035503\n",
        "Dev single Count words 8012.0\n",
        "Test single count words 10807.0\n",
        "Words unique in dev  4796\n"
       ]
      }
     ],
     "prompt_number": 10
    },
    {
     "cell_type": "markdown",
     "metadata": {},
     "source": []
    },
    {
     "cell_type": "markdown",
     "metadata": {},
     "source": [
      "# 2. Word Lists #\n",
      "(_Completing predict() - 3 pts, setting weights - 2 pts, Deliverable 2 - 1 pt. Total 7 pts for part 2_)\n",
      "\n",
      "- We will now build a sentiment analysis system based on word lists. \n",
      "- The file \"sentiment-vocab.tff\" contains a sentiment lexicon from [ Wilson et al 2005](http://people.cs.pitt.edu/~wiebe/pubs/papers/emnlp05polarity.pdf). \n",
      "- The code below reads the lexicon into memory, building sets of positive and negative words."
     ]
    },
    {
     "cell_type": "code",
     "collapsed": false,
     "input": [
      "poswords = set()\n",
      "negwords = set()\n",
      "with open('sentiment-vocab.tff','r') as fin:\n",
      "    for i,line in enumerate(fin):\n",
      "        # more list and dict comprehensions!\n",
      "        kvs = {key:val for key,val in [kvp.split('=') for kvp in line.split() if '=' in kvp]}\n",
      "        if kvs['type'] == 'strongsubj':\n",
      "            if kvs['priorpolarity'] == 'negative':\n",
      "                negwords.add(kvs['word1'])\n",
      "            if kvs['priorpolarity'] == 'positive':\n",
      "                poswords.add(kvs['word1'])"
     ],
     "language": "python",
     "metadata": {},
     "outputs": [],
     "prompt_number": 91
    },
    {
     "cell_type": "markdown",
     "metadata": {},
     "source": [
      "Next, you should write a classifier that classifies each instance in a testfile. The classification rule is:\n",
      "\n",
      "- 'POS' if the instance has more words from the positive list than the negative list\n",
      "- 'NEG' if the instance has more words from the negative list than the positive list\n",
      "- 'NEU' (neutral) if the instance has the same number of words from each list\n",
      "\n",
      "To do this, you will write a function \"predict\", \n",
      "which represents the inner-product computation $\\boldsymbol{\\theta}' \\boldsymbol{f}(\\boldsymbol{x},y)$.\n",
      "It should have the following characteristics:\n",
      "\n",
      "- **Input 1** an instance, represented as a dict (with features as keys and counts as values) \n",
      "- **Input 2** a dictionary of weights, with labels as keys. Each value is itself a dictionary, with features as keys and weights as values. This corresponds to $\\boldsymbol{\\theta}$ in the reading. See example below.\n",
      "- **Input 3** a list of possible labels\n",
      "- **Output 1** the highest-scoring label\n",
      "- **Output 2** a dict with labels as keys and scores as values"
     ]
    },
    {
     "cell_type": "code",
     "collapsed": false,
     "input": [
      "# use this to find the highest-scoring label\n",
      "#print poswords\n",
      "argmax = lambda x : max(x.iteritems(),key=operator.itemgetter(1))[0]"
     ],
     "language": "python",
     "metadata": {},
     "outputs": [],
     "prompt_number": 92
    },
    {
     "cell_type": "code",
     "collapsed": false,
     "input": [
      "def predict(instance,weights,labels):\n",
      "  #  scores = # your code here\n",
      "    # return the highest-scoring label, and the scores for all labels\n",
      " #   print instance\n",
      " #   print weights\n",
      "  #  for word in instance:\n",
      "  #      print word\n",
      "   classifer = Counter()\n",
      "   for word in instance:\n",
      "       for label in labels:\n",
      "         #   if weights[label,offset] != 0:\n",
      "          #      classifer[label] +=  weights[label,offset]*instance[word]\n",
      "           #     instance\n",
      "           # else:\n",
      "                    \n",
      "         #       print label\n",
      "         ##       print word\n",
      "          ##      print weights[label,word]\n",
      "           ##     print instance[word]\n",
      "            #    print classifer[label]\n",
      "           \n",
      "            classifer[label] +=  weights[label,word]*instance[word]\n",
      "            #    print classifer[label]\n",
      "\n",
      " \n",
      " #  if classifer[argmax(classifer)] == 0 :\n",
      "#        return 'NEU', classifer\n",
      "   return argmax(classifer), classifer"
     ],
     "language": "python",
     "metadata": {},
     "outputs": [],
     "prompt_number": 216
    },
    {
     "cell_type": "markdown",
     "metadata": {},
     "source": [
      "Here are weights for the simplest classifier, which simply labels all instances as positive.\n",
      "\n",
      "Note that it uses only the 'offset' feature"
     ]
    },
    {
     "cell_type": "code",
     "collapsed": false,
     "input": [
      "all_labels = ['POS','NEG','NEU']\n",
      "weights_all_pos = defaultdict(int)\n",
      "weights_all_pos.update({('POS',offset):1,('NEG',offset):0,('NEU',offset):0})"
     ],
     "language": "python",
     "metadata": {},
     "outputs": [],
     "prompt_number": 200
    },
    {
     "cell_type": "markdown",
     "metadata": {},
     "source": [
      "Here is some code for evaluating your classifiers. \n",
      "It uses a scoring library that I wrote, and writes the output to a file."
     ]
    },
    {
     "cell_type": "code",
     "collapsed": false,
     "input": [
      "def evalClassifier(weights,outfilename,testfile=devkey):    \n",
      "    with open(outfilename,'w') as outfile: #open the output file\n",
      "        for counts,label in dataIterator(testfile): #iterate through eval set\n",
      "            print >>outfile, predict(counts,weights,all_labels)[0] #print prediction to file\n",
      "    return scorer.getConfusion(testfile,outfilename) #run the scorer on the prediction file"
     ],
     "language": "python",
     "metadata": {},
     "outputs": [],
     "prompt_number": 131
    },
    {
     "cell_type": "markdown",
     "metadata": {},
     "source": [
      "The code below shows how to evaluate this classifier. \n",
      "\n",
      "- **Sanity check**: You should get 40.7% accuracy just by classifying everything as positive. This is the \"most common class\" (MCC) baseline.\n",
      "\n",
      "The printed output is a **confusion matrix**. \n",
      "The rows indicate the key and the columns indicate the response. \n",
      "In this case, the response is always \"POS\", so there is only one column. \n",
      "The cell NEG/POS tells you how often an example that was labeled \"NEG\" in the key was labeled \"POS\" in the system response."
     ]
    },
    {
     "cell_type": "code",
     "collapsed": false,
     "input": [
      "mat = evalClassifier(weights_all_pos,'all_pos.txt')\n",
      "print scorer.printScoreMessage(mat)"
     ],
     "language": "python",
     "metadata": {},
     "outputs": [
      {
       "output_type": "stream",
       "stream": "stdout",
       "text": [
        "3 classes in key: set(['NEG', 'NEU', 'POS'])\n",
        "1 classes in response: set(['POS'])\n",
        "confusion matrix\n",
        "key\\response:\tPOS\n",
        "NEG\t\t401\t\n",
        "NEU\t\t192\t\n",
        "POS\t\t407\t\n",
        "----------------\n",
        "accuracy: 0.4070 = 407/1000\n",
        "\n",
        "None\n"
       ]
      }
     ],
     "prompt_number": 132
    },
    {
     "cell_type": "markdown",
     "metadata": {},
     "source": [
      "Now build a classifier based on the word lists. The classifier should have the following decision rule:\n",
      "\n",
      "- If the number of positive words (tokens) is greater than the number of negative words, choose label 'POS'\n",
      "- If the number of negative words (tokens) is greater than the number of positive words, choose label 'NEG'\n",
      "- If they are equal, choose label 'NEU'\n",
      "\n",
      "You should manually set the weights to ensure this behavior; don't change the predict function at all.\n",
      "You'll need to use the offset weights to make sure that ties go to the 'NEU' label."
     ]
    },
    {
     "cell_type": "code",
     "collapsed": false,
     "input": [
      "weights_all_words = defaultdict(int)\n",
      "for posword in poswords:\n",
      "    weights_all_words['POS',posword]=1\n",
      "    weights_all_words['NEU',posword]=.5001\n",
      "for negword in negwords:\n",
      "    weights_all_words['NEG',negword]=1\n",
      "    weights_all_words['NEU',negword]=.5001"
     ],
     "language": "python",
     "metadata": {},
     "outputs": [],
     "prompt_number": 133
    },
    {
     "cell_type": "markdown",
     "metadata": {},
     "source": [
      "**Deliverable 2**: run your classifier on dev.key, and use the following code to print the resulting confusion matrix.\n",
      "\n",
      "The confusion matrix should now have three columns, since the response should include every class at least once. The count of correct responses is found on the diagonal of the confusion matrix. What is the most frequent type of error?\n",
      "\n",
      "**Sanity check**: The accuracy should be 55.9%"
     ]
    },
    {
     "cell_type": "code",
     "collapsed": false,
     "input": [
      "mat = evalClassifier(weights_all_words,'word_list.txt')\n",
      "print scorer.printScoreMessage(mat)"
     ],
     "language": "python",
     "metadata": {},
     "outputs": [
      {
       "output_type": "stream",
       "stream": "stdout",
       "text": [
        "3 classes in key: set(['NEG', 'NEU', 'POS'])\n",
        "3 classes in response: set(['NEG', 'NEU', 'POS'])\n",
        "confusion matrix\n",
        "key\\response:\tNEG\tNEU\tPOS\n",
        "NEG\t\t203\t26\t172\t\n",
        "NEU\t\t58\t9\t125\t\n",
        "POS\t\t40\t19\t348\t\n",
        "----------------\n",
        "accuracy: 0.5600 = 560/1000\n",
        "\n",
        "None\n"
       ]
      }
     ],
     "prompt_number": 134
    },
    {
     "cell_type": "markdown",
     "metadata": {},
     "source": [
      "(include your explanation of the most frequent type of error here)"
     ]
    },
    {
     "cell_type": "markdown",
     "metadata": {},
     "source": [
      "# 3. Naive Bayes #\n",
      "(_Completing learnNBWeights() - 5 pts, Deliverable 3a - 1pt, 3b - 1 pt, explanation of plot output - 2pts. Total 8 points for part 3_)\n",
      "\n",
      "Now you will implement a Naive Bayes classifier.\n",
      "\n",
      "You already have the code for the decision function, \"predict\". \n",
      "So you just need to construct a set of weights that correspond to the classifier. \n",
      "These weights will contain two parameters:\n",
      "\n",
      "- $\\log \\mu$ for the offset, which parametrizes the prior $\\log P(y)$\n",
      "- $\\log \\phi$ for the word counts, which parametrizes the likelihood $\\log P(x | y)$\n",
      "\n",
      "You should use maximum *a posteriori* estimation of\n",
      "the parameter $\\phi$,\n",
      "$$\\phi_{j,n} = P(w = n | y = j) = \\frac{\\sum_{i: y_i = j} x_{i,n} + \\alpha}{\\sum_{i:y_i=j} \\sum_{n'} x_{i,n'} + V\\alpha}$$\n",
      "where \n",
      "\n",
      "- $y_i = j$ indicates the class label $j$ for instance $i$\n",
      "- $w=n$ indicates word $n$\n",
      "- $\\alpha$ is the smoothing parameter\n",
      "- $V$ is the total number of words\n",
      "\n",
      "For each class, normalize by the sum of counts of words **in that class**. In other words, $\\sum_j \\phi_{j,n} = 1$ for all $j$. You can estimate $\\log \\phi$ directly if you prefer.\n",
      "\n",
      "For the prior $\\log P(y)$, you can use relative frequency estimation.\n",
      "\n",
      "Both probabilities should be estimated from the training data only.\n",
      "Please write this code yourself -- do not use other libraries, and try to do\n",
      "it without looking at other code online."
     ]
    },
    {
     "cell_type": "code",
     "collapsed": false,
     "input": [
      "from itertools import chain #hint, especially if you're obsessive about being pythonic"
     ],
     "language": "python",
     "metadata": {},
     "outputs": [],
     "prompt_number": 135
    },
    {
     "cell_type": "code",
     "collapsed": false,
     "input": [
      "def wordCount(line,fcounts,category,class_wordcounts):\n",
      "    sent_tokenize_list =sent_tokenize(line);\n",
      "    for sentence in sent_tokenize_list:\n",
      "            words = word_tokenize(sentence)\n",
      "            for word in words:\n",
      "       #             print word.lower()\n",
      "                    if word.isalpha():\n",
      "                        class_wordcounts[category]+=1\n",
      "                        fcounts[word.lower()][category] += 1\n",
      "# compute the word counts first, because this can be slow\n",
      "# you may also wish to keep a list of all word types that are observed in the training data\n",
      "counts = defaultdict(lambda : Counter()) # hint\n",
      "class_counts = defaultdict(int) # hint\n",
      "class_wordcounts = defaultdict(int)\n",
      "\n",
      "print total\n",
      "with open('train-imdb.key','r') as fin:\n",
      "    for i,keyline in enumerate(fin):\n",
      "        kvp = keyline.split();\n",
      "        class_counts[kvp[1]]+=1\n",
      "        dataloc = keyline.rstrip().split(' ')[0]\n",
      "        with open(dataloc,'r') as infile:\n",
      "             for line in infile:\n",
      "                        wordCount(line,counts,kvp[1],class_wordcounts)\n",
      "\n",
      "print class_counts['NEU']\n",
      "total = class_counts['POS']+class_counts['NEG']+class_counts['NEU']\n",
      "total = total *1.0"
     ],
     "language": "python",
     "metadata": {},
     "outputs": [
      {
       "output_type": "stream",
       "stream": "stdout",
       "text": [
        "2000.0\n",
        "404"
       ]
      },
      {
       "output_type": "stream",
       "stream": "stdout",
       "text": [
        "\n"
       ]
      }
     ],
     "prompt_number": 237
    },
    {
     "cell_type": "markdown",
     "metadata": {},
     "source": [
      "You should write a *function* to compute the weights for a given value of $\\alpha$, \n",
      "because you will want to vary this value later."
     ]
    },
    {
     "cell_type": "code",
     "collapsed": false,
     "input": [
      "def learnNBWeights(alpha=0.1):\n",
      "    weights = defaultdict(int)    # your code here\n",
      "    vocab =  len(counts.keys());\n",
      "    for word in counts.keys():\n",
      "        for label in all_labels:\n",
      "            weights[label,word] =log((float) ((counts[word][label] + alpha)/(float)(class_wordcounts[label] + vocab*alpha)))\n",
      "            #+ (log(class_counts[label]/total))\n",
      "    for label in all_labels: \n",
      "        weights[label,offset] = log(class_counts[label]/total) \n",
      "    return weights"
     ],
     "language": "python",
     "metadata": {},
     "outputs": [],
     "prompt_number": 241
    },
    {
     "cell_type": "markdown",
     "metadata": {},
     "source": [
      "**Deliverable 3a**\n",
      "Train a classifier from the training data, and apply it to\n",
      "the development data, with $\\alpha = 0.1$. Report the confusion matrix and the accuracy."
     ]
    },
    {
     "cell_type": "code",
     "collapsed": false,
     "input": [
      "# compute the weights\n",
      "weights_nb = learnNBWeights(alpha=0.1)\n",
      "#print weights_nb\n",
      "weights_nb_without_prior = learnNBWeightsWithoutProir(alpha=0.1)"
     ],
     "language": "python",
     "metadata": {},
     "outputs": [],
     "prompt_number": 242
    },
    {
     "cell_type": "markdown",
     "metadata": {},
     "source": [
      "**Sanity check**: For the following instance, I get the scores shown."
     ]
    },
    {
     "cell_type": "code",
     "collapsed": false,
     "input": [
      "print predict({'good':1,'worst':4,offset:1},weights_nb,all_labels)\n",
      "            #+ (log(class_counts[label]/total))\n"
     ],
     "language": "python",
     "metadata": {},
     "outputs": [
      {
       "output_type": "stream",
       "stream": "stdout",
       "text": [
        "('NEG', Counter({'NEG': -38.464831584556542, 'NEU': -47.058661539464978, 'POS': -47.934292149949883}))\n",
        "('NEG', Counter({'NEG': -34.749353528232476, 'NEU': -40.660711213141248, 'POS': -44.299017281808069}))\n",
        "-0.908818717035\n"
       ]
      }
     ],
     "prompt_number": 243
    },
    {
     "cell_type": "code",
     "collapsed": false,
     "input": [
      "# run this code to evaluate your weights\n",
      "mat = evalClassifier(learnNBWeights,'nb.txt')\n",
      "print scorer.printScoreMessage(mat)"
     ],
     "language": "python",
     "metadata": {},
     "outputs": [
      {
       "output_type": "stream",
       "stream": "stdout",
       "text": [
        "3 classes in key: set(['NEG', 'NEU', 'POS'])\n",
        "3 classes in response: set(['NEG', 'NEU', 'POS'])\n",
        "confusion matrix\n",
        "key\\response:\tNEG\tNEU\tPOS\n",
        "NEG\t\t320\t30\t51\t\n",
        "NEU\t\t79\t35\t78\t\n",
        "POS\t\t64\t38\t305\t\n",
        "----------------\n",
        "accuracy: 0.6600 = 660/1000\n",
        "\n",
        "None\n"
       ]
      }
     ],
     "prompt_number": 231
    },
    {
     "cell_type": "markdown",
     "metadata": {},
     "source": [
      "**Deliverable 3b** Try at least seven different values of $\\alpha$. Plot the accuracy on both the dev and training sets for each value, using [subplot](http://matplotlib.org/api/pyplot_api.html#matplotlib.pyplot.subplot) to show two plots in the same cell."
     ]
    },
    {
     "cell_type": "code",
     "collapsed": false,
     "input": [
      "tr_accs = []\n",
      "dv_accs = []\n",
      "alphas = [.003,.01,.03,.1,0.3,1.0,3.0,10.0,30.0,100.0]# your choice\n",
      "weights_nb_alphas = dict()\n",
      "for alpha in alphas:\n",
      "    print alpha,\n",
      "    # learn the weights\n",
      "    weights_nb_alphas[alpha] = learnNBWeights(alpha) \n",
      "    # evaluate on training data\n",
      "    confusion = evalClassifier(weights_nb_alphas[alpha],'nb.alpha.tr.txt',trainkey)\n",
      "    tr_accs.append(scorer.accuracy(confusion))\n",
      "    # evaluate on dev data\n",
      "    confusion = evalClassifier(weights_nb_alphas[alpha],'nb.alpha.dv.txt',devkey)\n",
      "    dv_accs.append(scorer.accuracy(confusion))\n",
      "    print dv_accs[-1]"
     ],
     "language": "python",
     "metadata": {},
     "outputs": [
      {
       "output_type": "stream",
       "stream": "stdout",
       "text": [
        "0.003 "
       ]
      },
      {
       "output_type": "stream",
       "stream": "stdout",
       "text": [
        "0.624\n",
        "0.01 "
       ]
      },
      {
       "output_type": "stream",
       "stream": "stdout",
       "text": [
        "0.634\n",
        "0.03 "
       ]
      },
      {
       "output_type": "stream",
       "stream": "stdout",
       "text": [
        "0.643\n",
        "0.1 "
       ]
      },
      {
       "output_type": "stream",
       "stream": "stdout",
       "text": [
        "0.66\n",
        "0.3 "
       ]
      },
      {
       "output_type": "stream",
       "stream": "stdout",
       "text": [
        "0.676\n",
        "1.0 "
       ]
      },
      {
       "output_type": "stream",
       "stream": "stdout",
       "text": [
        "0.683\n",
        "3.0 "
       ]
      },
      {
       "output_type": "stream",
       "stream": "stdout",
       "text": [
        "0.694\n",
        "10.0 "
       ]
      },
      {
       "output_type": "stream",
       "stream": "stdout",
       "text": [
        "0.672\n",
        "30.0 "
       ]
      },
      {
       "output_type": "stream",
       "stream": "stdout",
       "text": [
        "0.641\n",
        "100.0 "
       ]
      },
      {
       "output_type": "stream",
       "stream": "stdout",
       "text": [
        "0.582\n"
       ]
      }
     ],
     "prompt_number": 232
    },
    {
     "cell_type": "code",
     "collapsed": false,
     "input": [
      "# run this code to plot the accuracies\n",
      "subplot(1,2,1)\n",
      "plot(log(alphas),tr_accs,'bx-')\n",
      "ylabel('training accuracy')\n",
      "subplot(1,2,2)\n",
      "plot(log(alphas),dv_accs,'rx-')\n",
      "ylabel('dev. accuracy')"
     ],
     "language": "python",
     "metadata": {},
     "outputs": [
      {
       "metadata": {},
       "output_type": "pyout",
       "prompt_number": 233,
       "text": [
        "<matplotlib.text.Text at 0x21c16cc0>"
       ]
      },
      {
       "metadata": {},
       "output_type": "display_data",
       "png": "[encoded data removed]",
       "text": [
        "<matplotlib.figure.Figure at 0x25bc1e10>"
       ]
      }
     ],
     "prompt_number": 233
    },
    {
     "cell_type": "markdown",
     "metadata": {},
     "source": [
      "For the training data , so when we run for training data we get maximum accuracy when value for alpha is very low, as there will be no word for which relative frequency is 0, as all those words were already encountered when we were training the sytem. So, when we increase value of alpha probability will decrease.\n",
      "For the dev data , there will be words which are not found in training set thus, as we increase alpha .probability increases till value of alpha goes to 1 or 3, but then alpha over weighs in denominators , thus probability starts to decrease."
     ]
    },
    {
     "cell_type": "markdown",
     "metadata": {},
     "source": [
      "# 4. Feature Analysis #\n",
      "\n",
      "(_Completing  getTopFeats() - 2 pts, Deliverable 4a - 1pt, 4b - 2 pts, 4c - 2 pts, 4d -5pts . Total 7 pts for CS4650 and 12 pts for CS7650_)\n"
     ]
    },
    {
     "cell_type": "markdown",
     "metadata": {},
     "source": [
      "**Deliverable 4a**\n",
      "What are the words that are most predictive of positive versus negative text?\n",
      "You can measure this by $\\log \\theta_{pos,n} - \\log \\theta_{neg,n}$ (which is similar to the [likelihood ratio test](http://en.wikipedia.org/wiki/Likelihood-ratio_test)).\n",
      "Use $\\alpha = 1$ from the dev data.\n",
      "\n",
      "List the top five words and their counts for each class. Do the same for the top 5 words that predict negative versus positive.\n",
      "\n",
      "Consider using [operator.itemgetter()](http://docs.python.org/2.7/library/operator.html) for easily sorting dictionaries by their values. See my definition of the argmax function above."
     ]
    },
    {
     "cell_type": "code",
     "collapsed": false,
     "input": [
      "def getWeights(alpha):\n",
      "    counts = defaultdict(lambda : Counter()) # hint\n",
      "    class_counts = defaultdict(int) # hint\n",
      "    class_wordcounts = defaultdict(int)\n",
      "    with open('dev-imdb.key','r') as fin:\n",
      "        for i,keyline in enumerate(fin):\n",
      "            kvp = keyline.split();\n",
      "            class_counts[kvp[1]]+=1\n",
      "            dataloc = keyline.rstrip().split(' ')[0]\n",
      "            with open(dataloc,'r') as infile:\n",
      "                 for line in infile:\n",
      "                            wordCount(line,counts,kvp[1],class_wordcounts)\n",
      "    weights = defaultdict(int)    # your code here\n",
      "    vocab =  len(counts.keys());\n",
      "    for word in counts.keys():\n",
      "        for label in all_labels:\n",
      "            weights[label,word] = log((counts[word][label] + alpha)/(class_wordcounts[label] + vocab*alpha))\n",
      "    return weights\n",
      "def getTopFeats(weights,class1,class2,K=5):\n",
      "    topFeats = defaultdict(int) \n",
      "    for key in weights.keys():\n",
      "        if(key[0]== class1):\n",
      "           topFeats[key[1]]= topFeats[key[1]]+weights.get(key)\n",
      "        if(key[0]== class2):\n",
      "            topFeats[key[1]]= topFeats[key[1]]-weights.get(key)\n",
      "   \n",
      "    topFeats= sorted(topFeats.iteritems(),key=operator.itemgetter(1),reverse=True)\n",
      "    output = defaultdict(lambda : Counter()) \n",
      "    \n",
      "    for i in range(0,5):\n",
      "        output[topFeats[i][0]]= counts[topFeats[i][0]]\n",
      "       \n",
      "     \n",
      "    return output;\n",
      "    # your code here"
     ],
     "language": "python",
     "metadata": {},
     "outputs": [],
     "prompt_number": 176
    },
    {
     "cell_type": "code",
     "collapsed": false,
     "input": [
      "# run this\n",
      "#weights_nb_alphas = getWeights(1.0)\n",
      "#print weights_nb_alphas\n",
      "print getTopFeats(weights_nb_alphas[1.0],'POS','NEG')\n",
      "print getTopFeats(weights_nb_alphas[1.0],'NEG','POS')"
     ],
     "language": "python",
     "metadata": {},
     "outputs": [
      {
       "output_type": "stream",
       "stream": "stdout",
       "text": [
        "defaultdict(<function <lambda> at 0x00000000248CB668>, {'yokai': Counter({'POS': 19}), 'palma': Counter({'POS': 16}), 'tarzan': Counter({'POS': 20, 'NEU': 3}), 'spock': Counter({'POS': 17}), 'friendship': Counter({'POS': 21, 'NEU': 2})})\n",
        "defaultdict(<function <lambda> at 0x00000000248CB668>, {'awful': Counter({'NEG': 103, 'NEU': 19, 'POS': 4}), 'kibbutz': Counter({'NEG': 17}), 'sellers': Counter({'NEG': 18, 'NEU': 4}), 'carlito': Counter({'NEG': 19}), 'insult': Counter({'NEG': 19})})"
       ]
      },
      {
       "output_type": "stream",
       "stream": "stdout",
       "text": [
        "\n"
       ]
      }
     ],
     "prompt_number": 177
    },
    {
     "cell_type": "markdown",
     "metadata": {},
     "source": [
      "**Deliverable 4b** Now do the same thing for $\\alpha = 100$. Which words look better to you? \n",
      "Which gave better accuracy? \n",
      "Explain what you think is going on."
     ]
    },
    {
     "cell_type": "code",
     "collapsed": false,
     "input": [
      "# run this\n",
      "#weights_nb_alphas[100] = getWeights(100.0)\n",
      "print getTopFeats(weights_nb_alphas[100.0],'POS','NEG')\n",
      "print getTopFeats(weights_nb_alphas[100.0],'NEG','POS')"
     ],
     "language": "python",
     "metadata": {},
     "outputs": [
      {
       "output_type": "stream",
       "stream": "stdout",
       "text": [
        "defaultdict(<function <lambda> at 0x00000000249ADBA8>, {'great': Counter({'POS': 457, 'NEU': 164, 'NEG': 133}), 'wonderful': Counter({'POS': 100, 'NEU': 15, 'NEG': 13}), 'love': Counter({'POS': 284, 'NEG': 123, 'NEU': 71}), 'best': Counter({'POS': 311, 'NEG': 107, 'NEU': 85}), 'excellent': Counter({'POS': 114, 'NEU': 27, 'NEG': 19})})\n",
        "defaultdict(<function <lambda> at 0x00000000249ADBA8>, {'awful': Counter({'NEG': 103, 'NEU': 19, 'POS': 4}), 'bad': Counter({'NEG': 496, 'NEU': 130, 'POS': 126}), 'worst': Counter({'NEG': 169, 'NEU': 25, 'POS': 17}), 'worse': Counter({'NEG': 111, 'POS': 17, 'NEU': 15}), '?': Counter({'NEG': 738, 'POS': 332, 'NEU': 222})})"
       ]
      },
      {
       "output_type": "stream",
       "stream": "stdout",
       "text": [
        "\n"
       ]
      }
     ],
     "prompt_number": 178
    },
    {
     "cell_type": "markdown",
     "metadata": {},
     "source": [
      "Higher alpha tends to give better accuracy, as now in higher alpha we find words which are have high overall frequency (total count for all of them is atleast greater than 100 ) as compared to alpha =1, where we had words with low frequency. Higher alpha, does now allow words with very low count to get higher probability, which makes sense, as we can derive better results from words which have occured 100 or 1000 times as compared to words which just occur once or twice."
     ]
    },
    {
     "cell_type": "markdown",
     "metadata": {},
     "source": [
      "**Deliverable 4c** Consider the weights for $\\alpha=100$. \n",
      "\n",
      "- Print words $w$ that are in the positive lexicon, but for which $\\log \\phi_{neg,w} > \\log \\phi_{pos,w} + 0.1$. \n",
      "    - (These words are more likely in the negative class, despite being in the positive lexicon.)\n",
      "- Print words $w$ that are in the negative lexicon, but for which the $\\log \\phi_{pos,w} > \\log \\phi_{neg,w} + 0.1$. \n",
      "    - (These words are more likely in the positive class, despite being in the negative lexicon.)\n"
     ]
    },
    {
     "cell_type": "code",
     "collapsed": false,
     "input": [
      "def getTopThresholdWords(weights,class1,class2,K=0.1):\n",
      "    topFeats = defaultdict(int) \n",
      "    for key in weights.keys():\n",
      "        if(key[0]== class1):\n",
      "           topFeats[key[1]]= topFeats[key[1]]+weights.get(key)\n",
      "        if(key[0]== class2):\n",
      "            topFeats[key[1]]= topFeats[key[1]]-weights.get(key)\n",
      "    \n",
      "    topFeats= sorted(topFeats.iteritems(),key=operator.itemgetter(1),reverse=True)\n",
      "    output = defaultdict(lambda : Counter()) \n",
      "    \n",
      "    for i in range(0,len(topFeats)):\n",
      "            if topFeats[i][1] < K:\n",
      "                break\n",
      "            output[topFeats[i][0]]= counts[topFeats[i][0]]\n",
      "    words = []\n",
      "    if class1 == 'POS':\n",
      "        for key in output.keys():\n",
      "            if key in negwords:\n",
      "                words.append(key)\n",
      "    if class1 == 'NEG':\n",
      "        for key in output.keys():\n",
      "            if key in poswords:\n",
      "                words.append(key)\n",
      "\n",
      "    return words;\n",
      "print \"Negative Lexicon\"\n",
      "print getTopThresholdWords(weights_nb_alphas[100.0],'POS','NEG')\n",
      "print \"Positive Lexicon \"\n",
      "print getTopThresholdWords(weights_nb_alphas[100.0],'NEG','POS')\n"
     ],
     "language": "python",
     "metadata": {},
     "outputs": [
      {
       "output_type": "stream",
       "stream": "stdout",
       "text": [
        "Negative Lexicon\n",
        "['struggle', 'critics', 'tragic', 'anger', 'frustrated', 'fun', 'haunting', 'grim', 'losing', 'drama', 'long', 'sadness', 'emotional']"
       ]
      },
      {
       "output_type": "stream",
       "stream": "stdout",
       "text": [
        "\n",
        "Positive Lexicon \n",
        "['just', 'better', 'pretty', 'kind', 'like', 'honestly', 'okay', 'redeeming', 'wonder', 'wow', 'please', 'joke', 'talent', 'funny']"
       ]
      },
      {
       "output_type": "stream",
       "stream": "stdout",
       "text": [
        "\n"
       ]
      }
     ],
     "prompt_number": 179
    },
    {
     "cell_type": "markdown",
     "metadata": {},
     "source": [
      "**Deliverable 4d** (7650 only)\n",
      "\n",
      "What do you think is going on here? Pick one of these words, and look for example reviews that contain it (using [grep](http://en.wikipedia.org/wiki/Grep)). \n",
      "\n",
      "Is the word used in the opposite sense, or is there some other explanation?"
     ]
    },
    {
     "cell_type": "markdown",
     "metadata": {},
     "source": [
      "(explain here)"
     ]
    },
    {
     "cell_type": "code",
     "collapsed": false,
     "input": [
      "#Here, some of the words , which are mentioned in positive lexicon , generally turn out to be part of negative sentences/paragraphs. #Lets take the word \"better\" which is a superlative form of a word good. Better is generally used in positive\n",
      "#connotation stating or comparing qualities . However, in some cases it is used to compare better between the negative ones. example: They could have done such a better job, better designs and animatronics and NO VENUS.\n",
      "#Also, sometimes word makes a different sense, when seen in a sentence. example Yes, this film would have been better made if the real opera singers had made this movie.\n",
      "#   Here \"better\" is used with \"if\" stating the negative things. Some more examples are include \"Even Christmas Vacation was better than this\"\n",
      "#Thus, it is the mix of word used in opposite sense as well as sense changes when taken in context of sentence."
     ],
     "language": "python",
     "metadata": {},
     "outputs": [],
     "prompt_number": 174
    },
    {
     "cell_type": "code",
     "collapsed": false,
     "input": [
      "# Example 1 : Throwing yourself out a window would be better than watching this movie --Here better is used to compare negative alternatives."
     ],
     "language": "python",
     "metadata": {},
     "outputs": [],
     "prompt_number": 175
    },
    {
     "cell_type": "code",
     "collapsed": false,
     "input": [
      "#Example 2:  The book gives you a better development of the characters. --Here better is used in the correct sense, however the paragraph is about how movies destroy the story of the book, so whole paragraph is in negative connotation."
     ],
     "language": "python",
     "metadata": {},
     "outputs": [],
     "prompt_number": 37
    },
    {
     "cell_type": "code",
     "collapsed": false,
     "input": [
      "#Example 3: Would have been a much better movie if the story was confined more to the kidnap instead of the character failings of the kidnappers. -- This paragraph states that movie was not good and how it could have been made better. "
     ],
     "language": "python",
     "metadata": {},
     "outputs": [],
     "prompt_number": 38
    },
    {
     "cell_type": "code",
     "collapsed": false,
     "input": [],
     "language": "python",
     "metadata": {},
     "outputs": [],
     "prompt_number": 42
    },
    {
     "cell_type": "code",
     "collapsed": false,
     "input": [],
     "language": "python",
     "metadata": {},
     "outputs": []
    }
   ],
   "metadata": {}
  }
 ]
}