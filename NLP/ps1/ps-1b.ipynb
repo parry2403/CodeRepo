{
 "metadata": {
  "name": "",
  "signature": "sha256:1f601aedcd9972e8675f0f8de06e34a360a2d5f7607ce18f485f3e0ce759caa2"
 },
 "nbformat": 3,
 "nbformat_minor": 0,
 "worksheets": [
  {
   "cells": [
    {
     "cell_type": "markdown",
     "metadata": {},
     "source": [
      "Problem Set 1b: Discriminative classification\n",
      "==========\n",
      "\n",
      "- In this problem set, you will build on your code from Part 1a, this time implementing perceptron and logistic regression classifiers. \n",
      "- You'll want to copy in code from the first pset, as needed.\n",
      "- This problem set is scored out of 30 points for CS4650 students, 33 points for CS7650. It counts for six points towards your grade.\n",
      "- Read all the way through before starting, so you can budget your time appropriately."
     ]
    },
    {
     "cell_type": "code",
     "collapsed": false,
     "input": [
      "import scorer\n",
      "import operator\n",
      "from collections import defaultdict, Counter\n",
      "import matplotlib.pyplot as plt\n",
      "from nltk.tokenize import word_tokenize, sent_tokenize \n",
      "import numpy as np\n",
      "%pylab --no-import-all inline"
     ],
     "language": "python",
     "metadata": {},
     "outputs": [
      {
       "output_type": "stream",
       "stream": "stdout",
       "text": [
        "Populating the interactive namespace from numpy and matplotlib\n"
       ]
      }
     ],
     "prompt_number": 61
    },
    {
     "cell_type": "code",
     "collapsed": false,
     "input": [
      "trainkey = 'train-imdb.key'\n",
      "devkey = 'dev-imdb.key'\n",
      "testkey = 'test-imdb.key'"
     ],
     "language": "python",
     "metadata": {},
     "outputs": [],
     "prompt_number": 62
    },
    {
     "cell_type": "code",
     "collapsed": false,
     "input": [
      "offset = '**OFFSET**'\n",
      "def dataIterator(keyfile):\n",
      "    with open(keyfile.replace('key','bow'),'r') as bows:\n",
      "        with open(keyfile,'r') as keys:\n",
      "            for keyline in keys:\n",
      "                textloc,label = keyline.rstrip().split(' ')\n",
      "                fcounts = {word:int(count) for word,count in\\\n",
      "                           [x.split(':') for x in bows.readline().rstrip().split(' ')]}\n",
      "                fcounts[offset] = 1\n",
      "                yield fcounts,label"
     ],
     "language": "python",
     "metadata": {},
     "outputs": [],
     "prompt_number": 63
    },
    {
     "cell_type": "code",
     "collapsed": false,
     "input": [
      "# for speed, it's better to just read in all the training instances, since they will fit in memory\n",
      "all_tr_insts = []\n",
      "for inst,label in dataIterator(trainkey):\n",
      "    all_tr_insts.append((inst,label))\n",
      "all_dev_insts = []\n",
      "for inst,label in dataIterator(devkey):\n",
      "    all_dev_insts.append((inst,label))"
     ],
     "language": "python",
     "metadata": {},
     "outputs": [],
     "prompt_number": 64
    },
    {
     "cell_type": "code",
     "collapsed": false,
     "input": [
      "argmax = lambda x : max(x.iteritems(),key=operator.itemgetter(1))[0]"
     ],
     "language": "python",
     "metadata": {},
     "outputs": [],
     "prompt_number": 65
    },
    {
     "cell_type": "code",
     "collapsed": false,
     "input": [
      "# paste your predict function from pset 1a here\n",
      "# you are free to modify it if you can improve it\n",
      "# as before, you should return two outputs: the highest-scoring label, and the scores for all labels\n",
      "def predict(instance,weights,labels):\n",
      "    # your code here\n",
      "   classifer = Counter()\n",
      "   for word in instance:\n",
      "       for label in labels:\n",
      "            classifer[label] +=  weights[label,word]*instance[word]\n",
      "   \n",
      "   return argmax(classifer),classifer"
     ],
     "language": "python",
     "metadata": {},
     "outputs": [],
     "prompt_number": 66
    },
    {
     "cell_type": "code",
     "collapsed": false,
     "input": [
      "all_labels = ['POS','NEG','NEU']\n",
      "def evalClassifier(weights,outfilename,testfile=devkey):    \n",
      "    with open(outfilename,'w') as outfile:\n",
      "        for counts,label in dataIterator(testfile): #iterate through eval set\n",
      "            print >>outfile, predict(counts,weights,all_labels)[0] #print prediction to file\n",
      "    return scorer.getConfusion(testfile,outfilename) #run the scorer on the prediction file"
     ],
     "language": "python",
     "metadata": {},
     "outputs": [],
     "prompt_number": 67
    },
    {
     "cell_type": "markdown",
     "metadata": {},
     "source": [
      "# 5. Perceptron #\n",
      "\n",
      "Implement a perceptron classifier. Using the feature-function\n",
      "representation, include features for each word-class pair, and also an\n",
      "``offset'' feature for each class. Given a set of word counts $\\vec{x}_i$,\n",
      "a true label $y_i$, and a guessed label $\\hat{y}$, your update will be\n",
      "\\begin{align*}\n",
      "\\hat{y} & \\leftarrow \\text{argmax}_y \\vec{\\theta}' f(\\vec{w}_i,y)\\\\\n",
      "\\vec{\\theta} & \\leftarrow \\vec{\\theta} + f(\\vec{w}_i, y_i) - f(\\vec{w}_i, \\hat{y}).\n",
      "\\end{align*}\n",
      "\n",
      "Please write this yourself -- do not use any libraries, and try not to look\n",
      "at other code online.\n",
      "\n",
      "**Sanity check** If you are not careful, learning can be slow. \n",
      "You may need to think a little about how to do this update efficiently. \n",
      "\n",
      "- On my laptop, I can make 10 passes on the training data in roughly 30 seconds, including evaluating the accuracy on the dev and training sets. \n",
      "- You can use the '%%timeit' cell magic to compute statistics like this.\n",
      "- Your code doesn't have to be as fast as mine, but it needs to be written intelligently, and it needs to be fast enough for you to debug it properly.\n",
      "- The '%%prun' cell magic is also useful for diagnosing speed"
     ]
    },
    {
     "cell_type": "markdown",
     "metadata": {},
     "source": [
      "**Deliverable 5a** (5 points)\n",
      "\n",
      "Implement a function that runs the perceptron for a single iteration (one pass through the training data), using the shell below. Signature:\n",
      "\n",
      "- **Input 1**: training set generator: an object that enables you to iterate through a dataset, such as all_tr_insts\n",
      "- **Input 2**: a dictionary of weights, representing the current classifier at the time you call this function\n",
      "- **Input 3**: a list of all possible labels\n",
      "- **Output 1**: the weights after training\n",
      "- **Output 2**: the number of training errors\n",
      "- **Output 3**: the number of training instances\n",
      "\n",
      "The second and third outputs allow you to compute the *training set accuracy*. This way, you can see whether you are overfitting or underfitting."
     ]
    },
    {
     "cell_type": "code",
     "collapsed": false,
     "input": [
      "''' your code '''\n",
      "from itertools import chain #hint, especially if you're obsessive about being pythonic\n",
      "\n",
      "import nltk\n",
      "#nltk.download()\n",
      "from nltk.corpus import stopwords\n",
      "from nltk.stem.wordnet import WordNetLemmatizer\n",
      "from itertools import chain #hint, especially if you're obsessive about being pythonic\n",
      "stopset = set(stopwords.words('english'))\n",
      "lmtzr = WordNetLemmatizer()\n",
      "def wordCount(line,fcounts,category,class_wordcounts,class_words):\n",
      "    sent_tokenize_list =sent_tokenize(line);\n",
      "    for sentence in sent_tokenize_list:\n",
      "            words = word_tokenize(sentence)\n",
      "            for word in words:\n",
      "       #             print word.lower()\n",
      "                    if word.isalpha():\n",
      "                        if word.lower() not in stopset:\n",
      "                            class_wordcounts[category]+=1\n",
      "                            fcounts[lmtzr.lemmatize(word.lower())][category] += 1\n",
      "                            class_words.append(lmtzr.lemmatize(word.lower()))\n",
      "# compute the word counts first, because this can be slow\n",
      "# you may also wish to keep a list of all word types that are observed in the training data\n",
      "counts = defaultdict(lambda : Counter()) # hint\n",
      "class_counts = defaultdict(int) # hint\n",
      "class_wordcounts = defaultdict(int)\n",
      "class_words = []\n",
      "\n",
      "with open('train-imdb.key','r') as fin:\n",
      "    for i,keyline in enumerate(fin):\n",
      "        kvp = keyline.split();\n",
      "        class_counts[kvp[1]]+=1\n",
      "        dataloc = keyline.rstrip().split(' ')[0]\n",
      "        with open(dataloc,'r') as infile:\n",
      "             for line in infile:\n",
      "                        wordCount(line,counts,kvp[1],class_wordcounts,class_words)\n",
      "def oneItPerceptron(data_generator,weights,labels):\n",
      "    tr_err = 0\n",
      "    for i,(counts,label) in enumerate(data_generator):\n",
      "        predicted_label = predict(counts,weights,labels)[0];\n",
      "  #      print predicted_label \n",
      "  #      print label\n",
      "  #      if(i==10):\n",
      "  #          break\n",
      "        if label != predicted_label:\n",
      "            tr_err = tr_err + 1\n",
      "    \n",
      "        for word in counts:\n",
      "            weights[predicted_label,word] =  weights[predicted_label,word] - counts[word]  \n",
      "            weights[label,word] =  weights[label,word] + counts[word]  \n",
      "            \n",
      "    return weights, tr_err, i"
     ],
     "language": "python",
     "metadata": {},
     "outputs": [],
     "prompt_number": 68
    },
    {
     "cell_type": "code",
     "collapsed": false,
     "input": [
      "# this code trains the perceptron for N iterations on the supplied training data\n",
      "def trainPerceptron(N_its,inst_generator=all_tr_insts,labels=all_labels):\n",
      "    tr_acc = [None]*N_its #holder for training accuracy\n",
      "    dv_acc = [None]*N_its #holder for dev accuracy\n",
      "    weights = defaultdict(float) \n",
      "    for i in xrange(N_its):\n",
      "        weights,tr_err,tr_tot = oneItPerceptron(inst_generator,weights,labels) #call your function for a single iteration\n",
      "        confusion = evalClassifier(weights,'perc.txt') #evaluate on dev data\n",
      "        dv_acc[i] = scorer.accuracy(confusion) #compute accuracy\n",
      "        tr_acc[i] = 1. - tr_err/float(tr_tot) #compute training accuracy from output\n",
      "        print i,'dev: ',dv_acc[i],'train: ',tr_acc[i] \n",
      "    return weights, tr_acc, dv_acc"
     ],
     "language": "python",
     "metadata": {},
     "outputs": [],
     "prompt_number": 69
    },
    {
     "cell_type": "markdown",
     "metadata": {},
     "source": [
      "**Deliverable 5b** (1 point): Train your classifier on trainkey for ten iterations, and plot the output, using the code in the cells below. "
     ]
    },
    {
     "cell_type": "code",
     "collapsed": false,
     "input": [
      "w_perc,tr_acc_perc,dv_acc_perc = trainPerceptron(10)"
     ],
     "language": "python",
     "metadata": {},
     "outputs": [
      {
       "output_type": "stream",
       "stream": "stdout",
       "text": [
        "0 dev:  0.589 train:  0.472236118059\n",
        "1"
       ]
      },
      {
       "output_type": "stream",
       "stream": "stdout",
       "text": [
        " dev:  0.632 train:  0.59979989995\n",
        "2"
       ]
      },
      {
       "output_type": "stream",
       "stream": "stdout",
       "text": [
        " dev:  0.55 train:  0.645322661331\n",
        "3"
       ]
      },
      {
       "output_type": "stream",
       "stream": "stdout",
       "text": [
        " dev:  0.597 train:  0.695847923962\n",
        "4"
       ]
      },
      {
       "output_type": "stream",
       "stream": "stdout",
       "text": [
        " dev:  0.455 train:  0.76288144072\n",
        "5"
       ]
      },
      {
       "output_type": "stream",
       "stream": "stdout",
       "text": [
        " dev:  0.608 train:  0.791895947974\n",
        "6"
       ]
      },
      {
       "output_type": "stream",
       "stream": "stdout",
       "text": [
        " dev:  0.45 train:  0.805902951476\n",
        "7"
       ]
      },
      {
       "output_type": "stream",
       "stream": "stdout",
       "text": [
        " dev:  0.477 train:  0.83991995998\n",
        "8"
       ]
      },
      {
       "output_type": "stream",
       "stream": "stdout",
       "text": [
        " dev:  0.496 train:  0.846423211606\n",
        "9"
       ]
      },
      {
       "output_type": "stream",
       "stream": "stdout",
       "text": [
        " dev:  0.425 train:  0.860930465233\n"
       ]
      }
     ],
     "prompt_number": 70
    },
    {
     "cell_type": "code",
     "collapsed": false,
     "input": [
      "# this code makes plots of the training and development set accuracy\n",
      "def makePlots(tr_acc,dv_acc):\n",
      "    ax1 = plt.subplot(1,2,1,xlabel='iteration',ylabel='accuracy')\n",
      "    plt.plot(tr_acc,'rx-')\n",
      "    plt.title('training')\n",
      "    plt.subplot(1,2,2,xlabel='iterator',sharey=ax1)\n",
      "    plt.plot(dv_acc,'bx-')\n",
      "    plt.title('development')"
     ],
     "language": "python",
     "metadata": {},
     "outputs": [],
     "prompt_number": 71
    },
    {
     "cell_type": "code",
     "collapsed": false,
     "input": [
      "makePlots(tr_acc_perc,dv_acc_perc)"
     ],
     "language": "python",
     "metadata": {},
     "outputs": [
      {
       "metadata": {},
       "output_type": "display_data",
       "png": "[encoded data removed]",
       "text": [
        "<matplotlib.figure.Figure at 0x232eb630>"
       ]
      }
     ],
     "prompt_number": 72
    },
    {
     "cell_type": "markdown",
     "metadata": {},
     "source": [
      "**Sanity check** Your training set accuracy should increase quickly, but your dev set accuracy might be disappointing."
     ]
    },
    {
     "cell_type": "markdown",
     "metadata": {},
     "source": [
      "# 6. Averaged Perceptron #\n",
      "\n",
      "Notice how the dev set performance of the perceptron was very unstable. Now you will try to improve it using averaging.\n",
      "\n",
      "Conceptually, the idea is to keep a running total of the weights, and then divide at the end, after $T$ updates:\n",
      "\n",
      "\\begin{align*}\n",
      "\\hat{y} & \\leftarrow \\text{argmax}_y \\theta' f(\\vec{w}_i,y)\\\\\n",
      "\\theta^t & \\leftarrow \\theta^{t-1} + f(\\vec{w}_i, y_i) - f(\\vec{w}_i, \\hat{y})\\\\\n",
      "\\overline{\\theta} & = \\frac{1}{T} \\theta^T\n",
      "\\end{align*}\n",
      "\n",
      "Then you can use $\\overline{\\theta}$ to make predictions.\n",
      "\n",
      "But in practice, this is very inefficient. You can't store the weights after every update -- it's much too big. But you don't want to compute a running sum either. The reason is that the weight vector will quickly become dense, and this would require $O(\\#F)$ operations at every update, where $\\#F$ is the number of features. This is much more work than the standard perceptron update, which only involves the features that are active in the current instance. In a bag-of-words model, each document will typically have only a small fraction of the total vocabulary, and we would like each update to be linear in the number of features active in the document, not the total number of features.\n",
      "\n",
      "An efficient solution was pointed out by [Daume 2006](http://hal3.name/docs/daume06thesis.pdf). \n",
      "Let $\\delta_t$ indicate the update at time $t$.\n",
      "Then, assuming $\\theta^0 = 0$, we have:\n",
      "\n",
      "\\begin{align*}\n",
      "\\theta^t = & \\theta^{t-1} + \\delta_t \\\\\n",
      "= & \\sum_{t' < t} \\delta_{t'}\n",
      "\\end{align*}\n",
      "\n",
      "We would like to compute the sum of the weight vectors,\n",
      "\\begin{align*}\n",
      "\\sum_t^T \\theta_t = & \\sum_t^T \\sum_{t' \\leq t} \\delta_{t'} = T \\delta_0 + (T-1) \\delta_1 + (T - 2) \\delta_2 + \\ldots + \\delta_T \\\\ \n",
      "= & \\sum_t^T (T - t) \\delta_t\\\\\n",
      "= & T \\sum_t^T \\delta_t - \\sum_t^T t \\delta_t \\\\\n",
      "= & T \\theta_t - \\sum_t^T t \\delta_t \\\\\n",
      "\\frac{1}{T} \\sum_t^T \\theta_t = & \\theta_T - \\frac{1}{T} \\sum_t^T t \\delta_t\n",
      "\\end{align*}\n",
      "\n",
      "This means we need to keep another running sum, $\\sum_t^T t \\delta_t$, the sum of scaled updates. \n",
      "To compute the average, we divide by the number of updates $T$ and subtract it from the current weight vector."
     ]
    },
    {
     "cell_type": "markdown",
     "metadata": {},
     "source": [
      "**Deliverable 6a** (5 points) Implement averaged perceptron, using two functions\n",
      "\n",
      "- an outer loop, trainAvgPerceptron, which should have the same inputs and outputs as my trainPerceptron above\n",
      "- an inner loop, oneItAvgPerceptron, which makes a single pass through the training data. To do weight averaging, this function may have to take some additional arguments and offer some additional outputs."
     ]
    },
    {
     "cell_type": "code",
     "collapsed": false,
     "input": [
      "''' you should add code within this function'''\n",
      "def trainAvgPerceptron(N_its,inst_generator=all_tr_insts,labels=all_labels):\n",
      "    tr_acc = [None]*N_its\n",
      "    dv_acc = [None]*N_its\n",
      "    weights = defaultdict(float)\n",
      "    wsum = defaultdict(float)\n",
      "    for i in xrange(N_its):\n",
      "        # You will define oneItAvgPerceptron below. Call it here.\n",
      "        t=i\n",
      "        weights,wsum,tr_err,tr_tot = oneItAvgPerceptron(inst_generator,weights,wsum,labels,t)\n",
      "        # When you are done with this training pass, compute the averaged weights, as shown above.\n",
      "           \n",
      "        avg_weights = defaultdict(float)\n",
      "              \n",
      "        \n",
      "        if t!=0:\n",
      "             for key in wsum.keys():\n",
      "                 avg_weights[key[0],key[1]] = weights[key[0],key[1]] - (wsum[key[0],key[1]])/t\n",
      "        else:\n",
      "             for key in weights.keys():\n",
      "                 avg_weights[key[0],key[1]] = weights[key[0],key[1]]\n",
      "                \n",
      "        confusion = evalClassifier(avg_weights,'perc.txt')\n",
      "        dv_acc[i] = scorer.accuracy(confusion)\n",
      "        tr_acc[i] = 1. - tr_err/float(tr_tot)\n",
      "        print i,'dev:',dv_acc[i],'train:',tr_acc[i]\n",
      "    return weights, tr_acc, dv_acc"
     ],
     "language": "python",
     "metadata": {},
     "outputs": [],
     "prompt_number": 73
    },
    {
     "cell_type": "markdown",
     "metadata": {},
     "source": [
      "Your function oneItAvgPerceptron should be similar to oneItPerceptron, but it needs to take additional arguments to keep track of the running sum of weights, and the total number if instances seen. \n",
      "It also needs to output this information."
     ]
    },
    {
     "cell_type": "code",
     "collapsed": false,
     "input": [
      "''' you should add code within this function '''\n",
      "def oneItAvgPerceptron(inst_generator,weights,wsum,labels,t_init):\n",
      "    tr_err = 0\n",
      "   \n",
      "    if t_init != 0:\n",
      "        for i,(counts,label) in enumerate(inst_generator):\n",
      "            predicted_label = predict(counts,weights,labels)[0];\n",
      "\n",
      "            if label != predicted_label:\n",
      "                tr_err = tr_err + 1\n",
      "         \n",
      "            for word in counts:    \n",
      "                weights[predicted_label,word] =  weights[predicted_label,word] - counts[word]  \n",
      "                weights[label,word] =  weights[label,word] + counts[word]  \n",
      "                wsum[label,word] =  wsum[label,word] + t_init*counts[word]; \n",
      "                wsum[predicted_label,word] =  wsum[predicted_label,word] - t_init*counts[word]; \n",
      "\n",
      "    else:\n",
      "         for i,(counts,label) in enumerate(inst_generator):\n",
      "            predicted_label = predict(counts,weights,labels)[0];\n",
      "\n",
      "            if label != predicted_label:\n",
      "                tr_err = tr_err + 1\n",
      "            for word in counts:\n",
      "                weights[predicted_label,word] =  weights[predicted_label,word] - counts[word]  \n",
      "                weights[label,word] =  weights[label,word] + counts[word]  \n",
      "\n",
      "      \n",
      "            \n",
      "    return weights, wsum, tr_err, i"
     ],
     "language": "python",
     "metadata": {},
     "outputs": [],
     "prompt_number": 74
    },
    {
     "cell_type": "markdown",
     "metadata": {},
     "source": [
      "**Deliverable 6b** (1 point): Train your classifier on trainkey for ten iterations, and plot the output, using the code in the cells below. "
     ]
    },
    {
     "cell_type": "code",
     "collapsed": false,
     "input": [
      "# again, this takes roughly 30 seconds for me\n",
      "w_ap,tr_acc_ap,dv_acc_ap = trainAvgPerceptron(10)"
     ],
     "language": "python",
     "metadata": {},
     "outputs": [
      {
       "output_type": "stream",
       "stream": "stdout",
       "text": [
        "0 dev: 0.589 train: 0.472236118059\n",
        "1"
       ]
      },
      {
       "output_type": "stream",
       "stream": "stdout",
       "text": [
        " dev: 0.587 train: 0.59979989995\n",
        "2"
       ]
      },
      {
       "output_type": "stream",
       "stream": "stdout",
       "text": [
        " dev: 0.65 train: 0.645322661331\n",
        "3"
       ]
      },
      {
       "output_type": "stream",
       "stream": "stdout",
       "text": [
        " dev: 0.635 train: 0.695847923962\n",
        "4"
       ]
      },
      {
       "output_type": "stream",
       "stream": "stdout",
       "text": [
        " dev: 0.647 train: 0.76288144072\n",
        "5"
       ]
      },
      {
       "output_type": "stream",
       "stream": "stdout",
       "text": [
        " dev: 0.593 train: 0.791895947974\n",
        "6"
       ]
      },
      {
       "output_type": "stream",
       "stream": "stdout",
       "text": [
        " dev: 0.608 train: 0.805902951476\n",
        "7"
       ]
      },
      {
       "output_type": "stream",
       "stream": "stdout",
       "text": [
        " dev: 0.568 train: 0.83991995998\n",
        "8"
       ]
      },
      {
       "output_type": "stream",
       "stream": "stdout",
       "text": [
        " dev: 0.553 train: 0.846423211606\n",
        "9"
       ]
      },
      {
       "output_type": "stream",
       "stream": "stdout",
       "text": [
        " dev: 0.548 train: 0.860930465233\n"
       ]
      }
     ],
     "prompt_number": 75
    },
    {
     "cell_type": "code",
     "collapsed": false,
     "input": [
      "makePlots(tr_acc_ap,dv_acc_ap)"
     ],
     "language": "python",
     "metadata": {},
     "outputs": [
      {
       "metadata": {},
       "output_type": "display_data",
       "png": "[encoded data removed]",
       "text": [
        "<matplotlib.figure.Figure at 0x144f9940>"
       ]
      }
     ],
     "prompt_number": 76
    },
    {
     "cell_type": "markdown",
     "metadata": {},
     "source": [
      "**Sanity check** the dev set performance should be much better than the non-averaged perceptron"
     ]
    },
    {
     "cell_type": "markdown",
     "metadata": {},
     "source": [
      "**Deliverable 6c** (2 points) Use your getTopFeats function from pset 1a to compute the top five features for positive and negative classes, by contrasting the weights $\\theta_{pos,n} - \\theta_{neg,n}$ and $\\theta_{neg,n} - \\theta_{pos,n}$"
     ]
    },
    {
     "cell_type": "code",
     "collapsed": false,
     "input": [
      "def getTopFeats(weights,class1,class2,K=5):\n",
      "    topFeats = defaultdict(int) \n",
      "    for key in weights.keys():\n",
      "        if(key[0]== class1):\n",
      "           topFeats[key[1]]= topFeats[key[1]]+weights.get(key)\n",
      "        if(key[0]== class2):\n",
      "            topFeats[key[1]]= topFeats[key[1]]-weights.get(key)\n",
      "   \n",
      "    topFeats= sorted(topFeats.iteritems(),key=operator.itemgetter(1),reverse=True)\n",
      "    output = defaultdict(lambda : Counter()) \n",
      "    \n",
      "    for i in range(0,5):\n",
      "        output[topFeats[i][0]]= counts[topFeats[i][0]]\n",
      "       \n",
      "     \n",
      "    return output;\n",
      "print getTopFeats(w_ap,'POS','NEG',K=5)\n",
      "print getTopFeats(w_ap,'NEG','POS',K=5)"
     ],
     "language": "python",
     "metadata": {},
     "outputs": [
      {
       "output_type": "stream",
       "stream": "stdout",
       "text": [
        "defaultdict(<function <lambda> at 0x000000002295F898>, {'also': Counter({'POS': 367, 'NEG': 201, 'NEU': 181}), 'great': Counter({'POS': 459, 'NEU': 164, 'NEG': 134}), 'well': Counter({'POS': 390, 'NEG': 235, 'NEU': 177}), 'best': Counter({'POS': 311, 'NEG': 107, 'NEU': 85}), 'excellent': Counter({'POS': 114, 'NEU': 27, 'NEG': 19})})\n",
        "defaultdict(<function <lambda> at 0x000000002295F898>, {'nothing': Counter({'NEG': 180, 'POS': 80, 'NEU': 70}), 'poor': Counter({'NEG': 94, 'POS': 26, 'NEU': 19}), 'worst': Counter({'NEG': 169, 'NEU': 25, 'POS': 17}), 'here': Counter({'NEU': 1, 'POS': 1}), 'no': Counter()})"
       ]
      },
      {
       "output_type": "stream",
       "stream": "stdout",
       "text": [
        "\n"
       ]
      }
     ],
     "prompt_number": 77
    },
    {
     "cell_type": "markdown",
     "metadata": {},
     "source": [
      "# 7. Logistic regression #"
     ]
    },
    {
     "cell_type": "code",
     "collapsed": false,
     "input": [
      "from scipy.misc import logsumexp #hint"
     ],
     "language": "python",
     "metadata": {},
     "outputs": [],
     "prompt_number": 78
    },
    {
     "cell_type": "markdown",
     "metadata": {},
     "source": [
      "**Deliverable 7a** (3 points): implement a function to compute the normalized probability of each label.\n",
      "\n",
      "- This function should have the same input arguments as your predict function\n",
      "- It should output a dict, from labels to probabilities\n",
      "- It will need to be fast. You may need to optimize this later. As always, %%prun and %%timeit are your friends."
     ]
    },
    {
     "cell_type": "code",
     "collapsed": false,
     "input": [
      "# compute the normalized probability of each label \n",
      "\n",
      "def computeLabelProbs(instance,weights,labels):\n",
      "    # your code\n",
      "    classifer = Counter()\n",
      "    a = []\n",
      "    for word in instance:\n",
      "      for label in labels:\n",
      "           classifer[label] +=  weights[label,word]*instance[word]\n",
      "           \n",
      "    total = 0.0\n",
      "    i=0\n",
      "    prob = Counter()\n",
      "    a =[]\n",
      "    for label in labels:\n",
      "        a.append(classifer[label])\n",
      "    total =logsumexp(a)\n",
      "    for label in labels:\n",
      "        prob[label] =  np.exp(classifer[label]- total)\n",
      "    t =classifer['POS'] - logsumexp(a)\n",
      "  \n",
      "    return prob\n",
      "\n",
      "def predictLabel(instance,weights,labels):\n",
      "    # your code\n",
      "    classifer = defaultdict(float)\n",
      "    a = []\n",
      "    for word in instance:\n",
      "      for label in labels:\n",
      "           classifer[label] +=  weights[label,word]*instance[word]\n",
      "           \n",
      "    total = 0.0\n",
      "    i=0\n",
      "    prob = Counter()\n",
      "    a =[]\n",
      " #   print weights\n",
      "    for label in labels:\n",
      "        a.append(classifer[label])\n",
      "    total = logsumexp(a)\n",
      "    for label in labels:\n",
      "        prob[label] =   classifer[label] - total\n",
      "  #  print a\n",
      "  #  print  prob\n",
      " #   print prob\n",
      "    return argmax(prob)\n",
      "  #  return {label:prob for ...}"
     ],
     "language": "python",
     "metadata": {},
     "outputs": [],
     "prompt_number": 79
    },
    {
     "cell_type": "markdown",
     "metadata": {},
     "source": [
      "**sanity check**: your code should reproduce my results below"
     ]
    },
    {
     "cell_type": "code",
     "collapsed": false,
     "input": [
      "weights = defaultdict(float)\n",
      "weights[('NEG','bad')] = 1\n",
      "weights[('NEG','best')] = -1\n",
      "weights[('POS','bad')] = -0.5\n",
      "#weights[('POS','bad')] = -500\n",
      "weights[('POS','best')] = 2\n",
      "#weights[('POS','best')] = 500\n",
      "weights[('NEU',offset)] = 3\n",
      "predictLabel({'bad':1,'best':2,offset:1},weights,all_labels)\n",
      "computeLabelProbs({'bad':1,'best':2,offset:1},weights,all_labels)"
     ],
     "language": "python",
     "metadata": {},
     "outputs": [
      {
       "metadata": {},
       "output_type": "pyout",
       "prompt_number": 80,
       "text": [
        "Counter({'POS': 0.61818464707872656, 'NEU': 0.37494794181688146, 'NEG': 0.0068674111043921151})"
       ]
      }
     ],
     "prompt_number": 80
    },
    {
     "cell_type": "markdown",
     "metadata": {},
     "source": [
      "**Deliverable 7b** (4 points) Now implement logistic regression, training by stochastic gradient descent.\n",
      "\n",
      "- I've provided an outline of the code, including the regularization\n",
      "- You need to provide the code that computes the likelihood gradient for this instance\n",
      "- My best implementation is still pretty slow; it takes around 15 seconds per pass through the training set\n",
      "- Unlike the perceptron code, you can do everything within the single function trainLRbySGD\n",
      "- For a reminder about how SGD works, see my notes"
     ]
    },
    {
     "cell_type": "code",
     "collapsed": false,
     "input": [
      "def trainLRbySGD(N_its,inst_generator=all_tr_insts,learning_rate=1e-4,regularizer=1e-2):\n",
      "    w_dict = defaultdict(float)\n",
      "    dv_acc = [None]*N_its\n",
      "    tr_acc = [None]*N_its\n",
      "\n",
      "    # this block is all to take care of regularization\n",
      "    ratereg = learning_rate * regularizer #gratuitous optimization\n",
      "    def regularize(base_feats,t):\n",
      "        for base_feat in base_feats:\n",
      "            for label in all_labels:\n",
      "                w_dict[(label,base_feat)] *= (1 - ratereg) ** (t-last_update[base_feat])\n",
      "            last_update[base_feat] = t\n",
      "\n",
      "    current_weight= 1 - regularizer*learning_rate\n",
      "    N = len(inst_generator)\n",
      "    print N\n",
      "    for it in xrange(N_its):\n",
      "        tr_err = 0\n",
      "        last_update = defaultdict(int) # reset, since we regularize at the end of every iteration\n",
      "        for i,(counts,label) in enumerate(inst_generator):\n",
      "            # apply \"just-in-time\" regularization to the weights for features in this instance\n",
      "            regularize(counts,i)\n",
      "              \n",
      "     \n",
      "            predicted_label = predictLabel(counts,w_dict,all_labels);\n",
      " \n",
      "            if label != predicted_label:\n",
      "                tr_err = tr_err + 1\n",
      "            \n",
      "          #  N = len(w_dict)\n",
      "            for word in counts:\n",
      "                w_dict[predicted_label,word] =  (current_weight*w_dict[predicted_label,word]) - N*learning_rate*counts[word]  \n",
      "                w_dict[label,word] =  (current_weight*w_dict[label,word]) + N*learning_rate*counts[word]  \n",
      "          \n",
      "                # regularize all features at the end of each iteration\n",
      "        regularize([base_feature for label,base_feature in w_dict.keys()],i)\n",
      "        \n",
      "        \n",
      "        dv_acc[it] = scorer.accuracy(evalClassifier(w_dict,'sgd'))\n",
      "        tr_acc[it] = 1. - tr_err/float(i)\n",
      "        print it,'dev:',dv_acc[it],'train:',tr_acc[it]\n",
      "    return w_dict,tr_acc,dv_acc"
     ],
     "language": "python",
     "metadata": {},
     "outputs": [],
     "prompt_number": 81
    },
    {
     "cell_type": "markdown",
     "metadata": {},
     "source": [
      "** Deliverable 7c ** (1 point): run this code to see how it works."
     ]
    },
    {
     "cell_type": "code",
     "collapsed": false,
     "input": [
      "w_sgd,tr_acc_sgd,dv_acc_sgd = trainLRbySGD(10,regularizer=1e-2)\n",
      "makePlots(tr_acc_sgd,dv_acc_sgd)"
     ],
     "language": "python",
     "metadata": {},
     "outputs": [
      {
       "output_type": "stream",
       "stream": "stdout",
       "text": [
        "2000\n",
        "0"
       ]
      },
      {
       "output_type": "stream",
       "stream": "stdout",
       "text": [
        " dev: 0.589 train: 0.472236118059\n",
        "1"
       ]
      },
      {
       "output_type": "stream",
       "stream": "stdout",
       "text": [
        " dev: 0.509 train: 0.588294147074\n",
        "2"
       ]
      },
      {
       "output_type": "stream",
       "stream": "stdout",
       "text": [
        " dev: 0.453 train: 0.667333666833\n",
        "3"
       ]
      },
      {
       "output_type": "stream",
       "stream": "stdout",
       "text": [
        " dev: 0.551 train: 0.709354677339\n",
        "4"
       ]
      },
      {
       "output_type": "stream",
       "stream": "stdout",
       "text": [
        " dev: 0.452 train: 0.751375687844\n",
        "5"
       ]
      },
      {
       "output_type": "stream",
       "stream": "stdout",
       "text": [
        " dev: 0.448 train: 0.775387693847\n",
        "6"
       ]
      },
      {
       "output_type": "stream",
       "stream": "stdout",
       "text": [
        " dev: 0.638 train: 0.802901450725\n",
        "7"
       ]
      },
      {
       "output_type": "stream",
       "stream": "stdout",
       "text": [
        " dev: 0.62 train: 0.835417708854\n",
        "8"
       ]
      },
      {
       "output_type": "stream",
       "stream": "stdout",
       "text": [
        " dev: 0.497 train: 0.857928964482\n",
        "9"
       ]
      },
      {
       "output_type": "stream",
       "stream": "stdout",
       "text": [
        " dev: 0.616 train: 0.865432716358\n"
       ]
      },
      {
       "metadata": {},
       "output_type": "display_data",
       "png": "[encoded data removed]",
       "text": [
        "<matplotlib.figure.Figure at 0x249401d0>"
       ]
      }
     ],
     "prompt_number": 82
    },
    {
     "cell_type": "markdown",
     "metadata": {},
     "source": [
      "** Deliverable 7d ** (1 point): try two other regularizers, one greater than 1e-2, and one less. \n",
      "\n",
      "- print the same output.\n",
      "- store the weights separately"
     ]
    },
    {
     "cell_type": "code",
     "collapsed": false,
     "input": [
      "w_sgdl,tr_acc_sgdl,dv_acc_sgdl =  trainLRbySGD(10,regularizer=1e-3)\n",
      "makePlots(tr_acc_sgdl,dv_acc_sgdl)\n"
     ],
     "language": "python",
     "metadata": {},
     "outputs": [
      {
       "output_type": "stream",
       "stream": "stdout",
       "text": [
        "2000\n",
        "0"
       ]
      },
      {
       "output_type": "stream",
       "stream": "stdout",
       "text": [
        " dev: 0.589 train: 0.472236118059\n",
        "1"
       ]
      },
      {
       "output_type": "stream",
       "stream": "stdout",
       "text": [
        " dev: 0.509 train: 0.588294147074\n",
        "2"
       ]
      },
      {
       "output_type": "stream",
       "stream": "stdout",
       "text": [
        " dev: 0.537 train: 0.653826913457\n",
        "3"
       ]
      },
      {
       "output_type": "stream",
       "stream": "stdout",
       "text": [
        " dev: 0.599 train: 0.723861930965\n",
        "4"
       ]
      },
      {
       "output_type": "stream",
       "stream": "stdout",
       "text": [
        " dev: 0.497 train: 0.748374187094\n",
        "5"
       ]
      },
      {
       "output_type": "stream",
       "stream": "stdout",
       "text": [
        " dev: 0.59 train: 0.789394697349\n",
        "6"
       ]
      },
      {
       "output_type": "stream",
       "stream": "stdout",
       "text": [
        " dev: 0.606 train: 0.810405202601\n",
        "7"
       ]
      },
      {
       "output_type": "stream",
       "stream": "stdout",
       "text": [
        " dev: 0.482 train: 0.832916458229\n",
        "8"
       ]
      },
      {
       "output_type": "stream",
       "stream": "stdout",
       "text": [
        " dev: 0.661 train: 0.855427713857\n",
        "9"
       ]
      },
      {
       "output_type": "stream",
       "stream": "stdout",
       "text": [
        " dev: 0.44 train: 0.84192096048\n"
       ]
      },
      {
       "metadata": {},
       "output_type": "display_data",
       "png": "[encoded data removed]",
       "text": [
        "<matplotlib.figure.Figure at 0x2496c5c0>"
       ]
      }
     ],
     "prompt_number": 83
    },
    {
     "cell_type": "code",
     "collapsed": false,
     "input": [
      "w_sgdh,tr_acc_sgdh,dv_acc_sgdh = trainLRbySGD(10,regularizer=1e-1)\n",
      "makePlots(tr_acc_sgdh,dv_acc_sgdh)"
     ],
     "language": "python",
     "metadata": {},
     "outputs": [
      {
       "output_type": "stream",
       "stream": "stdout",
       "text": [
        "2000\n",
        "0"
       ]
      },
      {
       "output_type": "stream",
       "stream": "stdout",
       "text": [
        " dev: 0.45 train: 0.472736368184\n",
        "1"
       ]
      },
      {
       "output_type": "stream",
       "stream": "stdout",
       "text": [
        " dev: 0.606 train: 0.589294647324\n",
        "2"
       ]
      },
      {
       "output_type": "stream",
       "stream": "stdout",
       "text": [
        " dev: 0.516 train: 0.656328164082\n",
        "3"
       ]
      },
      {
       "output_type": "stream",
       "stream": "stdout",
       "text": [
        " dev: 0.469 train: 0.691845922961\n",
        "4"
       ]
      },
      {
       "output_type": "stream",
       "stream": "stdout",
       "text": [
        " dev: 0.645 train: 0.740870435218\n",
        "5"
       ]
      },
      {
       "output_type": "stream",
       "stream": "stdout",
       "text": [
        " dev: 0.484 train: 0.775387693847\n",
        "6"
       ]
      },
      {
       "output_type": "stream",
       "stream": "stdout",
       "text": [
        " dev: 0.596 train: 0.786893446723\n",
        "7"
       ]
      },
      {
       "output_type": "stream",
       "stream": "stdout",
       "text": [
        " dev: 0.605 train: 0.815907953977\n",
        "8"
       ]
      },
      {
       "output_type": "stream",
       "stream": "stdout",
       "text": [
        " dev: 0.57 train: 0.840420210105\n",
        "9"
       ]
      },
      {
       "output_type": "stream",
       "stream": "stdout",
       "text": [
        " dev: 0.472 train: 0.83991995998\n"
       ]
      },
      {
       "metadata": {},
       "output_type": "display_data",
       "png": "[encoded data removed]",
       "text": [
        "<matplotlib.figure.Figure at 0x272650b8>"
       ]
      }
     ],
     "prompt_number": 84
    },
    {
     "cell_type": "markdown",
     "metadata": {},
     "source": [
      "**Deliverable 7e** (1 point): compute the top five features for each set of weights (from each regularizer), using your getTopFeats function. Explain what the resulting feature weights show about the effect of regularization."
     ]
    },
    {
     "cell_type": "code",
     "collapsed": false,
     "input": [],
     "language": "python",
     "metadata": {},
     "outputs": [],
     "prompt_number": 84
    },
    {
     "cell_type": "code",
     "collapsed": false,
     "input": [
      "print getTopFeats(w_sgd,'POS','NEG',K=5)\n",
      "print getTopFeats(w_sgd,'NEG','POS',K=5)\n",
      "print getTopFeats(w_sgdl,'POS','NEG',K=5)\n",
      "print getTopFeats(w_sgdl,'NEG','POS',K=5)\n",
      "print getTopFeats(w_sgdh,'POS','NEG',K=5)\n",
      "print getTopFeats(w_sgdh,'NEG','POS',K=5)\n",
      "\n",
      "#First of all increasing or decreasing the value of regulariser makes the graph more uneven compared to earlier regularizer\n",
      "# Decreasing the value of regularization shows the effect on Pos-Neg Top Feats, such that elements with lower count are preferred \n",
      "# where relative differerence is high . example loved,best are preferred over well and excellent.\n",
      "# Increasing the value of regularization makes changes in Neg-Pos. We get better words as compared to previous as we are getting\n",
      "# more negative words like no,awful comapred to here and nothing which are more of neutral words. It gives preference to word with \n",
      "# higher negative count such as no and which have higer difference ratio."
     ],
     "language": "python",
     "metadata": {},
     "outputs": [
      {
       "output_type": "stream",
       "stream": "stdout",
       "text": [
        "defaultdict(<function <lambda> at 0x00000000230DB898>, {'great': Counter({'POS': 459, 'NEU': 164, 'NEG': 134}), 'wonderful': Counter({'POS': 100, 'NEU': 15, 'NEG': 13}), 'well': Counter({'POS': 390, 'NEG': 235, 'NEU': 177}), 'life': Counter({'POS': 344, 'NEG': 155, 'NEU': 102}), 'excellent': Counter({'POS': 114, 'NEU': 27, 'NEG': 19})})\n",
        "defaultdict(<function <lambda> at 0x00000000230DB898>, {'nothing': Counter({'NEG': 180, 'POS': 80, 'NEU': 70}), 'poor': Counter({'NEG': 94, 'POS': 26, 'NEU': 19}), 'bad': Counter({'NEG': 496, 'NEU': 130, 'POS': 126}), 'worst': Counter({'NEG': 169, 'NEU': 25, 'POS': 17}), 'here': Counter({'NEU': 1, 'POS': 1})})"
       ]
      },
      {
       "output_type": "stream",
       "stream": "stdout",
       "text": [
        "\n",
        "defaultdict(<function <lambda> at 0x00000000230DB898>, {'loved': Counter({'POS': 68, 'NEU': 22, 'NEG': 15}), 'great': Counter({'POS': 459, 'NEU': 164, 'NEG': 134}), 'wonderful': Counter({'POS': 100, 'NEU': 15, 'NEG': 13}), 'best': Counter({'POS': 311, 'NEG': 107, 'NEU': 85}), 'excellent': Counter({'POS': 114, 'NEU': 27, 'NEG': 19})})"
       ]
      },
      {
       "output_type": "stream",
       "stream": "stdout",
       "text": [
        "\n",
        "defaultdict(<function <lambda> at 0x00000000230DB898>, {'nothing': Counter({'NEG': 180, 'POS': 80, 'NEU': 70}), 'poor': Counter({'NEG': 94, 'POS': 26, 'NEU': 19}), 'bad': Counter({'NEG': 496, 'NEU': 130, 'POS': 126}), 'worst': Counter({'NEG': 169, 'NEU': 25, 'POS': 17}), 'could': Counter({'NEG': 363, 'POS': 220, 'NEU': 149})})"
       ]
      },
      {
       "output_type": "stream",
       "stream": "stdout",
       "text": [
        "\n",
        "defaultdict(<function <lambda> at 0x00000000230DB898>, {'wonderful': Counter({'POS': 100, 'NEU': 15, 'NEG': 13}), 'great': Counter({'POS': 459, 'NEU': 164, 'NEG': 134}), 'still': Counter({'POS': 195, 'NEG': 135, 'NEU': 121}), 'best': Counter({'POS': 311, 'NEG': 107, 'NEU': 85}), 'excellent': Counter({'POS': 114, 'NEU': 27, 'NEG': 19})})"
       ]
      },
      {
       "output_type": "stream",
       "stream": "stdout",
       "text": [
        "\n",
        "defaultdict(<function <lambda> at 0x00000000230DB898>, {'poor': Counter({'NEG': 94, 'POS': 26, 'NEU': 19}), 'awful': Counter({'NEG': 103, 'NEU': 19, 'POS': 4}), 'bad': Counter({'NEG': 496, 'NEU': 130, 'POS': 126}), 'worst': Counter({'NEG': 169, 'NEU': 25, 'POS': 17}), 'no': Counter()})"
       ]
      },
      {
       "output_type": "stream",
       "stream": "stdout",
       "text": [
        "\n"
       ]
      }
     ],
     "prompt_number": 85
    },
    {
     "cell_type": "markdown",
     "metadata": {},
     "source": [
      "** Extra credit ** (2 points): My implementation of regularization looks pretty different from how it is explained in the reading, but I claim that my regularizer is functionally identical. What's going on? Can you explain why I'm right or why I'm wrong?\n",
      "\n",
      "Answer : The purpose of regularization is to keep check , so as to avoid over fitting. We use Laplace and different other types of normalizations for this. For Logistic Regression , we use L2 normalization, which is basically learning rate times sum of square of  feature weights and contributes learning rate times feature weight. In order, when we are normalising we are making sure to keep track of last update of the feature/word and if a particular word keeps on occuring then we make sure that we keep on multiplying it by \n",
      "(1- ratereg). However if a word occurs after a lot of instances then value weight would be multiplied by is (1- ratereg)**(t-last_update), (t-last_update) will be high for so factor would be multiplied by a smaller number. This step is done for each instance weight and it is also done at the end of all documents for each of the documents. It is done in the end for saame purpose as some of the words might have occurred very less, so as to accomodate for them, as difference for (t-last_update) will be high for them . "
     ]
    },
    {
     "cell_type": "markdown",
     "metadata": {},
     "source": [
      "# 8. Making it better #\n",
      "\n",
      "In this independent component, will improve your classifiers from either pset 1a or 1b. There are two general paths for improving these classifiers: data and algorithms.\n",
      "\n",
      "- Data-oriented approaches relate to the features. For example, you could try to use bigrams, remove stopwords, lemmatize (using wordnet), etc. Or, you could try non-linear feature combinations such as the presence of pairs of words, etc.\n",
      "- Algorithm-oriented approaches relate to the learning itself. For example, you could implement Passive-Aggressive, AdaGrad (described in my notes), feature hashing (see [this paper](http://alex.smola.org/papers/2009/Weinbergeretal09.pdf)), alternative regularizers, or various improvements to naive bayes (see [this paper](http://people.csail.mit.edu/jrennie/papers/icml03-nb.pdf)). Note that not all these approaches will improve accuracy; some will improve speed. You may want to look into some of the supplemental reading to get ideas for improvements.\n",
      "- Students in 4650 should try one improvement of either type; students in 7650 should try one improvement of each type.\n",
      "\n",
      "**Deliverable 8** (3 points for 4650; 6 points for 7650): Clearly explain what you did, and why you thought it would\n",
      "work. Do an experiment to test whether it works. Creativity and thoughtfulness counts more than raw performance here."
     ]
    },
    {
     "cell_type": "code",
     "collapsed": false,
     "input": [
      "  #Data Oriented :  For Data Oriented , I have removed the stopwords and lemmatized the test data. By removing the stopwords,\n",
      "  #we tend to ignore the effect of lets say having too many and,or the a , to which can unnecesaarily make the sentence neutral even \n",
      "  #when it has postive or negative connotation. I have also lematized the sentences as it reduces the feature vector and reduces computation.\n",
      "  #Algorithm-oriented : For Algorithmic changes, I tried making some enhancements in the naive Bayes Theorm. First, we try to remove\n",
      "  #skewed data bias that is having training data more for one type of class.If we had same amount of training data then this effect \n",
      "  #is very less. This was removed by making use of the negation which is equal to number of times word i occurred in documents in classes\n",
      "  #other than c and N~c is the total number of word occurrences in classes other\n",
      "  #than c. Then we make changes in predict function as log(classprob) - summation of product of weights with ocurences. It gives us more \n",
      "  #stable and better result than before. I also tried using weight normalised but it was not making any performance enhancements but\\\n",
      "  #was making process slower so I didnt use that.\n",
      "    \n",
      "  #  Implementation for this is below. Using the above steps, I am getting around 71 percent accuracy as compared to 63 earlier for Naive \n",
      "  # Bayes"
     ],
     "language": "python",
     "metadata": {},
     "outputs": [],
     "prompt_number": 86
    },
    {
     "cell_type": "code",
     "collapsed": false,
     "input": [
      "import nltk\n",
      "#nltk.download()\n",
      "from nltk.corpus import stopwords\n",
      "from nltk.stem.wordnet import WordNetLemmatizer\n",
      "from itertools import chain #hint, especially if you're obsessive about being pythonic\n",
      "stopset = set(stopwords.words('english'))\n",
      "lmtzr = WordNetLemmatizer()\n",
      "def wordCount(line,fcounts,category,class_wordcounts,class_words):\n",
      "    sent_tokenize_list =sent_tokenize(line);\n",
      "    for sentence in sent_tokenize_list:\n",
      "            words = word_tokenize(sentence)\n",
      "            for word in words:\n",
      "       #             print word.lower()\n",
      "                    if word.isalpha():\n",
      "                        if word.lower() not in stopset:\n",
      "                            class_wordcounts[category]+=1\n",
      "                            fcounts[lmtzr.lemmatize(word.lower())][category] += 1\n",
      "                            class_words.append(lmtzr.lemmatize(word.lower()))\n",
      "# compute the word counts first, because this can be slow\n",
      "# you may also wish to keep a list of all word types that are observed in the training data\n",
      "counts = defaultdict(lambda : Counter()) # hint\n",
      "class_counts = defaultdict(int) # hint\n",
      "class_wordcounts = defaultdict(int)\n",
      "class_words = []\n",
      "with open('train-imdb.key','r') as fin:\n",
      "    for i,keyline in enumerate(fin):\n",
      "        kvp = keyline.split();\n",
      "        class_counts[kvp[1]]+=1\n",
      "        dataloc = keyline.rstrip().split(' ')[0]\n",
      "        with open(dataloc,'r') as infile:\n",
      "             for line in infile:\n",
      "                        wordCount(line,counts,kvp[1],class_wordcounts,class_words)\n",
      "\n",
      "print class_counts['NEU']\n",
      "total = class_counts['POS']+class_counts['NEG']+class_counts['NEU']\n",
      "total = total *1.0\n",
      "def predict(instance,weights,labels):\n",
      " \n",
      "   classifer = Counter()\n",
      "   for word in instance:\n",
      "       for label in labels:\n",
      "            if word != offset:\n",
      "                classifer[label] =   classifer[label] - weights[label,word]*instance[word]\n",
      "            else:\n",
      "                classifer[label] =   classifer[label] + weights[label,word]*instance[word]\n",
      "                                        #     classifer[label] +=  weights[label,word]*instance[word]\n",
      "  \n",
      "   return argmax(classifer), classifer\n",
      "\n",
      "def evalClassifier(weights,outfilename,testfile=devkey):    \n",
      "    with open(outfilename,'w') as outfile: #open the output file\n",
      "        for counts,label in dataIterator(testfile): #iterate through eval set\n",
      "            print >>outfile, predict(counts,weights,all_labels)[0] #print prediction to file\n",
      "       #     break\n",
      "    return scorer.getConfusion(testfile,outfilename) #run the scorer on the prediction file\n",
      "\n",
      "def learnNBWeights(alpha=0.1):\n",
      "    weights = defaultdict(int)    # your code here\n",
      "    vocab =  len(counts.keys());\n",
      "    for word in counts.keys():\n",
      "        class_freq = defaultdict(int)\n",
      "        for label in all_labels:\n",
      "            N_word = 0\n",
      "            N_class = 0\n",
      "            for mylabel in  all_labels:\n",
      "                if label != mylabel:\n",
      "                        N_word = N_word + counts[word][mylabel]\n",
      "                        N_class = N_class + class_wordcounts[mylabel]\n",
      "            weights[label,word] =np.log((float) ((N_word + alpha)/(float)(N_class + vocab*alpha)))\n",
      "  \n",
      "    for label in all_labels: \n",
      "        weights[label,offset] = np.log(class_counts[label]/total) \n",
      "    return weights\n",
      "\n",
      "weights_nb = learnNBWeights(alpha=10.0)\n",
      "# run this code to evaluate your weights\n",
      "mat = evalClassifier(weights_nb,'nb.txt')\n",
      "print scorer.printScoreMessage(mat)\n",
      "\n",
      "tr_accs = []\n",
      "dv_accs = []\n",
      "alphas = [5,8,9,11,12,13,20, .003,.01,.03,.1,0.3,1.0,3.0,10.0,30.0,100.0]# your choice\n",
      "weights_nb_alphas = dict()\n",
      "for alpha in alphas:\n",
      "    print alpha,\n",
      "   # learn the weights\n",
      "    weights_nb_alphas[alpha] = learnNBWeights(alpha) \n",
      "    # evaluate on training data\n",
      "    confusion = evalClassifier(weights_nb_alphas[alpha],'nb.alpha.tr.txt',trainkey)\n",
      "    tr_accs.append(scorer.accuracy(confusion))\n",
      "    # evaluate on dev data\n",
      "    confusion = evalClassifier(weights_nb_alphas[alpha],'nb.alpha.dv.txt',devkey)\n",
      "    dv_accs.append(scorer.accuracy(confusion))\n",
      "    print dv_accs[-1]\n",
      "# compute the weights\n",
      "weights_nb = learnNBWeights(alpha=10.0)\n",
      "# run this code to evaluate your weights\n",
      "mat = evalClassifier(weights_nb,'nb.txt')\n",
      "print scorer.printScoreMessage(mat)"
     ],
     "language": "python",
     "metadata": {},
     "outputs": [
      {
       "output_type": "stream",
       "stream": "stdout",
       "text": [
        "404\n",
        "3 classes in key: set(['NEG', 'NEU', 'POS'])"
       ]
      },
      {
       "output_type": "stream",
       "stream": "stdout",
       "text": [
        "\n",
        "2 classes in response: set(['NEG', 'POS'])\n",
        "confusion matrix\n",
        "key\\response:\tNEG\tPOS\n",
        "NEG\t\t340\t61\t\n",
        "NEU\t\t85\t107\t\n",
        "POS\t\t40\t367\t\n",
        "----------------\n",
        "accuracy: 0.7070 = 707/1000\n",
        "\n",
        "None\n",
        "5 "
       ]
      },
      {
       "output_type": "stream",
       "stream": "stdout",
       "text": [
        "0.701\n",
        "8 "
       ]
      },
      {
       "output_type": "stream",
       "stream": "stdout",
       "text": [
        "0.709\n",
        "9 "
       ]
      },
      {
       "output_type": "stream",
       "stream": "stdout",
       "text": [
        "0.708\n",
        "11 "
       ]
      },
      {
       "output_type": "stream",
       "stream": "stdout",
       "text": [
        "0.707\n",
        "12 "
       ]
      },
      {
       "output_type": "stream",
       "stream": "stdout",
       "text": [
        "0.707\n",
        "13 "
       ]
      },
      {
       "output_type": "stream",
       "stream": "stdout",
       "text": [
        "0.705\n",
        "20 "
       ]
      },
      {
       "output_type": "stream",
       "stream": "stdout",
       "text": [
        "0.705\n",
        "0.003 "
       ]
      },
      {
       "output_type": "stream",
       "stream": "stdout",
       "text": [
        "0.481\n",
        "0.01 "
       ]
      },
      {
       "output_type": "stream",
       "stream": "stdout",
       "text": [
        "0.502\n",
        "0.03 "
       ]
      },
      {
       "output_type": "stream",
       "stream": "stdout",
       "text": [
        "0.525\n",
        "0.1 "
       ]
      },
      {
       "output_type": "stream",
       "stream": "stdout",
       "text": [
        "0.567\n",
        "0.3 "
       ]
      },
      {
       "output_type": "stream",
       "stream": "stdout",
       "text": [
        "0.63\n",
        "1.0 "
       ]
      },
      {
       "output_type": "stream",
       "stream": "stdout",
       "text": [
        "0.679\n",
        "3.0 "
       ]
      },
      {
       "output_type": "stream",
       "stream": "stdout",
       "text": [
        "0.698\n",
        "10.0 "
       ]
      },
      {
       "output_type": "stream",
       "stream": "stdout",
       "text": [
        "0.707\n",
        "30.0 "
       ]
      }
     ]
    },
    {
     "cell_type": "markdown",
     "metadata": {},
     "source": [
      "# 9. Bakeoff! #\n",
      "\n",
      "48 hours before the assignment is due, I will send you unlabeled test\n",
      "data. Your job is to produce a response file that I can evaluate. I'll \n",
      "present the results in class and give the best scorers a chance to explain\n",
      "what they did.\n",
      "\n",
      "** Deliverable 10 ** (3 points) Run your best system from any part of the\n",
      "assignment on the test data. Recall that evalClassifier() produces a response file. Rename this file \n",
      "lastname-firstname.response, and include it in your submission on T-Square. (Please get this \n",
      "filename right, otherwise we may miss your submission to the bakeoff.) The top scores will be announced in\n",
      "class.\n"
     ]
    },
    {
     "cell_type": "code",
     "collapsed": false,
     "input": [
      "devkey1 = 'dev-imdb1.key'\n",
      "def docsToBOWs(keyfile):\n",
      "     with open(keyfile,'r') as keys:\n",
      "         with open(keyfile.replace('.key','.bow'),'w') as outfile:\n",
      "            for keyline in keys:\n",
      "                dataloc = keyline.rstrip().split(' ')[0]\n",
      "             #   fcounts = ... #add code here\n",
      "                fcounts = Counter()\n",
      "                with open(dataloc,'r') as infile:\n",
      "                    for line in infile:\n",
      "                        myTokenizer(line,fcounts)\n",
      "                for word,count in fcounts.items():\n",
      "                    print >>outfile,\"{}:{}\".format(word,count), #write the word and its count to a line\n",
      "                print >>outfile,\"\"\n",
      "        \n",
      "def myTokenizer(line,fcounts):\n",
      "    sent_tokenize_list =sent_tokenize(line);\n",
      "    for sentence in sent_tokenize_list:\n",
      "            words = word_tokenize(sentence)\n",
      "            for word in words:\n",
      "       #             print word.lower()\n",
      "                    if word.isalpha():\n",
      "                            fcounts[lmtzr.lemmatize(word.lower())] += 1\n",
      "\n",
      "docsToBOWs(testkey)\n",
      "docsToBOWs(devkey1)\n",
      "#all_test_insts = []\n",
      "#for inst,label in dataIterator(testkey):\n",
      "def evalClassifiers(weights,outfilename,testfile=devkey):    \n",
      "    with open(outfilename,'w') as outfile: #open the output file\n",
      "        for counts,label in dataIterators(testfile): #iterate through eval set\n",
      "            print >>outfile, predict(counts,weights,all_labels)[0] #print prediction to file\n",
      "       #     break\n",
      "    return scorer.getConfusion(testfile,outfilename) #run the scorer on the prediction file\n",
      "offset = '**OFFSET**'\n",
      "def dataIterators(keyfile):\n",
      "    with open(keyfile.replace('key','bow'),'r') as bows:\n",
      "        with open(keyfile,'r') as keys:\n",
      "            for keyline in keys:\n",
      "                textloc= keyline\n",
      "                fcounts = {word:int(count) for word,count in\\\n",
      "                           [x.split(':') for x in bows.readline().rstrip().split(' ')]}\n",
      "                fcounts[offset] = 1\n",
      "                yield fcounts,label\n",
      "mat = evalClassifiers(weights_nb,'bhatia-parminder.response',testkey)\n",
      "#print scorer.printScoreMessage(mat)"
     ],
     "language": "python",
     "metadata": {},
     "outputs": []
    },
    {
     "cell_type": "code",
     "collapsed": false,
     "input": [],
     "language": "python",
     "metadata": {},
     "outputs": []
    },
    {
     "cell_type": "code",
     "collapsed": false,
     "input": [],
     "language": "python",
     "metadata": {},
     "outputs": []
    }
   ],
   "metadata": {}
  }
 ]
}