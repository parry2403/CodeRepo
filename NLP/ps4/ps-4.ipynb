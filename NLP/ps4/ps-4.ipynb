{
 "metadata": {
  "name": "",
  "signature": "sha256:44e10b021ec06322be6b082c3afe64bede942e6cb3db0a0e4b8275d546a20171"
 },
 "nbformat": 3,
 "nbformat_minor": 0,
 "worksheets": [
  {
   "cells": [
    {
     "cell_type": "markdown",
     "metadata": {},
     "source": [
      "# Project 4. Latent Semantic Analysis and Semi-Supervised Learning #\n",
      "\n",
      "In this assignment, you will use singular value decomposition (SVD) to learn about lexical semantics. You will have to work with \"big\" data: big enough that you will have to think carefully about speed and memory. Of particular importance will **sparse** matrix representations of your data. Some particular functions and classes you might need:\n",
      "\n",
      "- [scipy.sparse.csr_matrix](http://docs.scipy.org/doc/scipy/reference/generated/scipy.sparse.csr_matrix.html) - matrix in compressed sparse row format\n",
      "- [scipy.sparse.diags](http://docs.scipy.org/doc/scipy/reference/generated/scipy.sparse.diags.html) - method for creating sparse diagonal matrices\n",
      "- [diagonal()](http://docs.scipy.org/doc/numpy/reference/generated/numpy.diagonal.html) - get the diagonal of a matrix\n",
      "- [sklearn.preprocessing.normalize](http://scikit-learn.org/stable/modules/generated/sklearn.preprocessing.normalize.html) - efficiently normalize sparse matrices\n",
      "- [scipy.sparse.csr_matrix.asfptype()](http://docs.scipy.org/doc/scipy/reference/generated/scipy.sparse.csr_matrix.asfptype.html) - upcast matrix to a floating point format\n",
      "- [scipy.cluster.vq.kmeans2](http://docs.scipy.org/doc/scipy/reference/generated/scipy.cluster.vq.kmeans2.html#scipy.cluster.vq.kmeans2) - Classify a set of observations into k clusters using the k-means algorithm\n",
      "- [numpy.argsort](http://docs.scipy.org/doc/numpy/reference/generated/numpy.argsort.html) - returns the indices that would sort an array\n"
     ]
    },
    {
     "cell_type": "code",
     "collapsed": false,
     "input": [
      "%pylab inline\n",
      "from scipy.sparse.linalg import svds\n",
      "from scipy.sparse import hstack, diags, csr_matrix\n",
      "from sklearn.preprocessing import normalize\n",
      "import numpy as np\n",
      "import csv\n",
      "import scorer, operator\n",
      "from collections import defaultdict, Counter\n",
      "import matplotlib.pyplot as plt\n",
      "%pylab --no-import-all inline"
     ],
     "language": "python",
     "metadata": {},
     "outputs": [
      {
       "output_type": "stream",
       "stream": "stdout",
       "text": [
        "Populating the interactive namespace from numpy and matplotlib\n",
        "Populating the interactive namespace from numpy and matplotlib"
       ]
      },
      {
       "output_type": "stream",
       "stream": "stdout",
       "text": [
        "\n"
       ]
      }
     ],
     "prompt_number": 1
    },
    {
     "cell_type": "code",
     "collapsed": false,
     "input": [
      "def csv2csr(filename):\n",
      "    word = []\n",
      "    context = []\n",
      "    count = []\n",
      "    with open(filename,'rb') as infile:\n",
      "        reader = csv.reader(infile)\n",
      "        for row in reader:\n",
      "            word.append(int(row[0]))\n",
      "            context.append(int(row[1]))\n",
      "            count.append(int(row[2]))\n",
      "    return csr_matrix((count,(word,context)))\n",
      "\n",
      "def readVocab(filename):\n",
      "    vocab = []\n",
      "    with open(filename,'rb') as vocabfile:\n",
      "        for line in vocabfile:\n",
      "            vocab.append(line.split()[0])\n",
      "    index = dict(zip(range(0,len(vocab)),vocab)) #from numbers to words\n",
      "    inv_index = {j:i for i,j in index.items()} #from words to numbers\n",
      "    return index,inv_index"
     ],
     "language": "python",
     "metadata": {},
     "outputs": [],
     "prompt_number": 2
    },
    {
     "cell_type": "markdown",
     "metadata": {},
     "source": [
      "## 1. Loading the Data ##\n",
      "\n",
      "Call **C=proj4_starter.csv2csr('doc_trips.csv')** to load a sparse matrix $C$ of a word-document counts. The cell $c[i,j]$ should \n",
      "hold the count of word $i$ in document $j$.\n",
      "\n",
      "Call **idx, iidx=proj4_starter.readVocab('vocab.10k')** to load the vocabulary. You get two **dict** objects, mapping between words \n",
      "and indices in the matrix $C$. In **C[iidx['Obama'],:]**, you have the document counts for the word *Obama*."
     ]
    },
    {
     "cell_type": "code",
     "collapsed": false,
     "input": [],
     "language": "python",
     "metadata": {},
     "outputs": [],
     "prompt_number": 2
    },
    {
     "cell_type": "code",
     "collapsed": false,
     "input": [
      "'''\n",
      "Load data and dictionaries\n",
      "'''\n",
      "C = csv2csr('doc_trips.csv')\n",
      "idx, iidx = readVocab('vocab.10k')\n"
     ],
     "language": "python",
     "metadata": {},
     "outputs": [],
     "prompt_number": 3
    },
    {
     "cell_type": "code",
     "collapsed": false,
     "input": [],
     "language": "python",
     "metadata": {},
     "outputs": [],
     "prompt_number": 3
    },
    {
     "cell_type": "markdown",
     "metadata": {},
     "source": [
      "## 2. Cosine Similarity ##\n",
      "\n",
      "The *cosine similarity* of two vectors $u$ and $v$ is defined as \n",
      "$$\\frac{\\sum_{i}u_iv_i}{\\sqrt{\\sum_iu_i^2\\sum_iv_i^2}}$$"
     ]
    },
    {
     "cell_type": "markdown",
     "metadata": {},
     "source": [
      "** Deliverable 1** Consider the words *coffee, play, crazy, facebook*, and *hermana* (Spanish for *sister*). For each of them, find \n",
      "the 10 most similar words according to cosine similarity of the rows in $C$.\n",
      "\n",
      "**Hint** The size of the vocabulary is nearly 10,000 words. You do not want to compute and store the entire $10K\\times 10K$ matrix \n",
      "of cosine similarities. Rather, you want to compute them on demand for a given row of the matrix. You may also want to do some\n",
      "precomputation to take care of denominator in advance. Whatever you do, don't lose the sparsity of $C$, or you will not be able \n",
      "to store it.\n",
      "\n",
      "**Sanity check** For *facebook*, the top 5 words I get are *facebook page on twitter deleted*"
     ]
    },
    {
     "cell_type": "code",
     "collapsed": false,
     "input": [
      "# Here is the word list\n",
      "word_list = ['coffee','play','crazy','facebook','hermana']"
     ],
     "language": "python",
     "metadata": {},
     "outputs": [],
     "prompt_number": 4
    },
    {
     "cell_type": "code",
     "collapsed": false,
     "input": [
      "def normalizeRow(x):\n",
      "    '''\n",
      "    Normalize each row of x\n",
      "    \n",
      "    Args:\n",
      "    x - data matrix\n",
      "    Return:\n",
      "    row-normalized x\n",
      "    '''\n",
      "    return diags(np.array(1./(1e-6+np.sqrt(x.multiply(x).sum(axis=1))))[:,0],0) * x\n",
      "    \n",
      "\n",
      "def computeCosSimPerWord(word_idx, x):\n",
      "    '''\n",
      "    For a given data matrix, compute cosine similarity between the word vocab[word_index] and all words \n",
      "    (including itself)\n",
      "    \n",
      "    Args:\n",
      "    word_idx - the index of one word\n",
      "    x - data matrix\n",
      "    Return:\n",
      "    The cosine similarity between x[word_idx,:] and all other words\n",
      "    '''\n",
      "    print word_idx\n",
      "    word = x[word_idx,:].transpose()\n",
      "    output = x*word\n",
      "    simMat = np.array(output.todense())[:,0]\n",
      "  #  simMat[word_idx] = -1\n",
      "    return simMat\n",
      "## \n",
      "normalizedC = normalizeRow(C)"
     ],
     "language": "python",
     "metadata": {},
     "outputs": [],
     "prompt_number": 5
    },
    {
     "cell_type": "code",
     "collapsed": false,
     "input": [
      "def printSimilarWords(x, word_list, sim_func, vocab=idx, ivocab=iidx):\n",
      "    '''\n",
      "    Print similar words for each word in \"word_list\". \n",
      "    The similarity between words are computed from data matrix \"x\"\n",
      "    The way of measuring similarity is defined in \"sim_func\"\n",
      "    '''\n",
      "    \n",
      "    for word in word_list:\n",
      "        print word, ':', \n",
      "        word_idx = ivocab[word]\n",
      "        sim_idx = np.argsort(-sim_func(word_idx, x))[:10]\n",
      "        for word2_idx in sim_idx:\n",
      "            print vocab[word2_idx],\n",
      "        print ''"
     ],
     "language": "python",
     "metadata": {},
     "outputs": [],
     "prompt_number": 6
    },
    {
     "cell_type": "code",
     "collapsed": false,
     "input": [
      "'''\n",
      "Run the following code to print the results\n",
      "'''\n",
      "printSimilarWords(normalizedC, word_list, sim_func=computeCosSimPerWord)"
     ],
     "language": "python",
     "metadata": {},
     "outputs": [
      {
       "output_type": "stream",
       "stream": "stdout",
       "text": [
        "coffee : 1389\n",
        "coffee"
       ]
      },
      {
       "output_type": "stream",
       "stream": "stdout",
       "text": [
        " mug shop starbucks drinking drink cup cups and large \n",
        "play : 1664\n",
        "play"
       ]
      },
      {
       "output_type": "stream",
       "stream": "stdout",
       "text": [
        " to games game the and with soccer i . \n",
        "crazy : 6716\n",
        "crazy"
       ]
      },
      {
       "output_type": "stream",
       "stream": "stdout",
       "text": [
        " 's how that it shit is drives i . \n",
        "facebook : 5246\n",
        "facebook"
       ]
      },
      {
       "output_type": "stream",
       "stream": "stdout",
       "text": [
        " page on twitter deleted instagram status compra post whatsapp \n",
        "hermana : 3727\n",
        "hermana"
       ]
      },
      {
       "output_type": "stream",
       "stream": "stdout",
       "text": [
        " mi concha la y de tu con regalo que \n"
       ]
      }
     ],
     "prompt_number": 7
    },
    {
     "cell_type": "markdown",
     "metadata": {},
     "source": [
      "** Deliverable 2 ** Come up with five words of your own that you think might be interesting, and list the top 10 most similar \n",
      "for each. Try to choose a few different types of words, such as verbs, adjectives, names, emotions, abbreviations, or \n",
      "alternative spellings."
     ]
    },
    {
     "cell_type": "code",
     "collapsed": false,
     "input": [
      "'''\n",
      "Add five words to the following list\n",
      "'''\n",
      "additional_word_list = ['bro',':)','love','#usa' ,'best']"
     ],
     "language": "python",
     "metadata": {},
     "outputs": [],
     "prompt_number": 8
    },
    {
     "cell_type": "code",
     "collapsed": false,
     "input": [
      "'''\n",
      "Run the following code to print the results\n",
      "'''\n",
      "printSimilarWords(normalizedC, additional_word_list, sim_func=computeCosSimPerWord)"
     ],
     "language": "python",
     "metadata": {},
     "outputs": [
      {
       "output_type": "stream",
       "stream": "stdout",
       "text": [
        "bro : 93\n",
        "bro"
       ]
      },
      {
       "output_type": "stream",
       "stream": "stdout",
       "text": [
        " @u mudik thanks you lil . birthday ! my \n",
        ":) : 8457\n",
        ":)"
       ]
      },
      {
       "output_type": "stream",
       "stream": "stdout",
       "text": [
        " )) ) @u ))) \" : follback selamat semoga \n",
        "love : 1634\n",
        "love"
       ]
      },
      {
       "output_type": "stream",
       "stream": "stdout",
       "text": [
        " i you much and follow my . please me \n",
        "#usa : 8854\n",
        "#usa"
       ]
      },
      {
       "output_type": "stream",
       "stream": "stdout",
       "text": [
        " #bel supporting fully #por howard #worldcup ahhhhh england vs \n",
        "best : 341\n",
        "best"
       ]
      },
      {
       "output_type": "stream",
       "stream": "stdout",
       "text": [
        " the friend ever is of friends . my in \n"
       ]
      }
     ],
     "prompt_number": 9
    },
    {
     "cell_type": "markdown",
     "metadata": {},
     "source": [
      "## 3. Document Co-occurence ##\n",
      "\n",
      "Compute the document co-occurence matrix $D$, where $d_{i,j}$ is the probability $P(w_j|w_i)$ that word $j$ appears in a tweet, \n",
      "given that word $i$ appears. To do this, first compute the co-occurence counts $CC^\\top$. Substract the diagonal, then normalize \n",
      "each row. \n",
      "\n",
      "Note: it is possible to smooth this probability, but if you naively add some number to the matrix, you will lose sparsity \n",
      "and memory will blow up. Smoothing is not required for this assignment."
     ]
    },
    {
     "cell_type": "markdown",
     "metadata": {},
     "source": [
      "** Deliverable 3** For each of the 10 examples above (my five words and your five words), find the 10 most similar words \n",
      "according to cosine similarity of the rows of $D$.\n",
      "\n",
      "**Sanity check** For *facebook*, the 5 words I get are *facebook instagram twitter tv youtube*"
     ]
    },
    {
     "cell_type": "code",
     "collapsed": false,
     "input": [
      "word_list = word_list + additional_word_list\n",
      "\n",
      "def computeCooccurMatrix(C):\n",
      "    '''\n",
      "    Compute the co-occurence matrix D from C\n",
      "    '''\n",
      "    AsymCo = C*C.transpose()\n",
      "    dia = diags(AsymCo.diagonal(),0)\n",
      "   \n",
      "    Co = AsymCo - dia\n",
      "    return Co\n",
      "\n",
      "D = computeCooccurMatrix(C)\n",
      "normalizedD = normalizeRow(D)"
     ],
     "language": "python",
     "metadata": {},
     "outputs": [],
     "prompt_number": 10
    },
    {
     "cell_type": "code",
     "collapsed": false,
     "input": [
      "'''\n",
      "Run the following code to print the results\n",
      "'''\n",
      "\n",
      "printSimilarWords(normalizedD, word_list, sim_func=computeCosSimPerWord)"
     ],
     "language": "python",
     "metadata": {},
     "outputs": [
      {
       "output_type": "stream",
       "stream": "stdout",
       "text": [
        "coffee : 1389\n",
        "coffee"
       ]
      },
      {
       "output_type": "stream",
       "stream": "stdout",
       "text": [
        " new today drinking getting food after day eating water \n",
        "play : 1664\n",
        "play"
       ]
      },
      {
       "output_type": "stream",
       "stream": "stdout",
       "text": [
        " down be back pass show beat them up run \n",
        "crazy : 6716\n",
        "crazy"
       ]
      },
      {
       "output_type": "stream",
       "stream": "stdout",
       "text": [
        " weird sad not stupid damn actually cool about over \n",
        "facebook : 5246\n",
        "facebook"
       ]
      },
      {
       "output_type": "stream",
       "stream": "stdout",
       "text": [
        " instagram twitter tv youtube tumblr 100 note ex insta \n",
        "hermana : 3727\n",
        "hermana"
       ]
      },
      {
       "output_type": "stream",
       "stream": "stdout",
       "text": [
        " abuela hermano vieja novio novia viejo padre familia corazon \n",
        "bro : 93\n",
        "bro"
       ]
      },
      {
       "output_type": "stream",
       "stream": "stdout",
       "text": [
        " aww mate aye ok ;-) aw x hun yea \n",
        ":) : 8457\n",
        ":)"
       ]
      },
      {
       "output_type": "stream",
       "stream": "stdout",
       "text": [
        " ;) ^^ hahah haha hahahah ahahaha ^_^ ahaha ooo \n",
        "love : 1634\n",
        "love"
       ]
      },
      {
       "output_type": "stream",
       "stream": "stdout",
       "text": [
        " miss can mean know hope see loved missed won't \n",
        "#usa : 8854\n",
        "#usa"
       ]
      },
      {
       "output_type": "stream",
       "stream": "stdout",
       "text": [
        " #worldcup2014 germany usa exciting mexico #worldcup game england belgium \n",
        "best : 341\n",
        "best"
       ]
      },
      {
       "output_type": "stream",
       "stream": "stdout",
       "text": [
        " most biggest same during first greatest worst against spirit \n"
       ]
      }
     ],
     "prompt_number": 11
    },
    {
     "cell_type": "markdown",
     "metadata": {},
     "source": [
      "## 4. Latent Semantic Analysis ##\n",
      "\n",
      "Perform truncated SVD (**scipy.sparse.linalg.svds**) to obtain $\\mathbf{USV}^\\top\\approx \\mathbf{C}$ using $K=10$. \n",
      "Each row vector $\\mathbf{u}_i$\n",
      "is a description of the word $i$. You can compute similarity between pairs of words using the Euclidean norm \n",
      "$\\|\\mathbf{u}_i-\\mathbf{u}_j\\|_2$."
     ]
    },
    {
     "cell_type": "markdown",
     "metadata": {},
     "source": [
      "** Deliverable 4(a)** For each of the 10 examples above, find the 10 most similar words according to Euclidean distance in $\\mathbf{U}$\n",
      "\n",
      "**Sanity check** For *facebook*, the top 5 words are *facebook ex harry calls snap*"
     ]
    },
    {
     "cell_type": "code",
     "collapsed": false,
     "input": [
      "def computeEuclidDistPerWord(word_idx, U):\n",
      " #   print word_idx\n",
      "    '''\n",
      "    Compute the Euclid distance bwteen word vocab[word_idx] and all words \n",
      "    (including itself). Then, return the top 10 similar word indices\n",
      "    \n",
      "    Args:\n",
      "      word_idx - the word index\n",
      "      U - latent representation of words\n",
      "    Return:\n",
      "        the **negative**  Euclidean distance between U[word_idx,:] and all other words,\n",
      "        so that more similar words have higher values\n",
      "    '''\n",
      "    points = U[0]\n",
      "    single_point = U[0][word_idx]\n",
      "    dist = (points - single_point)**2\n",
      "    dist = np.sum(dist, axis=1)\n",
      "    dist = np.sqrt(dist)\n",
      "  \n",
      "    return -dist"
     ],
     "language": "python",
     "metadata": {},
     "outputs": [],
     "prompt_number": 12
    },
    {
     "cell_type": "code",
     "collapsed": false,
     "input": [
      "'''\n",
      "Once you finish the function computeEuclidDistPerWord, run the following code directly to print results\n",
      "'''\n",
      "Cfp= C.asfptype()\n",
      "U = svds(Cfp, 10)\n",
      "#print U[0]\n",
      "printSimilarWords(U, word_list, sim_func=computeEuclidDistPerWord)"
     ],
     "language": "python",
     "metadata": {},
     "outputs": [
      {
       "output_type": "stream",
       "stream": "stdout",
       "text": [
        "coffee : coffee drinking paper cat eating apparently turned short dress months \n",
        "play : play looking everyone anyone another start coming use enough away \n",
        "crazy : crazy gone stupid sad cool yet funny perfect must once \n",
        "facebook : facebook ex harry calls snap instagram ...... uh 18 fav \n",
        "hermana : hermana unas minutos colegio toca novia verte gana juego unos \n",
        "bro : bro xx hi :-) babe mate shut ill proud xxx \n",
        ":) : :) 3 :( ( ) hahaha ah :d :' apa \n",
        "love : love know can don't when how do if why what \n",
        "#usa : #usa bay passing members leaves stadium guard seats security begins \n",
        "best : best world same only most game first way thing ever \n"
       ]
      }
     ],
     "prompt_number": 13
    },
    {
     "cell_type": "markdown",
     "metadata": {},
     "source": [
      "** Deliverable 4(b) ** Now compute the same SVD with $K=50$, and again find the 10 most similar words according to Euclidean distance $U$."
     ]
    },
    {
     "cell_type": "code",
     "collapsed": false,
     "input": [
      "'''\n",
      "Run the following code to print results\n",
      "'''\n",
      "U = svds(Cfp, 50)\n",
      "\n",
      "printSimilarWords(U, word_list, sim_func=computeEuclidDistPerWord)"
     ],
     "language": "python",
     "metadata": {},
     "outputs": [
      {
       "output_type": "stream",
       "stream": "stdout",
       "text": [
        "coffee : coffee tea wine four gas midnight starbucks service wedding six \n",
        "play : play hang run chill we're agree nobody kids fight games \n",
        "crazy : crazy weird stupid actually af dumb serious dead ugly dude \n",
        "facebook : facebook instagram focus ig netflix earth floor fb tl list \n",
        "hermana : hermana sonrisa llevo plata jajajaj realidad arriba jajaj vuelta novia \n",
        "bro : bro mate bruh broke homie wit blow lil turnt showed \n",
        ":) : :) ) ( ya aku !! yg :' di yang \n",
        "love : love follow am please miss hate thank happy hope wish \n",
        "#usa : #usa nation belgium gaza americans shite election #worldcup bodies hockey \n",
        "best : best most worst world god by favorite team family ever \n"
       ]
      }
     ],
     "prompt_number": 14
    },
    {
     "cell_type": "markdown",
     "metadata": {},
     "source": [
      "** Deliverable 5 ** Now compute the SVD of the matrix $\\mathbf{D}$, using with $K = 10$, and $K = 50$. Report \n",
      "the most similar words to each of the example words according to Euclidean distance in $U$."
     ]
    },
    {
     "cell_type": "code",
     "collapsed": false,
     "input": [
      "'''\n",
      "Run the following code to print results\n",
      "'''\n",
      "D= D.asfptype()\n",
      "U = svds(D, 10)\n",
      "\n",
      "printSimilarWords(U, word_list, sim_func=computeEuclidDistPerWord)"
     ],
     "language": "python",
     "metadata": {},
     "outputs": [
      {
       "output_type": "stream",
       "stream": "stdout",
       "text": [
        "coffee : coffee upset leaving crap bullshit boring nights loud losing reading \n",
        "play : play anyone use looking move forward stop win went music \n",
        "crazy : crazy gone mind forever kind hot full fun sick fucked \n",
        "facebook : facebook 24 david alcohol simple 17 traffic 22 priority med \n",
        "hermana : hermana entrar esperar juego colegio saben unico culpa minutos unas \n",
        "bro : bro :-) dm hi hahah nah hey xx birthday true \n",
        ":) : :) ) :d hahaha haha :p :( aja di apa \n",
        "love : love know can think don't when like hate wanna can't \n",
        "#usa : #usa shooting racist heavy unbelievable review cancelled idiots choices justice \n",
        "best : best same world from game only by most first thing \n"
       ]
      }
     ],
     "prompt_number": 15
    },
    {
     "cell_type": "code",
     "collapsed": false,
     "input": [
      "'''\n",
      "Run the following code to print results\n",
      "'''\n",
      "U = svds(D, 50)\n",
      "\n",
      "printSimilarWords(U, word_list, sim_func=computeEuclidDistPerWord)"
     ],
     "language": "python",
     "metadata": {},
     "outputs": [
      {
       "output_type": "stream",
       "stream": "stdout",
       "text": [
        "coffee : coffee cream tea ice cheese starbucks chicken chips cake pack \n",
        "play : play run drive beach beat party walk ball join stay \n",
        "crazy : crazy af weird dumb dying freaking gay crying confused stupid \n",
        "facebook : facebook instagram ig netflix focus couch nerves insta floor fb \n",
        "hermana : hermana vieja verga abuela peli loca ropa tarea prueba siesta \n",
        "bro : bro xx mate hahah !!!! yay dude congrats yea #ff \n",
        ":) : :) =) ;; !! ;) yes !!! x great birthday \n",
        "love : love miss thank please follow happy birthday you're hope make \n",
        "#usa : #usa rangers manchester #sochi2014 belgium champs results festival rush tech \n",
        "best : best most world same first end by worst only rest \n"
       ]
      }
     ],
     "prompt_number": 16
    },
    {
     "cell_type": "markdown",
     "metadata": {},
     "source": [
      "** Deliverable 6 ** Overall, which set of synonyms looks best to you? \n",
      "Count how many of the top 10 synonyms for each of the 5 example words \n",
      "(the ones I picked) have the same majority part of speech (e.g., *play* is a verb) as the cue word.\n",
      "Use the tagset from the [Twitter POS paper](http://www.cc.gatech.edu/~jeisenst/papers/acl2012pos.pdf)."
     ]
    },
    {
     "cell_type": "markdown",
     "metadata": {},
     "source": [
      "*(Your answer here)*\n",
      "Overall Latent Semantic Analysis on Document Co-Occurence (D) with K = 50 , gave the best results. In general increasing K gives better results. Lower K tends to give more of words occuring in a document as compared to synonyms. Between C and D, D gives more percentage of words that are similar to the word.\n",
      "\n",
      "coffee : coffee cream tea ice cheese chicken chips cake pack - 9.\n",
      "\n",
      "play: play run drive beat party walk join stay  - 8.\n",
      "\n",
      "crazy: crazy af weird dumb freaking gay stupid - 7 .\n",
      "\n",
      "facebook: facebook instagram ig netflix couch insta fb - 7 .\n",
      "\n",
      "hermana: hermana vieja verga abuela peli loca ropa tarea prueba siesta  - 8 .\n",
      "\n",
      "\n",
      "coffee    (C10,5) (C50,7) (D10,4) (D50,9)\n",
      "\n",
      "play      (C10,4) (C50,6) (D10,8) (D50,8)\n",
      "\n",
      "crazy     (C10,6) (C50,6) (D10,5) (D50,7)\n",
      "\n",
      "facebook  (C10,4) (C50,8) (D10,2) (D50,7)\n",
      "\n",
      "hermana   (C10,6) (C50,5) (D10,4) (D50,8)\n"
     ]
    },
    {
     "cell_type": "markdown",
     "metadata": {},
     "source": [
      "## 5. Local Context ##\n",
      "\n",
      "Local context captures the frequency with which words appear in each others\u2019 immediate context. We have provided a CSV file (succ_trips_50k.csv)  in which each line contains a triple $\\langle x,y,z\\rangle$, \n",
      "where $x$ and $y$ are term IDs and $z$ is the count of times where $y$ immediately follows $x$ . \n",
      "The vocabulary has now increased to 50K words. There is an associated vocabulary file, **vocab.50k**.\n",
      "\n",
      "Build a sparse matrix $\\mathbf{E}$ from these triples. Normalize the rows of $\\mathbf{E}$, such that $e_{i,j}=\\frac{n(i,j)}{n(i)}$, \n",
      "the probability of seeing word $j$ given that you have just seen word $i$. \n",
      "Mow form a matrix $\\mathbf{F} = [\\mathbf{E}~ \\mathbf{E}\u2019]$ by horizontally concatenating the normalized matrix $\\mathbf{E}$. \n",
      "You will perform sparse singular value decomposition on $\\mathbf{F}$."
     ]
    },
    {
     "cell_type": "code",
     "collapsed": false,
     "input": [
      "def normalizeProb(x):\n",
      "    '''\n",
      "    Normalize each row of x\n",
      "    \n",
      "    Args:\n",
      "    x - data matrix\n",
      "    Return:\n",
      "    row-normalized x\n",
      "    '''\n",
      "    return diags(np.array(1./(1e-6+x.sum(axis=1)))[:,0],0) * x\n",
      "    \n",
      "\n",
      "def constructF(E):\n",
      "    '''\n",
      "    Finish the following code to construct F from E\n",
      "    '''\n",
      "    ## Your code here\n",
      "    ET = E.transpose()\n",
      "    F = hstack([normalizeProb(E),normalizeProb(ET)])\n",
      "    return F\n"
     ],
     "language": "python",
     "metadata": {},
     "outputs": [],
     "prompt_number": 17
    },
    {
     "cell_type": "code",
     "collapsed": false,
     "input": [
      "'''\n",
      "Load new dataset and the corresponding dictionaries\n",
      "'''\n",
      "idx_50, iidx_50 = readVocab('vocab.50k')\n",
      "E = csv2csr('succ_trips_50k.csv')\n",
      "F = constructF(E)"
     ],
     "language": "python",
     "metadata": {},
     "outputs": [],
     "prompt_number": 18
    },
    {
     "cell_type": "markdown",
     "metadata": {},
     "source": [
      "** Deliverable 7 ** For $K = 10$ and $K = 100$ compute the top 10 synonyms for each of your ten words. \n",
      "\n",
      "** Sanity check ** For *facebook*, I get: *facebook cnn duncan nicole consistent* from $K = 10$\n",
      "and *facebook instagram youtube ig twitter* from $K = 100$."
     ]
    },
    {
     "cell_type": "code",
     "collapsed": false,
     "input": [
      "'''\n",
      "Run the following code to get the results with K=10\n",
      "'''\n",
      "U_f = svds(F, 10)\n",
      "printSimilarWords(U_f, word_list, sim_func=computeEuclidDistPerWord, vocab=idx_50, ivocab=iidx_50)"
     ],
     "language": "python",
     "metadata": {},
     "outputs": [
      {
       "output_type": "stream",
       "stream": "stdout",
       "text": [
        "coffee : coffee finger tax quiet speech friday coach common scoring cold \n",
        "play : play fall lay comes pay rely kick lose live perform \n",
        "crazy : crazy reported smiling crying beth sucked died crashed suspended kane \n",
        "facebook : facebook cnn duncan nicole consistent ronaldo smith suarez injured bio \n",
        "hermana : hermana aun estaba se aguanta pega duran todavia tampoco estudie \n",
        "bro : bro ffs whyyyyy keri bruh fra begonnen we'll jill maybe \n",
        ":) : :) yakkk motif batak ngo #chsi kizim ;) :( :/ \n",
        "love : "
       ]
      },
      {
       "output_type": "stream",
       "stream": "stdout",
       "text": [
        "love hate remember miss believe commenting cum led movin gma \n",
        "#usa : #usa fighters kem hijab cooling offline buyers geoffrey s5 benieuwd \n",
        "best : best latest bucs bottom most ultimate inbetweeners laziest fastest highest \n"
       ]
      }
     ],
     "prompt_number": 19
    },
    {
     "cell_type": "code",
     "collapsed": false,
     "input": [
      "'''\n",
      "Run the following code to get the results with K=100\n",
      "'''\n",
      "U_f = svds(F,100)\n",
      "printSimilarWords(U_f, word_list, sim_func=computeEuclidDistPerWord, vocab=idx_50, ivocab=iidx_50)"
     ],
     "language": "python",
     "metadata": {},
     "outputs": [
      {
       "output_type": "stream",
       "stream": "stdout",
       "text": [
        "coffee : "
       ]
      },
      {
       "output_type": "stream",
       "stream": "stdout",
       "text": [
        "coffee pizza tea beer food softball fruit curry milk alcohol \n",
        "play : play drive dance fly survive be swim murder sing win \n",
        "crazy : "
       ]
      },
      {
       "output_type": "stream",
       "stream": "stdout",
       "text": [
        "crazy scary who cool gay else everyone cooler elton that \n",
        "facebook : facebook instagram youtube ig twitter tumblr wednesday netflix holiday wallay \n",
        "hermana : "
       ]
      },
      {
       "output_type": "stream",
       "stream": "stdout",
       "text": [
        "hermana abuela hermano hna piace amorcito sobrina yetmez tocca sobrino \n",
        "bro : bro mate buddy brah c'mon tho homie babe pal jesus \n",
        ":) : "
       ]
      },
      {
       "output_type": "stream",
       "stream": "stdout",
       "text": [
        ":) ;) #katchup dilamar :: karar eweh espace remix #janoskianstour \n",
        "love : love hadn't know loveee can hope jusy did suggest crave \n",
        "#usa : "
       ]
      },
      {
       "output_type": "stream",
       "stream": "stdout",
       "text": [
        "#usa #arg 00000kt usa #jpn #ned #bestfandom2014 af #0ff *-* \n",
        "best : best ultimate biggest floor world bible scariest highest across latest \n"
       ]
      }
     ],
     "prompt_number": 20
    },
    {
     "cell_type": "markdown",
     "metadata": {},
     "source": [
      "**Deliverable 8 ** Again, count the proportion of proposed synonyms that have the same POS as \n",
      "the cue words that I selected. Does local context or document context do better at matching the POS of the cue words? Why?"
     ]
    },
    {
     "cell_type": "markdown",
     "metadata": {},
     "source": [
      "*(Your answer here)*\n",
      "\n",
      "In general, local Context is giving better results, specially for verbs, nouns. The reason is that if in a sentence , we have :\"Let us have coffee\" \"Anyone can have tea\" , then association of have with tea and coffee is more relevant than rest of the sentences. So for most of the sentences which follow verb noun agreement , local context works better. However, for the word which is adjective like crazy, then both gave similar results, infact document context gave better synonyms like stupid, which was not captured in local context. \n",
      "It needs to be noted that even K 1 perform really well for local context.\n",
      "\n",
      "Counts for POS are as follows:\n",
      "\n",
      "coffee : coffee pizza tea beer food softball fruit curry milk alcohol - 10.\n",
      "\n",
      "play: play drive dance fly survive be swim murder sing win  - 10.\n",
      "\n",
      "crazy: crazy scary cool gay cooler   - 5 .\n",
      "\n",
      "facebook: facebook instagram youtube ig twitter tumblr wednesday netflix holiday - 9 .\n",
      "\n",
      "hermana: hermana abuela hermano hna piace amorcito sobrina yetmez  - 8 .\n",
      "\n",
      "\n",
      "coffee (L10,6) (L100,10) \n",
      "\n",
      "play (L10,10) (L100,10) \n",
      "\n",
      "crazy (L10,6) (L100,5)\n",
      "\n",
      "facebook (L10,7) (L100,9)\n",
      "\n",
      "hermana (L10,3) (L100,8)"
     ]
    },
    {
     "cell_type": "markdown",
     "metadata": {},
     "source": [
      "## 6. Clustering ##\n",
      "\n",
      "Perform KMeans clustering on the rows of the latent semantic representation $US$ that you obtained in the previous section \n",
      "(recall that $U$ describes the words; $S$ scales the latent factors by importance).\n",
      "\n",
      "Let the number of clusters equal 200. You may use an existing KMeans clustering library, \n",
      "or you may write your own. I used **scipy.cluster.vq.kmeans2**, and manually set the number of iterations to 100.\n"
     ]
    },
    {
     "cell_type": "code",
     "collapsed": false,
     "input": [
      "from scipy.cluster.vq import kmeans2, kmeans\n",
      "\n",
      "n_clusters = 200\n",
      "'''\n",
      "Your code here for clustering \n",
      "'''\n",
      "U_f = svds(F, 100)\n",
      "words = U_f[0]\n",
      "scale = U_f[1]\n",
      "data = words*scale\n",
      "out = kmeans2(data,n_clusters,100)"
     ],
     "language": "python",
     "metadata": {},
     "outputs": [
      {
       "output_type": "stream",
       "stream": "stderr",
       "text": [
        "/System/Library/Frameworks/Python.framework/Versions/2.7/Extras/lib/python/scipy/cluster/vq.py:588: UserWarning: One of the clusters is empty. Re-run kmean with a different initialization.\n",
        "  warnings.warn(\"One of the clusters is empty. \"\n"
       ]
      }
     ],
     "prompt_number": 21
    },
    {
     "cell_type": "code",
     "collapsed": false,
     "input": [
      "print out[1]"
     ],
     "language": "python",
     "metadata": {},
     "outputs": [
      {
       "output_type": "stream",
       "stream": "stdout",
       "text": [
        "[ 77  73 128 ...,  55  74 144]\n"
       ]
      }
     ],
     "prompt_number": 22
    },
    {
     "cell_type": "markdown",
     "metadata": {},
     "source": [
      "**Deliverable 9(a)**  Use pyplot.hist to make a [histogram](http://en.wikipedia.org/wiki/Histogram) of the sizes of each cluster"
     ]
    },
    {
     "cell_type": "code",
     "collapsed": false,
     "input": [
      "from collections import defaultdict\n",
      "import matplotlib.pyplot as plt\n",
      "\n",
      "#somehow compute the sizes\n",
      "sizes =out[1]\n",
      "k=plt.hist(sizes,bins = 200)"
     ],
     "language": "python",
     "metadata": {},
     "outputs": [
      {
       "metadata": {},
       "output_type": "display_data",
       "png": "[encoded data removed]",
       "text": [
        "<matplotlib.figure.Figure at 0x14382ba50>"
       ]
      }
     ],
     "prompt_number": 23
    },
    {
     "cell_type": "code",
     "collapsed": false,
     "input": [
      "cluster = [0]*200\n",
      "for data in sizes:\n",
      "    cluster[data] = cluster[data] +1\n",
      "l=plt.hist(cluster)"
     ],
     "language": "python",
     "metadata": {},
     "outputs": [
      {
       "metadata": {},
       "output_type": "display_data",
       "png": "[encoded data removed]",
       "text": [
        "<matplotlib.figure.Figure at 0x111923e50>"
       ]
      }
     ],
     "prompt_number": 24
    },
    {
     "cell_type": "code",
     "collapsed": false,
     "input": [
      "print k[0]"
     ],
     "language": "python",
     "metadata": {},
     "outputs": [
      {
       "output_type": "stream",
       "stream": "stdout",
       "text": [
        "[ 204  539    0   23  549  332   75  109  120   81  376  203  485  395  114\n",
        "  103    0  533  173  134  329  186    0  139  560  138  302  148  223   98\n",
        "  169  292    0  111  315  124  224   18  398    0  103  277  150  196  138\n",
        "  219  225  343  161  294    0   66   85  417  344   53   48  179  263  363\n",
        "  619  594   95  167  102  943   76   37  160  856    0  279 1653  655  875\n",
        "  489  362  326   85  441   81  222   94  278  502   15  467   55  184   69\n",
        "  104  351   77  437  184   46  221   62   57 1195    0  147   12   69  223\n",
        "  120  281   83  423  111  399   44   32    0  425   96  596   57  289  199\n",
        "  101  473   33    0   64  111   46  606  601  963   80  187   12   30   75\n",
        " 1769  191  818  562  345  122  182    7  176  516  156  127  115  129   46\n",
        "    9  242  115  137   76    0  207  189   83  124   30  294   94 1494   97\n",
        "  307   17    0  102   35  136  328  143   85  670  177  177  156  286    0\n",
        "  269   20  113  144  113   29    2  431   78  108    0   67  174   67   93\n",
        "  389   66  136   96   10]\n"
       ]
      }
     ],
     "prompt_number": 25
    },
    {
     "cell_type": "markdown",
     "metadata": {},
     "source": [
      "**Deliverable 9(b)** Out of your ten examples words (you can exclude *hermana*), pick the one in the smallest cluster. \n",
      "Examine the words in this cluster, and list three that you think belong, and three that you think do not belong."
     ]
    },
    {
     "cell_type": "code",
     "collapsed": false,
     "input": [
      "print word_list\n",
      "smallest =5000\n",
      "cluster = 0\n",
      "mwrd =\"a\"\n",
      "for word in word_list:\n",
      "    if word != 'hermana':\n",
      "        if smallest > k[0][sizes[iidx_50[word]]]:\n",
      "            smallest = k[0][sizes[iidx_50[word]]]\n",
      "            cluster = sizes[iidx_50[word]]\n",
      "            mwrd = word\n",
      "print smallest\n",
      "print cluster\n",
      "print \"Word**** =>  \"  + mwrd\n",
      "count = -1\n",
      "for swords in sizes:\n",
      "    count=count+1\n",
      "    if swords == cluster: \n",
      "         print idx_50[count]\n",
      "    "
     ],
     "language": "python",
     "metadata": {},
     "outputs": [
      {
       "output_type": "stream",
       "stream": "stdout",
       "text": [
        "['coffee', 'play', 'crazy', 'facebook', 'hermana', 'bro', ':)', 'love', '#usa', 'best']\n",
        "223\n",
        "28\n",
        "Word**** =>  facebook\n",
        "lockdown\n",
        "insta\n",
        "vh1\n",
        "skyrim\n",
        "sheila\n",
        "focusing\n",
        "tinder\n",
        "cheated\n",
        "appears\n",
        "dwelling\n",
        "overdose\n",
        "emphasis\n",
        "tumblr\n",
        "chewing\n",
        "based\n",
        "#gogglebox\n",
        "purpose\n",
        "craigslist\n",
        "#flappybird\n",
        "descend\n",
        "#espn\n",
        "sega\n",
        "profiles\n",
        "planing\n",
        "#agt\n",
        "cnn\n",
        "blister\n",
        "vday\n",
        "s'embrouille\n",
        "creeping\n",
        "cheats\n",
        "depends\n",
        "#cnn\n",
        "pandora\n",
        "dunking\n",
        "airplanes\n",
        "sits\n",
        "raka\n",
        "commentating\n",
        "occasions\n",
        "depend\n",
        "hbo\n",
        "wednesdays\n",
        "swung\n",
        "younow\n",
        "itv\n",
        "dwell\n",
        "$400\n",
        "mobbin\n",
        "ebay\n",
        "univision\n",
        "dirai\n",
        "betting\n",
        "reminisce\n",
        "reflect\n",
        "wvu\n",
        "greener\n",
        "thursdays\n",
        "snl\n",
        "depending\n",
        "click\n",
        "24th\n",
        "insist\n",
        "#bbwla\n",
        "relying\n",
        "planning\n",
        "shitted\n",
        "sundays\n",
        "#thevoiceuk\n",
        "saturdays\n",
        "complimented\n",
        "*puts\n",
        "appearing\n",
        "toll\n",
        "fumes\n",
        "thc\n",
        "rely\n",
        "pinterest\n",
        "repeat\n",
        "stunt\n",
        "numara\n",
        "bailed\n",
        "concentrate\n",
        "commenting\n",
        "bootleg\n",
        "choking\n",
        "fx\n",
        "interference\n",
        "lands\n",
        "aloe\n",
        "crushing\n",
        "bloods\n",
        "tbs\n",
        "tattooed\n",
        "185\n",
        "impact\n",
        "spieth\n",
        "i-45\n",
        "dependent\n",
        "4/20\n",
        "topping\n",
        "sipping\n",
        "reddit\n",
        "stepped\n",
        "aircond\n",
        "wednesday\n",
        "soundcloud\n",
        "shittin\n",
        "s'en\n",
        "collision\n",
        "cheat\n",
        "espn\n",
        "facebook\n",
        "iplayer\n",
        "msnbc\n",
        "featured\n",
        "eileen\n",
        "focus\n",
        "morrissey\n",
        "omegle\n",
        "itunes\n",
        "tlr\n",
        "youtube\n",
        "tabs\n",
        "gogglebox\n",
        "32%\n",
        "missions\n",
        "sneezed\n",
        "placed\n",
        "punjab\n",
        "stain\n",
        "vests\n",
        "creeped\n",
        "lagging\n",
        "bail\n",
        "debating\n",
        "demand\n",
        "scheming\n",
        "cheating\n",
        "listed\n",
        "dibs\n",
        "focused\n",
        "munching\n",
        "maury\n",
        "carry\n",
        "hatin\n",
        "s'est\n",
        "shitting\n",
        "downnnn\n",
        "plotting\n",
        "banking\n",
        "hooked\n",
        "strap\n",
        "hwy\n",
        "make-up\n",
        "creepin\n",
        "stamps\n",
        "broadway\n",
        "netflix\n",
        "ig\n",
        "16%\n",
        "standby\n",
        "earth\n",
        "fridays\n",
        "venez\n",
        "spit\n",
        "thrive\n",
        "2k14\n",
        "#isibaya\n",
        "amazon\n",
        "sleepin\n",
        "panels\n",
        "homosexuality\n",
        "insists\n",
        "weekdays\n",
        "choked\n",
        "vinyl\n",
        "davido\n",
        "peed\n",
        "commented\n",
        "jezza\n",
        "dirait\n",
        "dirais\n",
        "receipts\n",
        "rash\n",
        "titan\n",
        "campus\n",
        "verra\n",
        "redbox\n",
        "previously\n",
        "pinned\n",
        "deck\n",
        "hating\n",
        "mtv\n",
        "#wwhl\n",
        "outlook\n",
        "instagram\n",
        "cherokee\n",
        "610\n",
        "bruise\n",
        "s'y\n",
        "motd\n",
        "stage\n",
        "tshirts\n",
        "stacks\n",
        "changin\n",
        "sippin\n",
        "cbc\n",
        "cbs\n",
        "elaborate\n",
        "steroids\n",
        "logs\n",
        "knocking\n",
        "overload\n",
        "fire\n",
        "movin\n",
        "sticker\n",
        "finit\n",
        "shuffle\n",
        "comee\n",
        "probation\n",
        "hulu\n",
        "nbc\n"
       ]
      }
     ],
     "prompt_number": 26
    },
    {
     "cell_type": "code",
     "collapsed": false,
     "input": [
      "inc = 0\n",
      "for swords in sizes:\n",
      "    if swords ==3:\n",
      "        inc = inc +1\n",
      "print inc"
     ],
     "language": "python",
     "metadata": {},
     "outputs": [
      {
       "output_type": "stream",
       "stream": "stdout",
       "text": [
        "23\n"
       ]
      }
     ],
     "prompt_number": 27
    },
    {
     "cell_type": "markdown",
     "metadata": {},
     "source": [
      "\n",
      "*Answer*\n",
      "Here we have taken the word love, which basically expresses feelings (verb)\n",
      "\n",
      "Words which belong are lovee feel adore lovee luv like admire.\n",
      "\n",
      "Words which dont belong to this category  are #earthquake literally  ma'am overthink needa  overhear "
     ]
    },
    {
     "cell_type": "markdown",
     "metadata": {},
     "source": [
      "## 7650 Only: Semi-Supervised Learning ##\n",
      "\n",
      "Now use the clusters from the previous part as features in your implementation from either pset 2 or pset 3.\n",
      "\n",
      "If you already used other word clusters as features in the bakeoff, you still need to do this part with the clusters that you've built yourself in this problem set."
     ]
    },
    {
     "cell_type": "markdown",
     "metadata": {},
     "source": [
      "### 7.1  POS Tagger ###\n",
      "\n",
      "Add the word clusters as features in your Twitter POS tagger. Start with your best performing tagger from **Project 2** (based on the dev data). Add a feature for each cluster/tag pair, e.g. C174/N, C189/V, etc. You will then compute the accuracy with training sets of various sizes, comparing the performance of your model with and without the cluster features."
     ]
    },
    {
     "cell_type": "markdown",
     "metadata": {},
     "source": [
      "**Deliverable 11 (Option A)** Build training sets including the first 50, 100, 200, 500, and 1000 *sentences* (not words). \n",
      "Train your tagger on each training set, using your original features, and plot the accuracy on the development set. \n",
      "Then retrain you tagger, including the new word cluster features, and plot accuracy on the development set on the same plot. \n",
      "Run for at least 10 iterations in each case."
     ]
    },
    {
     "cell_type": "code",
     "collapsed": false,
     "input": [
      "\"\"\"\n",
      "Data processing code\n",
      "\"\"\"\n",
      "def conllSeqGenerator(input_file,max_insts=1000000):\n",
      "    \"\"\" \n",
      "    return an instance generator for a filename.\n",
      "    \n",
      "    The generator yields lists of words and tags.  \n",
      "    No need to change this\n",
      "    \"\"\"\n",
      "    cur_words = []\n",
      "    cur_tags = []\n",
      "    num_insts = 0\n",
      "    with open(input_file) as instances:\n",
      "        for line in instances:\n",
      "            if len(line.rstrip()) == 0:\n",
      "                if len(cur_words) > 0:\n",
      "                    num_insts += 1\n",
      "                    yield cur_words,cur_tags\n",
      "                    cur_words = []\n",
      "                    cur_tags = []\n",
      "            else:\n",
      "                parts = line.rstrip().split()\n",
      "                cur_words.append(parts[0])\n",
      "                if len(parts)>1:\n",
      "                    cur_tags.append(parts[1])\n",
      "                else: cur_tags.append(unknown)\n",
      "        if len(cur_words)>0: \n",
      "            num_insts += 1\n",
      "            yield cur_words,cur_tags\n",
      "## Define the file names\n",
      "trainfile = 'oct27.train'\n",
      "devfile = 'oct27.dev'\n",
      "testfile = 'oct27.test' # You do not have this for now\n",
      "unknown = \"**UNKNOWN**\"\n",
      "# for convenience\n",
      "tr_all = []\n",
      "for i,(words,tags) in enumerate(conllSeqGenerator(trainfile)):\n",
      "    tr_all.append((words,tags))\n",
      "alltags = set()\n",
      "for i,(words, tags) in enumerate(tr_all):    \n",
      "    for tag in tags:\n",
      "        alltags.add(tag)\n",
      "start_tag = '--START--'\n",
      "end_tag = '--END--'\n",
      "trans ='--T--'\n",
      "emit = '--E--'\n",
      "offset = '--OFF--'\n",
      "cluster = '--cluster--'\n",
      "def wordFeatures(words,tag,prev_tag,m):\n",
      "    '''\n",
      "    :param words: a list of words\n",
      "    :type words: list\n",
      "    :param tag: a tag\n",
      "    :type tag: string\n",
      "    :type prev_tag: string\n",
      "    :type m: int\n",
      "    '''\n",
      " #   print offset,tag\n",
      "    out = {(offset,tag):1}\n",
      "    if m < len(words): #we can have m = M, for the transition to the end state\n",
      "        out[(emit,tag,words[m])]=1\n",
      "    return out\n",
      "sent = 'they can can fish'.split()\n",
      "wordFeatures(sent,'V','V',2)\n",
      "\n",
      "curr_suffix = '--curr-suff--'\n",
      "prev_suffix = '--prev-suff--'\n",
      "def wordCharFeatures(words,tag,prev_tag,m):\n",
      "    output = wordFeatures(words,tag,prev_tag,m) #start with the features from wordFeatures\n",
      "    # add your code here\n",
      "    output[(curr_suffix,tag,words[m][-1])] =1\n",
      "    if(m>0):\n",
      "         output[(prev_suffix,tag,words[m-1][-1])] =1\n",
      "    return output\n",
      "# use this to find the highest-scoring label\n",
      "argmax = lambda x : max(x.iteritems(),key=operator.itemgetter(1))[0]\n",
      "test_weights = defaultdict(float)\n",
      "test_tags = ['N','V','V','N']\n",
      "for i in range(len(sent)):\n",
      "    for feat in wordFeatures(sent,test_tags[i],'X',i):\n",
      "        test_weights[feat] = 1\n",
      "    for feat in wordFeatures(sent,'X','X',i):\n",
      "        test_weights[feat] = 1\n",
      "\n",
      "def classifierTagger(words,featfunc,weights,all_tags):\n",
      "    \"\"\"\n",
      "    :param words: list of words\n",
      "    :param features: function from lists of words and tags to list of features\n",
      "    :param weights: defaultdict of weights\n",
      "    :param all_tags: list of permissible tags\n",
      "    :returns list of tags\n",
      "    \"\"\"\n",
      "    out = []\n",
      "    for i in range(0,len(words)):\n",
      "        best = defaultdict(float)\n",
      "        for cur in all_tags:\n",
      "       #     for prev in all_tags:\n",
      "                  for feat in  featfunc(words,cur,'X',i):\n",
      "                       best[cur] =    best[cur] +  weights[feat]\n",
      "       \n",
      "        out.append( argmax(best))\n",
      "                        #     print weights[featfunc(words,cur,prev,i).keys()[0] ]\n",
      "   \n",
      "    # your code\n",
      "    return out\n",
      "\n",
      "\n",
      "def evalTagger(tagger,outfilename,evalfile=devfile):\n",
      "    \"\"\"\n",
      "    :param tagger: a function that takes words and a list of candidate tags, and outputs a list of tags\n",
      "    :param outfilename: a filename to store the output\n",
      "    :param evalfile: a filename of the dev set data\n",
      "    \"\"\"\n",
      "    with open(outfilename,'w') as outfile:\n",
      "        for words,_ in conllSeqGenerator(evalfile):\n",
      "            pred_tags = tagger(words,alltags)\n",
      "            for tag in pred_tags:\n",
      "                print >>outfile, tag\n",
      "            print >>outfile, \"\"\n",
      "    return scorer.getConfusion(evalfile,outfilename) #run the scorer on the prediction file\n",
      "\n",
      "\n",
      "def oneItAvgPerceptron(inst_generator,featfunc,weights,wsum,tagset,Tinit=0):\n",
      "    \"\"\"\n",
      "    :param inst_generator: iterator over instances\n",
      "    :param featfunc: feature function on (words, tag_m, tag_m_1, m)\n",
      "    :param weights: default dict\n",
      "    :param wsum: weight sum, for averaging\n",
      "    :param tagset: set of permissible tags\n",
      "    :param Tinit: initial value of t, the counter over instances\n",
      "    :returns weights: a defaultdict of weights\n",
      "    :returns wsum: a defaultdict of weight sums, for averaging (as in pset 1b)\n",
      "    :returns tr_acc: training set accuracy\n",
      "    :return i: a counter of the number of instances seen\n",
      "    \"\"\"\n",
      "    tr_err = 0.0\n",
      "#    t=0\n",
      "    for i,(words,y_true) in enumerate(inst_generator):\n",
      "   #     pass # your code here\n",
      "    # note that i'm computing tr_acc for you, as long as you properly update tr_err\n",
      "        predicted_labels = classifierTagger(words,featfunc,weights,tagset);\n",
      "\n",
      "        \n",
      "        j=0\n",
      "    #    prev = start_tag\n",
      "        for word in words:\n",
      "            predicted_label = predicted_labels[j]\n",
      "            label = y_true[j]\n",
      "            if label != predicted_label:\n",
      "                tr_err = tr_err + 1\n",
      "            for feat in  featfunc(words,predicted_label,'X',j):\n",
      "                    weights[feat] =  weights[feat] - 1  \n",
      "                    wsum[feat] =  wsum[feat] - (Tinit + i)\n",
      "            for feat in  featfunc(words,label,'X',j):\n",
      "                    weights[feat] =  weights[feat] + 1 \n",
      "                    wsum[feat] =  wsum[feat] +  (Tinit +i)\n",
      "       #     prev= predicted_label \n",
      "            j=j+1\n",
      "  #  print tr_err      \n",
      "  #  print sum([len(s) for s,t in inst_generator])\n",
      "    return weights, wsum, 1.-tr_err / float(sum([len(s) for s,t in inst_generator])), i\n",
      "\n",
      "def trainAvgPerceptron(N_its,inst_generator,featfunc,tagset,output):\n",
      "    \"\"\"\n",
      "    :param N_its: number of iterations\n",
      "    :param inst_generator: generate words,tags pairs\n",
      "    :param featfunc: feature function\n",
      "    :param tagset: set of all possible tags\n",
      "    :returns average weights, training accuracy, dev accuracy\n",
      "    \"\"\"\n",
      "    tr_acc = [None]*N_its\n",
      "    dv_acc = [None]*N_its\n",
      "    T = 0.0\n",
      "    weights = defaultdict(float)\n",
      "    wsum = defaultdict(float)\n",
      "    for i in xrange(N_its):\n",
      "        # your code here\n",
      "        avg_weights = defaultdict(float)\n",
      "              \n",
      "        weights,wsum,tr_acc_i,j = oneItAvgPerceptron(inst_generator,featfunc,weights,wsum,tagset,T)\n",
      "        T = T + j + 1\n",
      "        for key in weights.keys():\n",
      "                 avg_weights[key] = weights[key] - ((wsum[key])/T)\n",
      "        \n",
      "        \n",
      "        confusion = evalTagger(lambda words, alltags: classifierTagger(words,featfunc,avg_weights,tagset),output)\n",
      "    #    confusion1 = evalTagger(lambda words, alltags: classifierTagger(words,featfunc,avg_weights,tagset),output,testfile)\n",
      "     #   if i==9:\n",
      "      #      print confusion\n",
      "        #    print confusion1\n",
      "        dv_acc[i] = scorer.accuracy(confusion)\n",
      "        tr_acc[i] = tr_acc_i\n",
      "        print i,'dev:',dv_acc[i],'train:',tr_acc[i]\n",
      "    return avg_weights, tr_acc, dv_acc\n",
      "\n",
      "import nltk\n",
      "#nltk.download()\n",
      "from nltk.corpus import stopwords\n",
      "from nltk.stem.wordnet import WordNetLemmatizer\n",
      "from itertools import chain #hint, especially if you're obsessive about being pythonic\n",
      "stopset = set(stopwords.words('english'))\n",
      "lmtzr = WordNetLemmatizer()\n",
      "\n",
      "curr_suffixess = '--curr-suffess--'\n",
      "curr_suffixes = '--curr-suffes--'\n",
      "curr_prefix = '--curr-prefix--'\n",
      "prev_suffixes = '--prev-suffes--'\n",
      "curr_prefixes = '--curr-prefixes--'\n",
      "caps = '--caps--'\n",
      "thash = '--hash--'\n",
      "ing = '--ing--'\n",
      "dot = '--dot--'\n",
      "first = '--first--'\n",
      "stem = '--stem--'\n",
      "prev = '--prev--'\n",
      "\n",
      "def mywordFeatures(words,tag,prev_tag,m):\n",
      "    '''\n",
      "    :param words: a list of words\n",
      "    :type words: list\n",
      "    :param tag: a tag\n",
      "    :type tag: string\n",
      "    :type prev_tag: string\n",
      "    :type m: int\n",
      "    '''\n",
      " #   print offset,tag\n",
      "    out = {(offset,tag):1}\n",
      " #   out = {}\n",
      "    if m < len(words): #we can have m = M, for the transition to the end state\n",
      "  #     if words[m].isalpha():\n",
      "   #          out[(emit,tag,lmtzr.lemmatize(words[m].lower()))] =1\n",
      "    #   else:\n",
      "             out[(emit,tag,words[m].lower())]=1\n",
      "   #      out[(emit,tag, lmtzr.lemmatize(words[m].lower()))]=1\n",
      "       \n",
      "    return out\n",
      "\n",
      "def wordCharFeatures(words,tag,prev_tag,m):\n",
      "    output = mywordFeatures(words,tag,prev_tag,m) #start with the features from wordFeatures\n",
      "    # add your code here\n",
      "    output[(curr_suffix,tag,words[m][-1])] =1\n",
      "    \n",
      "  \n",
      "             \n",
      "    if(m>0):\n",
      "         output[(prev_suffix,tag,words[m-1][-1])] =1\n",
      "    return output\n",
      "\n",
      "def yourFeatures(words,tag,prev_tag,m):\n",
      "    output = wordCharFeatures(words,tag,prev_tag,m) #start with the features from wordFeatures\n",
      "  #  output[(prev,prev_tag)] =1  \n",
      "    if(m==0 or (m>0 and (words[m-1][-1] == '.' or words[m-1][-1] == ',') )):\n",
      "         output[(first,tag)] =1\n",
      "      \n",
      "    if words[m].isalpha():\n",
      "        output[(stem,tag,lmtzr.lemmatize(words[m].lower()))] =1\n",
      "    if len(words[m]) >1 :\n",
      "        output[(curr_suffixes,tag,words[m][-2] +words[m][-1])] =1\n",
      "    #    if words[m][-2:] == '..':\n",
      "     #         output[(dot,tag)] =1\n",
      "     \n",
      "        output[(curr_prefixes,tag,words[m][0] +words[m][1])] =1\n",
      "    if len(words[m]) >2 :\n",
      "        output[(curr_suffixess,tag,words[m][-3]+words[m][-2] +words[m][-1])] =1\n",
      "    if len(words[m]) >2 :\n",
      "        if words[m][-3:] == 'ing':\n",
      "              output[(ing,tag)] =1\n",
      "        if words[m][-3:] == '...':\n",
      "              output[(dot,tag)] =1\n",
      "            \n",
      "            \n",
      "#    if len(words[m-1]) >1 :    \n",
      " #          output[(prev_suffixes,tag,words[m-1][-2] +words[m-1][-1])] =1\n",
      "    #    output[(curr_suffixess,tag,words[m][-3]+words[m][-2] +words[m][-1])] =1\n",
      " #   if len(words[m]) >3:\n",
      "  #      output[(curr_suffixess,tag,words[m][-4]+words[m][-3]+words[m][-2] +words[m][-1])] =1\n",
      "     #   output[(curr_prefixes,tag,words[m][0] +words[m][1])] =1\n",
      "    output[(curr_prefix,tag,words[m][0])] =1\n",
      " #   if(m>0 and words[m][0]=='#' and words[m-1]!='.' ) :\n",
      "  #       output[(thash,tag,words[m])] =1\n",
      "    if(m>0 and words[m][0].isupper() and words[m-1]!='.' ) :\n",
      "         output[(caps,tag)] =1\n",
      "        \n",
      "#    if(m>0 and len(words[m-1])>1):\n",
      " #        output[(prev_suffixes,tag,words[m-1][-2] + words[m-1][-1])] =1\n",
      "    # your stuff\n",
      "    return output\n",
      "\n",
      "\n",
      "\n",
      "\n",
      "def clusterFeatures(words,tag,prev_tag,m):\n",
      "    output = yourFeatures(words,tag,prev_tag,m) #start with the features from yourfeatures\n",
      "    wrd = iidx_50.get(words[m])\n",
      "    if None != wrd:\n",
      "        cl = sizes[wrd]\n",
      "        output[(cluster,cl,tag)]=1\n",
      "    if m>1:\n",
      "        pwrd = iidx_50.get(words[m-1])\n",
      "        if None != pwrd and None != wrd:\n",
      "            cl = sizes[wrd]\n",
      "            pc1 = sizes[pwrd]\n",
      "            output[(cluster,pc1,cl,tag)]=1\n",
      "        if m <len(words) -1:\n",
      "            nwrd = iidx_50.get(words[m+1])\n",
      "            if None != nwrd and None != wrd:\n",
      "                cl = sizes[wrd]\n",
      "                nc1 = sizes[nwrd]\n",
      "                output[(cluster,nc1,cl,tag)]=1\n",
      "    return output"
     ],
     "language": "python",
     "metadata": {},
     "outputs": [],
     "prompt_number": 28
    },
    {
     "cell_type": "code",
     "collapsed": false,
     "input": [
      "\n",
      "def train(value):\n",
      "    tr_all = []\n",
      "    for i,(words,tags) in enumerate(conllSeqGenerator(trainfile)):\n",
      "        if i==value:\n",
      "            break\n",
      "        tr_all.append((words,tags))\n",
      "    return tr_all\n",
      "\n",
      "alltags = set()\n",
      "for i,(words, tags) in enumerate(tr_all):    \n",
      "    for tag in tags:\n",
      "        alltags.add(tag)\n",
      "        \n",
      "\n",
      "def makePlots(tr_acc,dv_acc):\n",
      "    ax1 = plt.subplot(1,2,1,xlabel='iteration',ylabel='accuracy')\n",
      "    plt.plot(tr_acc,'rx-')\n",
      "    plt.title('training')\n",
      "    plt.subplot(1,2,2,xlabel='iterator',sharey=ax1)\n",
      "    plt.plot(dv_acc,'bx-')\n",
      "    plt.title('development')\n",
      "    \n",
      "print 'Train ---50'\n",
      "tr_all = train(50)\n",
      "w, tr_acc, dv_acc = trainAvgPerceptron(10,tr_all,yourFeatures,alltags,'perc')\n",
      "makePlots(tr_acc,dv_acc)\n",
      "print 'With Cluster'\n",
      "w, tr_acc, dv_acc = trainAvgPerceptron(10,tr_all,clusterFeatures,alltags,'perc')\n",
      "# this code makes plots of the training and development set accuracy\n",
      "makePlots(tr_acc,dv_acc)"
     ],
     "language": "python",
     "metadata": {},
     "outputs": [
      {
       "output_type": "stream",
       "stream": "stdout",
       "text": [
        "Train ---50\n",
        "0"
       ]
      },
      {
       "output_type": "stream",
       "stream": "stdout",
       "text": [
        " dev: 0.563756997719 train: 0.418897637795\n",
        "1"
       ]
      },
      {
       "output_type": "stream",
       "stream": "stdout",
       "text": [
        " dev: 0.608127721335 train: 0.785826771654\n",
        "2"
       ]
      },
      {
       "output_type": "stream",
       "stream": "stdout",
       "text": [
        " dev: 0.617872693344 train: 0.925984251969\n",
        "3"
       ]
      },
      {
       "output_type": "stream",
       "stream": "stdout",
       "text": [
        " dev: 0.622226829774 train: 0.954330708661\n",
        "4"
       ]
      },
      {
       "output_type": "stream",
       "stream": "stdout",
       "text": [
        " dev: 0.622434169604 train: 0.949606299213\n",
        "5"
       ]
      },
      {
       "output_type": "stream",
       "stream": "stdout",
       "text": [
        " dev: 0.624300228074 train: 0.948031496063\n",
        "6"
       ]
      },
      {
       "output_type": "stream",
       "stream": "stdout",
       "text": [
        " dev: 0.626788306034 train: 0.965354330709\n",
        "7"
       ]
      },
      {
       "output_type": "stream",
       "stream": "stdout",
       "text": [
        " dev: 0.627202985694 train: 0.979527559055\n",
        "8"
       ]
      },
      {
       "output_type": "stream",
       "stream": "stdout",
       "text": [
        " dev: 0.628654364503 train: 0.976377952756\n",
        "9"
       ]
      },
      {
       "output_type": "stream",
       "stream": "stdout",
       "text": [
        " dev: 0.629483723823 train: 0.982677165354\n",
        "With Cluster"
       ]
      },
      {
       "output_type": "stream",
       "stream": "stdout",
       "text": [
        "\n",
        "0"
       ]
      },
      {
       "output_type": "stream",
       "stream": "stdout",
       "text": [
        " dev: 0.582417582418 train: 0.44094488189\n",
        "1"
       ]
      },
      {
       "output_type": "stream",
       "stream": "stdout",
       "text": [
        " dev: 0.623885548414 train: 0.836220472441\n",
        "2"
       ]
      },
      {
       "output_type": "stream",
       "stream": "stdout",
       "text": [
        " dev: 0.637362637363 train: 0.933858267717\n",
        "3"
       ]
      },
      {
       "output_type": "stream",
       "stream": "stdout",
       "text": [
        " dev: 0.641302094132 train: 0.970078740157\n",
        "4"
       ]
      },
      {
       "output_type": "stream",
       "stream": "stdout",
       "text": [
        " dev: 0.642338793282 train: 0.977952755906\n",
        "5"
       ]
      },
      {
       "output_type": "stream",
       "stream": "stdout",
       "text": [
        " dev: 0.643790172092 train: 0.984251968504\n",
        "6"
       ]
      },
      {
       "output_type": "stream",
       "stream": "stdout",
       "text": [
        " dev: 0.643168152602 train: 0.990551181102\n",
        "7"
       ]
      },
      {
       "output_type": "stream",
       "stream": "stdout",
       "text": [
        " dev: 0.641716773792 train: 0.993700787402\n",
        "8"
       ]
      },
      {
       "output_type": "stream",
       "stream": "stdout",
       "text": [
        " dev: 0.641716773792 train: 0.993700787402\n",
        "9"
       ]
      },
      {
       "output_type": "stream",
       "stream": "stdout",
       "text": [
        " dev: 0.639228695832 train: 0.993700787402\n"
       ]
      },
      {
       "metadata": {},
       "output_type": "display_data",
       "png": "[encoded data removed]",
       "text": [
        "<matplotlib.figure.Figure at 0x143c5c150>"
       ]
      }
     ],
     "prompt_number": 29
    },
    {
     "cell_type": "code",
     "collapsed": false,
     "input": [
      "    \n",
      "print 'Train ---100'\n",
      "tr_all = train(100)\n",
      "w, tr_acc, dv_acc = trainAvgPerceptron(10,tr_all,yourFeatures,alltags,'perc')\n",
      "\n",
      "makePlots(tr_acc,dv_acc)\n",
      "print 'With Cluster'\n",
      "w, tr_acc, dv_acc = trainAvgPerceptron(10,tr_all,clusterFeatures,alltags,'perc')\n",
      "# this code makes plots of the training and development set accuracy\n",
      "makePlots(tr_acc,dv_acc)\n",
      "\n",
      " "
     ],
     "language": "python",
     "metadata": {},
     "outputs": [
      {
       "output_type": "stream",
       "stream": "stdout",
       "text": [
        "Train ---100\n",
        "0"
       ]
      },
      {
       "output_type": "stream",
       "stream": "stdout",
       "text": [
        " dev: 0.640887414472 train: 0.522442972774\n",
        "1"
       ]
      },
      {
       "output_type": "stream",
       "stream": "stdout",
       "text": [
        " dev: 0.680074642339 train: 0.81604120677\n",
        "2"
       ]
      },
      {
       "output_type": "stream",
       "stream": "stdout",
       "text": [
        " dev: 0.694173750778 train: 0.889624724062\n",
        "3"
       ]
      },
      {
       "output_type": "stream",
       "stream": "stdout",
       "text": [
        " dev: 0.693759071118 train: 0.93451066961\n",
        "4"
       ]
      },
      {
       "output_type": "stream",
       "stream": "stdout",
       "text": [
        " dev: 0.699564586357 train: 0.93451066961\n",
        "5"
       ]
      },
      {
       "output_type": "stream",
       "stream": "stdout",
       "text": [
        " dev: 0.700186605847 train: 0.943340691685\n",
        "6"
       ]
      },
      {
       "output_type": "stream",
       "stream": "stdout",
       "text": [
        " dev: 0.702260004147 train: 0.949227373068\n",
        "7"
       ]
      },
      {
       "output_type": "stream",
       "stream": "stdout",
       "text": [
        " dev: 0.701015965167 train: 0.956585724798\n",
        "8"
       ]
      },
      {
       "output_type": "stream",
       "stream": "stdout",
       "text": [
        " dev: 0.700393945677 train: 0.970566593083\n",
        "9"
       ]
      },
      {
       "output_type": "stream",
       "stream": "stdout",
       "text": [
        " dev: 0.698735227037 train: 0.966151582046\n",
        "With Cluster"
       ]
      },
      {
       "output_type": "stream",
       "stream": "stdout",
       "text": [
        "\n",
        "0"
       ]
      },
      {
       "output_type": "stream",
       "stream": "stdout",
       "text": [
        " dev: 0.66369479577 train: 0.54157468727\n",
        "1"
       ]
      },
      {
       "output_type": "stream",
       "stream": "stdout",
       "text": [
        " dev: 0.697905867717 train: 0.860191317145\n",
        "2"
       ]
      },
      {
       "output_type": "stream",
       "stream": "stdout",
       "text": [
        " dev: 0.706199460916 train: 0.916114790287\n",
        "3"
       ]
      },
      {
       "output_type": "stream",
       "stream": "stdout",
       "text": [
        " dev: 0.709516898196 train: 0.941869021339\n",
        "4"
       ]
      },
      {
       "output_type": "stream",
       "stream": "stdout",
       "text": [
        " dev: 0.713249015136 train: 0.951434878587\n",
        "5"
       ]
      },
      {
       "output_type": "stream",
       "stream": "stdout",
       "text": [
        " dev: 0.713249015136 train: 0.9646799117\n",
        "6"
       ]
      },
      {
       "output_type": "stream",
       "stream": "stdout",
       "text": [
        " dev: 0.712834335476 train: 0.972038263429\n",
        "7"
       ]
      },
      {
       "output_type": "stream",
       "stream": "stdout",
       "text": [
        " dev: 0.713041675306 train: 0.977189109639\n",
        "8"
       ]
      },
      {
       "output_type": "stream",
       "stream": "stdout",
       "text": [
        " dev: 0.713456354966 train: 0.980868285504\n",
        "9"
       ]
      },
      {
       "output_type": "stream",
       "stream": "stdout",
       "text": [
        " dev: 0.713871034626 train: 0.98749080206\n"
       ]
      },
      {
       "metadata": {},
       "output_type": "display_data",
       "png": "[encoded data removed]",
       "text": [
        "<matplotlib.figure.Figure at 0x120024910>"
       ]
      }
     ],
     "prompt_number": 30
    },
    {
     "cell_type": "code",
     "collapsed": false,
     "input": [
      "   \n",
      "print 'Train ---200'\n",
      "tr_all = train(200)\n",
      "w, tr_acc, dv_acc = trainAvgPerceptron(10,tr_all,yourFeatures,alltags,'perc')\n",
      "makePlots(tr_acc,dv_acc)\n",
      "print 'With Cluster'\n",
      "w, tr_acc, dv_acc = trainAvgPerceptron(10,tr_all,clusterFeatures,alltags,'perc')\n",
      "# this code makes plots of the training and development set accuracy\n",
      "makePlots(tr_acc,dv_acc)\n"
     ],
     "language": "python",
     "metadata": {},
     "outputs": [
      {
       "output_type": "stream",
       "stream": "stdout",
       "text": [
        "Train ---200\n",
        "0"
       ]
      },
      {
       "output_type": "stream",
       "stream": "stdout",
       "text": [
        " dev: 0.703504043127 train: 0.589622641509\n",
        "1"
       ]
      },
      {
       "output_type": "stream",
       "stream": "stdout",
       "text": [
        " dev: 0.736885755754 train: 0.814223512337\n",
        "2"
       ]
      },
      {
       "output_type": "stream",
       "stream": "stdout",
       "text": [
        " dev: 0.745179348953 train: 0.879172714078\n",
        "3"
       ]
      },
      {
       "output_type": "stream",
       "stream": "stdout",
       "text": [
        " dev: 0.746838067593 train: 0.91618287373\n",
        "4"
       ]
      },
      {
       "output_type": "stream",
       "stream": "stdout",
       "text": [
        " dev: 0.746423387933 train: 0.92053701016\n",
        "5"
       ]
      },
      {
       "output_type": "stream",
       "stream": "stdout",
       "text": [
        " dev: 0.744764669293 train: 0.931059506531\n",
        "6"
       ]
      },
      {
       "output_type": "stream",
       "stream": "stdout",
       "text": [
        " dev: 0.743313290483 train: 0.940130624093\n",
        "7"
       ]
      },
      {
       "output_type": "stream",
       "stream": "stdout",
       "text": [
        " dev: 0.742069251503 train: 0.945936139332\n",
        "8"
       ]
      },
      {
       "output_type": "stream",
       "stream": "stdout",
       "text": [
        " dev: 0.742483931163 train: 0.948113207547\n",
        "9"
       ]
      },
      {
       "output_type": "stream",
       "stream": "stdout",
       "text": [
        " dev: 0.742898610823 train: 0.949564586357\n",
        "With Cluster"
       ]
      },
      {
       "output_type": "stream",
       "stream": "stdout",
       "text": [
        "\n",
        "0"
       ]
      },
      {
       "output_type": "stream",
       "stream": "stdout",
       "text": [
        " dev: 0.719883889695 train: 0.600145137881\n",
        "1"
       ]
      },
      {
       "output_type": "stream",
       "stream": "stdout",
       "text": [
        " dev: 0.745386688783 train: 0.848330914369\n",
        "2"
       ]
      },
      {
       "output_type": "stream",
       "stream": "stdout",
       "text": [
        " dev: 0.752021563342 train: 0.897677793904\n",
        "3"
       ]
      },
      {
       "output_type": "stream",
       "stream": "stdout",
       "text": [
        " dev: 0.753472942152 train: 0.918359941945\n",
        "4"
       ]
      },
      {
       "output_type": "stream",
       "stream": "stdout",
       "text": [
        " dev: 0.751192204022 train: 0.944847605225\n",
        "5"
       ]
      },
      {
       "output_type": "stream",
       "stream": "stdout",
       "text": [
        " dev: 0.751814223512 train: 0.957547169811\n",
        "6"
       ]
      },
      {
       "output_type": "stream",
       "stream": "stdout",
       "text": [
        " dev: 0.751399543852 train: 0.961538461538\n",
        "7"
       ]
      },
      {
       "output_type": "stream",
       "stream": "stdout",
       "text": [
        " dev: 0.748704126063 train: 0.965892597968\n",
        "8"
       ]
      },
      {
       "output_type": "stream",
       "stream": "stdout",
       "text": [
        " dev: 0.748082106573 train: 0.966618287373\n",
        "9"
       ]
      },
      {
       "output_type": "stream",
       "stream": "stdout",
       "text": [
        " dev: 0.747667426913 train: 0.968795355588\n"
       ]
      },
      {
       "metadata": {},
       "output_type": "display_data",
       "png": "[encoded data removed]",
       "text": [
        "<matplotlib.figure.Figure at 0x112bfac90>"
       ]
      }
     ],
     "prompt_number": 31
    },
    {
     "cell_type": "code",
     "collapsed": false,
     "input": [
      "\n",
      "    \n",
      "print 'Train ---500'\n",
      "tr_all = train(500)\n",
      "w, tr_acc, dv_acc = trainAvgPerceptron(10,tr_all,yourFeatures,alltags,'perc')\n",
      "makePlots(tr_acc,dv_acc)\n",
      "print 'With Cluster'\n",
      "w, tr_acc, dv_acc = trainAvgPerceptron(10,tr_all,clusterFeatures,alltags,'perc')\n",
      "# this code makes plots of the training and development set accuracy\n",
      "makePlots(tr_acc,dv_acc)\n",
      "\n",
      " "
     ],
     "language": "python",
     "metadata": {},
     "outputs": [
      {
       "output_type": "stream",
       "stream": "stdout",
       "text": [
        "Train ---500\n",
        "0"
       ]
      },
      {
       "output_type": "stream",
       "stream": "stdout",
       "text": [
        " dev: 0.759485797222 train: 0.654867256637\n",
        "1"
       ]
      },
      {
       "output_type": "stream",
       "stream": "stdout",
       "text": [
        " dev: 0.786647314949 train: 0.82043962318\n",
        "2"
       ]
      },
      {
       "output_type": "stream",
       "stream": "stdout",
       "text": [
        " dev: 0.795977607298 train: 0.87382243791\n",
        "3"
       ]
      },
      {
       "output_type": "stream",
       "stream": "stdout",
       "text": [
        " dev: 0.799295044578 train: 0.903225806452\n",
        "4"
       ]
      },
      {
       "output_type": "stream",
       "stream": "stdout",
       "text": [
        " dev: 0.799087704748 train: 0.918355695118\n",
        "5"
       ]
      },
      {
       "output_type": "stream",
       "stream": "stdout",
       "text": [
        " dev: 0.799917064068 train: 0.921067656295\n",
        "6"
       ]
      },
      {
       "output_type": "stream",
       "stream": "stdout",
       "text": [
        " dev: 0.801161103048 train: 0.924778761062\n",
        "7"
       ]
      },
      {
       "output_type": "stream",
       "stream": "stdout",
       "text": [
        " dev: 0.801575782708 train: 0.928204396232\n",
        "8"
       ]
      },
      {
       "output_type": "stream",
       "stream": "stdout",
       "text": [
        " dev: 0.801161103048 train: 0.933057379389\n",
        "9"
       ]
      },
      {
       "output_type": "stream",
       "stream": "stdout",
       "text": [
        " dev: 0.801368442878 train: 0.934341992578\n",
        "With Cluster"
       ]
      },
      {
       "output_type": "stream",
       "stream": "stdout",
       "text": [
        "\n",
        "0"
       ]
      },
      {
       "output_type": "stream",
       "stream": "stdout",
       "text": [
        " dev: 0.784159236989 train: 0.664002283757\n",
        "1"
       ]
      },
      {
       "output_type": "stream",
       "stream": "stdout",
       "text": [
        " dev: 0.799087704748 train: 0.839851555809\n",
        "2"
       ]
      },
      {
       "output_type": "stream",
       "stream": "stdout",
       "text": [
        " dev: 0.801575782708 train: 0.89095061376\n",
        "3"
       ]
      },
      {
       "output_type": "stream",
       "stream": "stdout",
       "text": [
        " dev: 0.799917064068 train: 0.909791607194\n",
        "4"
       ]
      },
      {
       "output_type": "stream",
       "stream": "stdout",
       "text": [
        " dev: 0.802405142028 train: 0.926919783043\n",
        "5"
       ]
      },
      {
       "output_type": "stream",
       "stream": "stdout",
       "text": [
        " dev: 0.804271200498 train: 0.934627462175\n",
        "6"
       ]
      },
      {
       "output_type": "stream",
       "stream": "stdout",
       "text": [
        " dev: 0.803649181008 train: 0.943905224094\n",
        "7"
       ]
      },
      {
       "output_type": "stream",
       "stream": "stdout",
       "text": [
        " dev: 0.804685880158 train: 0.945618041679\n",
        "8"
       ]
      },
      {
       "output_type": "stream",
       "stream": "stdout",
       "text": [
        " dev: 0.806137258967 train: 0.949329146446\n",
        "9"
       ]
      },
      {
       "output_type": "stream",
       "stream": "stdout",
       "text": [
        " dev: 0.804893219988 train: 0.954610333999\n"
       ]
      },
      {
       "metadata": {},
       "output_type": "display_data",
       "png": "[encoded data removed]",
       "text": [
        "<matplotlib.figure.Figure at 0x112c3d290>"
       ]
      }
     ],
     "prompt_number": 32
    },
    {
     "cell_type": "code",
     "collapsed": false,
     "input": [
      "   \n",
      "print 'Train ---1000'\n",
      "tr_all = train(1000)\n",
      "w, tr_acc, dv_acc = trainAvgPerceptron(10,tr_all,yourFeatures,alltags,'perc')\n",
      "makePlots(tr_acc,dv_acc)\n",
      "print 'With Cluster'\n",
      "w, tr_acc, dv_acc = trainAvgPerceptron(10,tr_all,clusterFeatures,alltags,'perc')\n",
      "# this code makes plots of the training and development set accuracy\n",
      "makePlots(tr_acc,dv_acc)"
     ],
     "language": "python",
     "metadata": {},
     "outputs": [
      {
       "output_type": "stream",
       "stream": "stdout",
       "text": [
        "Train ---1000\n",
        "0"
       ]
      },
      {
       "output_type": "stream",
       "stream": "stdout",
       "text": [
        " dev: 0.800953763218 train: 0.695396401943\n",
        "1"
       ]
      },
      {
       "output_type": "stream",
       "stream": "stdout",
       "text": [
        " dev: 0.817540949616 train: 0.826116697449\n",
        "2"
       ]
      },
      {
       "output_type": "stream",
       "stream": "stdout",
       "text": [
        " dev: 0.823968484346 train: 0.866817155756\n",
        "3"
       ]
      },
      {
       "output_type": "stream",
       "stream": "stdout",
       "text": [
        " dev: 0.825627202986 train: 0.888364457213\n",
        "4"
       ]
      },
      {
       "output_type": "stream",
       "stream": "stdout",
       "text": [
        " dev: 0.826456562306 train: 0.897120186059\n",
        "5"
       ]
      },
      {
       "output_type": "stream",
       "stream": "stdout",
       "text": [
        " dev: 0.828115280945 train: 0.907859634722\n",
        "6"
       ]
      },
      {
       "output_type": "stream",
       "stream": "stdout",
       "text": [
        " dev: 0.827285921626 train: 0.914905260278\n",
        "7"
       ]
      },
      {
       "output_type": "stream",
       "stream": "stdout",
       "text": [
        " dev: 0.829359319925 train: 0.917504617279\n",
        "8"
       ]
      },
      {
       "output_type": "stream",
       "stream": "stdout",
       "text": [
        " dev: 0.829773999585 train: 0.917231000752\n",
        "9"
       ]
      },
      {
       "output_type": "stream",
       "stream": "stdout",
       "text": [
        " dev: 0.830396019075 train: 0.922156098228\n",
        "With Cluster"
       ]
      },
      {
       "output_type": "stream",
       "stream": "stdout",
       "text": [
        "\n",
        "0"
       ]
      },
      {
       "output_type": "stream",
       "stream": "stdout",
       "text": [
        " dev: 0.816711590296 train: 0.706683083658\n",
        "1"
       ]
      },
      {
       "output_type": "stream",
       "stream": "stdout",
       "text": [
        " dev: 0.832262077545 train: 0.840139544428\n",
        "2"
       ]
      },
      {
       "output_type": "stream",
       "stream": "stdout",
       "text": [
        " dev: 0.836616213975 train: 0.882002872974\n",
        "3"
       ]
      },
      {
       "output_type": "stream",
       "stream": "stdout",
       "text": [
        " dev: 0.840140991084 train: 0.904302619878\n",
        "4"
       ]
      },
      {
       "output_type": "stream",
       "stream": "stdout",
       "text": [
        " dev: 0.836823553805 train: 0.914768452015\n",
        "5"
       ]
      },
      {
       "output_type": "stream",
       "stream": "stdout",
       "text": [
        " dev: 0.836201534315 train: 0.925849921335\n",
        "6"
       ]
      },
      {
       "output_type": "stream",
       "stream": "stdout",
       "text": [
        " dev: 0.835579514825 train: 0.930569806416\n",
        "7"
       ]
      },
      {
       "output_type": "stream",
       "stream": "stdout",
       "text": [
        " dev: 0.835786854655 train: 0.93583692455\n",
        "8"
       ]
      },
      {
       "output_type": "stream",
       "stream": "stdout",
       "text": [
        " dev: 0.837860252955 train: 0.938436281551\n",
        "9"
       ]
      },
      {
       "output_type": "stream",
       "stream": "stdout",
       "text": [
        " dev: 0.838274932615 train: 0.940693617895\n"
       ]
      },
      {
       "metadata": {},
       "output_type": "display_data",
       "png": "[encoded data removed]",
       "text": [
        "<matplotlib.figure.Figure at 0x112c35d90>"
       ]
      }
     ],
     "prompt_number": 33
    },
    {
     "cell_type": "markdown",
     "metadata": {},
     "source": [
      "You may want to try larger numbers of clusters to improve performance. \n",
      "\n",
      "You can even include the results from multiple clusterings with different numbers of clusters (50, 100, 200, 500, ...), \n",
      "using features like C43-50/N (cluster 43 of 50, with tag N), C377-500/V (cluster 377 of 500, with tag V).\n",
      "\n",
      "You can also use clusters for the features of neighboring words."
     ]
    },
    {
     "cell_type": "markdown",
     "metadata": {},
     "source": [
      "### 7.2 Dependency Parser ###\n",
      "\n",
      "If you could not get your implementation of structured perceptron for Twitter POS tagging to work, \n",
      "and you don\u2019t want to keep trying, you can instead add distributional features to the dependency parser from homework 3.\n",
      "\n",
      "Download the Brown clusters from a [word representation website](http://metaoptimize.com/projects/wordreprs/), \n",
      "using the 1000-cluster model. Follow [this paper](http://www.iro.umontreal.ca/~lisa/pointeurs/turian-wordrepresentations-acl10.pdf) on word representation, \n",
      "adding features for prefixes of length 4, 6, 10, and 20. \n",
      "The features should capture the prefix of the head and modifier. You may also try \u201chybrid\u201d \n",
      "features that combine a prefix for the head, and the POS tag of  the modifier - and vice versa. \n",
      "See [this paper](http://www.cs.columbia.edu/~mcollins/papers/koo08acl.pdf) for more ideas and details.\n",
      "\n",
      "**Deliverable 11 (Option B)** Building training sets including the first 100, 500, 1000, 3000, and 7596 **sentences** (not words).\n",
      "Train your parser on each training set, using your best features, and plot the dev set accuracy. Then retrain your parser, adding \n",
      "the new Brown cluster features. Plot dev set accuracy"
     ]
    },
    {
     "cell_type": "code",
     "collapsed": false,
     "input": [
      "'''\n",
      "Your code here\n",
      "'''\n",
      "from numpy import sign\n",
      "import sys\n",
      "sys.path.append('parsing/')\n",
      "\n",
      "import dependency_parser as depp\n",
      "import dependency_features as depf\n",
      "\n",
      "class LexFeats(depf.DependencyFeatures):\n",
      "    def create_arc_features(self,instance,h,m,add=False):\n",
      "        ff = super(LexFeats,self).create_arc_features(instance,h,m,add)\n",
      "        k = len(ff)\n",
      "        f = self.getF((k,instance.pos[h],instance.words[m]),add)\n",
      "        ff.append(f)\n",
      "       \n",
      "        return ff\n",
      "class LexDistFeats(LexFeats):\n",
      "    def create_arc_features(self,instance,h,m,add=False):\n",
      "        ff = super(LexDistFeats,self).create_arc_features(instance,h,m,add)\n",
      "        k = len(ff)\n",
      "        if(abs(h-m) <=10 ) :\n",
      "            f = self.getF((k,h-m), add) # your code here\n",
      "            ff.append(f)\n",
      "        return ff\n",
      "class LexDistFeats2(LexDistFeats):\n",
      "    def create_arc_features(self,instance,h,m,add=False):\n",
      "           ff = super(LexDistFeats2,self).create_arc_features(instance,h,m,add)\n",
      "           k = len(ff)\n",
      "           f = self.getF((k,instance.words[h],instance.pos[m]),add)\n",
      "           ff.append(f)\n",
      "           return ff\n",
      "class ContextFeats(LexDistFeats2):\n",
      "    def create_arc_features(self,instance,h,m,add=False):\n",
      "         ff = super(ContextFeats,self).create_arc_features(instance,h,m,add)\n",
      "         k = len(ff)\n",
      "         if(h>1):\n",
      "             f = self.getF((k,instance.pos[h],instance.pos[h-1],instance.pos[m]),add)\n",
      "             ff.append(f) \n",
      "         if(m < len(instance.pos)-1):\n",
      "             f1 = self.getF((k,instance.pos[h],instance.pos[m],instance.pos[m+1]),add)\n",
      "             ff.append(f1)\n",
      "         if(m>1):\n",
      "             f = self.getF((k,instance.pos[h],instance.pos[m],instance.pos[m-1]),add)\n",
      "             ff.append(f) \n",
      "         return ff\n",
      "class BakeOffFeats(ContextFeats):\n",
      "    def create_arc_features(self,instance,h,m,add=False):\n",
      "         ff = super(BakeOffFeats,self).create_arc_features(instance,h,m,add)\n",
      "         k = len(ff)\n",
      "         if(h>1):\n",
      "             f = self.getF((k,instance.words[h],instance.words[h-1]),add)\n",
      "             ff.append(f)\n",
      "        \n",
      "         if(h>1) and m < len(instance.pos)-1: \n",
      "             f1 = self.getF((k,instance.pos[h],instance.pos[h-1],instance.pos[m],instance.pos[m+1]),add)\n",
      "             ff.append(f1)\n",
      "      #   f1 = self.getF((k,instance.words[h],instance.words[m],instance.pos[h],instance.pos[m]),add)\n",
      "      #   ff.append(f1) \n",
      "         \n",
      "         #for i in range(len(instance.words)):\n",
      "       #     if instance.pos[i] == instance.pos[m] :\n",
      "       #          f1 = self.getF((k,instance.words[h],instance.words[i]),add)\n",
      "       #          ff.append(f1) \n",
      "                            \n",
      "         return ff\n",
      "\n",
      "\n",
      "                \n",
      "                \n",
      "dp = depp.DependencyParser(feature_function=BakeOffFeats())\n",
      "dp.read_data(\"english\",8000)    \n",
      "brown_weights = defaultdict()\n",
      "word_weights = defaultdict()\n",
      "with open('brown.txt','rb') as vocabfile:\n",
      "        for line in vocabfile:\n",
      "            split = line.split()\n",
      "            if None != dp.reader.word_dict.get(split[1]):\n",
      "                brown_weights[dp.reader.word_dict.get(split[1])] = split[0]\n",
      "                word_weights[dp.reader.word_dict.get(split[1])] = split[1]\n",
      "                \n",
      "class BrownFeats(BakeOffFeats):\n",
      "    def create_arc_features(self,instance,h,m,add=False):\n",
      "         ff = super(BrownFeats,self).create_arc_features(instance,h,m,add)\n",
      "         k = len(ff)\n",
      "         headp = brown_weights.get(instance.words[h])\n",
      "         mop= brown_weights.get(instance.words[m])\n",
      "         if None!= headp  and None != mop:\n",
      "                f1 = self.getF((k,headp,mop),add)\n",
      "                ff.append(f1)\n",
      "                if(len(headp) > 4 and len(mop)>4):\n",
      "                   f1 = self.getF((k,headp[0:4],mop[0:4]),add)\n",
      "                   ff.append(f1)\n",
      "                #   f1 = self.getF((k,headp[0:4],instance.pos[h]),add)\n",
      "                #   ff.append(f1)\n",
      "             #      f1 = self.getF((k,headp[0:4],word_weights[instance.words[m]]),add)\n",
      "             #      ff.append(f1)\n",
      "             #      f1 = self.getF((k,mop[0:4],word_weights[instance.words[h]]),add)\n",
      "             #      ff.append(f1)\n",
      "                #   f1 = self.getF((k,mop[0:4],instance.pos[m]),add)\n",
      "                #   ff.append(f1)\n",
      "                if(len(headp) > 6 and len(mop)>6):\n",
      "                   f1 = self.getF((k,headp[0:6],mop[0:6]),add)\n",
      "                   ff.append(f1)\n",
      "                if(len(headp) > 10 and len(mop)>10):\n",
      "                   f1 = self.getF((k,headp[0:10],mop[0:10]),add)\n",
      "                   ff.append(f1)\n",
      "                if(len(headp) > 20 and len(mop)>20):\n",
      "                   f1 = self.getF((k,headp[0:20],mop[0:20]),add)\n",
      "                   ff.append(f1)\n",
      "             #      f1 = self.getF((k,headp[0:6],word_weights[instance.words[m]]),add)\n",
      "             #      ff.append(f1)\n",
      "             #      f1 = self.getF((k,mop[0:6],word_weights[instance.words[h]]),add)\n",
      "             #      ff.append(f1)\n",
      "                 #  f1 = self.getF((k,headp[0:6],instance.pos[h]),add)\n",
      "                 #  ff.append(f1)\n",
      "                 #  f1 = self.getF((k,mop[0:6],instance.pos[m]),add)\n",
      "                 #  ff.append(f1)\n",
      "              #  for i in range(len(instance.words)):\n",
      "              #      if instance.pos[i] == instance.pos[m] :\n",
      "              #           f1 = self.getF((k,word_weights[instance.words[h]],word_weights[instance.words[m]]),add)\n",
      "              #           ff.append(f1) \n",
      "                                     \n",
      "         return ff\n",
      "                \n",
      "#wordid = dp.reader.word_dict['best']\n",
      "#print brown_weights[dp.reader.word_dict['best']][0:6]\n",
      "#print word_weights[wordid]\n",
      "                "
     ],
     "language": "python",
     "metadata": {},
     "outputs": [
      {
       "output_type": "stream",
       "stream": "stdout",
       "text": [
        "parsing/../data/deppars\n",
        "Number of sentences: 7569"
       ]
      },
      {
       "output_type": "stream",
       "stream": "stdout",
       "text": [
        "\n",
        "Number of tokens: 75621\n",
        "Number of words: 11766\n",
        "Number of pos: 48\n",
        "Number of features: 96518"
       ]
      },
      {
       "output_type": "stream",
       "stream": "stdout",
       "text": [
        "\n"
       ]
      }
     ],
     "prompt_number": 34
    },
    {
     "cell_type": "code",
     "collapsed": false,
     "input": [
      "print 'Train 100'\n",
      "dp = depp.DependencyParser(feature_function=BakeOffFeats())\n",
      "dp.read_data(\"english\",100)\n",
      "tr_acc ,dv_acc  = dp.train_perceptron(10) \n",
      "makePlots(tr_acc,dv_acc)\n",
      "print 'Cluster Features'\n",
      "dp = depp.DependencyParser(feature_function=BrownFeats())\n",
      "dp.read_data(\"english\",100)\n",
      "tr_acc , dv_acc = dp.train_perceptron(10) \n",
      "makePlots(tr_acc,dv_acc)"
     ],
     "language": "python",
     "metadata": {},
     "outputs": [
      {
       "output_type": "stream",
       "stream": "stdout",
       "text": [
        "Train 100\n",
        "parsing/../data/deppars\n",
        "Number of sentences: 100\n",
        "Number of tokens: 975\n",
        "Number of words: 524\n",
        "Number of pos: 37\n",
        "Number of features: 30760"
       ]
      },
      {
       "output_type": "stream",
       "stream": "stdout",
       "text": [
        "\n",
        "Epoch 1 Train: "
       ]
      },
      {
       "output_type": "stream",
       "stream": "stdout",
       "text": [
        "0.761 Dev: "
       ]
      },
      {
       "output_type": "stream",
       "stream": "stdout",
       "text": [
        "0.787\n",
        "Epoch 2 Train: "
       ]
      },
      {
       "output_type": "stream",
       "stream": "stdout",
       "text": [
        "0.813 Dev: "
       ]
      },
      {
       "output_type": "stream",
       "stream": "stdout",
       "text": [
        "0.801\n",
        "Epoch 3 Train: "
       ]
      },
      {
       "output_type": "stream",
       "stream": "stdout",
       "text": [
        "0.829 Dev: "
       ]
      },
      {
       "output_type": "stream",
       "stream": "stdout",
       "text": [
        "0.814\n",
        "Epoch 4 Train: "
       ]
      },
      {
       "output_type": "stream",
       "stream": "stdout",
       "text": [
        "0.838 Dev: "
       ]
      },
      {
       "output_type": "stream",
       "stream": "stdout",
       "text": [
        "0.820\n",
        "Epoch 5 Train: "
       ]
      },
      {
       "output_type": "stream",
       "stream": "stdout",
       "text": [
        "0.847 Dev: "
       ]
      },
      {
       "output_type": "stream",
       "stream": "stdout",
       "text": [
        "0.826\n",
        "Epoch 6 Train: "
       ]
      },
      {
       "output_type": "stream",
       "stream": "stdout",
       "text": [
        "0.854 Dev: "
       ]
      },
      {
       "output_type": "stream",
       "stream": "stdout",
       "text": [
        "0.830\n",
        "Epoch 7 Train: "
       ]
      },
      {
       "output_type": "stream",
       "stream": "stdout",
       "text": [
        "0.857 Dev: "
       ]
      },
      {
       "output_type": "stream",
       "stream": "stdout",
       "text": [
        "0.832\n",
        "Epoch 8 Train: "
       ]
      },
      {
       "output_type": "stream",
       "stream": "stdout",
       "text": [
        "0.863 Dev: "
       ]
      },
      {
       "output_type": "stream",
       "stream": "stdout",
       "text": [
        "0.832\n",
        "Epoch 9 Train: "
       ]
      },
      {
       "output_type": "stream",
       "stream": "stdout",
       "text": [
        "0.865 Dev: "
       ]
      },
      {
       "output_type": "stream",
       "stream": "stdout",
       "text": [
        "0.833\n",
        "Epoch 10 Train: "
       ]
      },
      {
       "output_type": "stream",
       "stream": "stdout",
       "text": [
        "0.869 Dev: "
       ]
      },
      {
       "output_type": "stream",
       "stream": "stdout",
       "text": [
        "0.833\n",
        "Cluster Features"
       ]
      },
      {
       "output_type": "stream",
       "stream": "stdout",
       "text": [
        "\n",
        "parsing/../data/deppars\n",
        "Number of sentences: 100\n",
        "Number of tokens: 975\n",
        "Number of words: 524\n",
        "Number of pos: 37\n",
        "Number of features: 35553"
       ]
      },
      {
       "output_type": "stream",
       "stream": "stdout",
       "text": [
        "\n",
        "Epoch 1 Train: "
       ]
      },
      {
       "output_type": "stream",
       "stream": "stdout",
       "text": [
        "0.764 Dev: "
       ]
      },
      {
       "output_type": "stream",
       "stream": "stdout",
       "text": [
        "0.809\n",
        "Epoch 2 Train: "
       ]
      },
      {
       "output_type": "stream",
       "stream": "stdout",
       "text": [
        "0.816 Dev: "
       ]
      },
      {
       "output_type": "stream",
       "stream": "stdout",
       "text": [
        "0.817\n",
        "Epoch 3 Train: "
       ]
      },
      {
       "output_type": "stream",
       "stream": "stdout",
       "text": [
        "0.834 Dev: "
       ]
      },
      {
       "output_type": "stream",
       "stream": "stdout",
       "text": [
        "0.821\n",
        "Epoch 4 Train: "
       ]
      },
      {
       "output_type": "stream",
       "stream": "stdout",
       "text": [
        "0.842 Dev: "
       ]
      },
      {
       "output_type": "stream",
       "stream": "stdout",
       "text": [
        "0.825\n",
        "Epoch 5 Train: "
       ]
      },
      {
       "output_type": "stream",
       "stream": "stdout",
       "text": [
        "0.851 Dev: "
       ]
      },
      {
       "output_type": "stream",
       "stream": "stdout",
       "text": [
        "0.829\n",
        "Epoch 6 Train: "
       ]
      },
      {
       "output_type": "stream",
       "stream": "stdout",
       "text": [
        "0.855 Dev: "
       ]
      },
      {
       "output_type": "stream",
       "stream": "stdout",
       "text": [
        "0.835\n",
        "Epoch 7 Train: "
       ]
      },
      {
       "output_type": "stream",
       "stream": "stdout",
       "text": [
        "0.860 Dev: "
       ]
      },
      {
       "output_type": "stream",
       "stream": "stdout",
       "text": [
        "0.835\n",
        "Epoch 8 Train: "
       ]
      },
      {
       "output_type": "stream",
       "stream": "stdout",
       "text": [
        "0.865 Dev: "
       ]
      },
      {
       "output_type": "stream",
       "stream": "stdout",
       "text": [
        "0.836\n",
        "Epoch 9 Train: "
       ]
      },
      {
       "output_type": "stream",
       "stream": "stdout",
       "text": [
        "0.868 Dev: "
       ]
      },
      {
       "output_type": "stream",
       "stream": "stdout",
       "text": [
        "0.837\n",
        "Epoch 10 Train: "
       ]
      },
      {
       "output_type": "stream",
       "stream": "stdout",
       "text": [
        "0.874 Dev: "
       ]
      },
      {
       "output_type": "stream",
       "stream": "stdout",
       "text": [
        "0.836\n"
       ]
      },
      {
       "metadata": {},
       "output_type": "display_data",
       "png": "[encoded data removed]",
       "text": [
        "<matplotlib.figure.Figure at 0x112bf4dd0>"
       ]
      }
     ],
     "prompt_number": 35
    },
    {
     "cell_type": "code",
     "collapsed": false,
     "input": [],
     "language": "python",
     "metadata": {},
     "outputs": [],
     "prompt_number": 35
    },
    {
     "cell_type": "code",
     "collapsed": false,
     "input": [],
     "language": "python",
     "metadata": {},
     "outputs": [],
     "prompt_number": 35
    },
    {
     "cell_type": "code",
     "collapsed": false,
     "input": [
      "print 'Train 500'\n",
      "dp = depp.DependencyParser(feature_function=BakeOffFeats())\n",
      "dp.read_data(\"english\",500)\n",
      "tr_acc , dv_acc = dp.train_perceptron(10) \n",
      "makePlots(tr_acc, dv_acc)\n",
      "print 'Cluster Features'\n",
      "dp = depp.DependencyParser(feature_function=BrownFeats())\n",
      "dp.read_data(\"english\",500)\n",
      "tr_acc, dv_acc = dp.train_perceptron(10) \n",
      "makePlots(tr_acc , dv_acc)"
     ],
     "language": "python",
     "metadata": {},
     "outputs": [
      {
       "output_type": "stream",
       "stream": "stdout",
       "text": [
        "Train 500\n",
        "parsing/../data/deppars\n",
        "Number of sentences: 500\n",
        "Number of tokens: 4933\n",
        "Number of words: 1890\n",
        "Number of pos: 44\n",
        "Number of features: 48226"
       ]
      },
      {
       "output_type": "stream",
       "stream": "stdout",
       "text": [
        "\n",
        "Epoch 1 Train: "
       ]
      },
      {
       "output_type": "stream",
       "stream": "stdout",
       "text": [
        "0.765 Dev: "
       ]
      },
      {
       "output_type": "stream",
       "stream": "stdout",
       "text": [
        "0.808\n",
        "Epoch 2 Train: "
       ]
      },
      {
       "output_type": "stream",
       "stream": "stdout",
       "text": [
        "0.828 Dev: "
       ]
      },
      {
       "output_type": "stream",
       "stream": "stdout",
       "text": [
        "0.822\n",
        "Epoch 3 Train: "
       ]
      },
      {
       "output_type": "stream",
       "stream": "stdout",
       "text": [
        "0.846 Dev: "
       ]
      },
      {
       "output_type": "stream",
       "stream": "stdout",
       "text": [
        "0.833\n",
        "Epoch 4 Train: "
       ]
      },
      {
       "output_type": "stream",
       "stream": "stdout",
       "text": [
        "0.861 Dev: "
       ]
      },
      {
       "output_type": "stream",
       "stream": "stdout",
       "text": [
        "0.839\n",
        "Epoch 5 Train: "
       ]
      },
      {
       "output_type": "stream",
       "stream": "stdout",
       "text": [
        "0.871 Dev: "
       ]
      },
      {
       "output_type": "stream",
       "stream": "stdout",
       "text": [
        "0.843\n",
        "Epoch 6 Train: "
       ]
      },
      {
       "output_type": "stream",
       "stream": "stdout",
       "text": [
        "0.879 Dev: "
       ]
      },
      {
       "output_type": "stream",
       "stream": "stdout",
       "text": [
        "0.844\n",
        "Epoch 7 Train: "
       ]
      },
      {
       "output_type": "stream",
       "stream": "stdout",
       "text": [
        "0.884 Dev: "
       ]
      },
      {
       "output_type": "stream",
       "stream": "stdout",
       "text": [
        "0.848\n",
        "Epoch 8 Train: "
       ]
      },
      {
       "output_type": "stream",
       "stream": "stdout",
       "text": [
        "0.889 Dev: "
       ]
      },
      {
       "output_type": "stream",
       "stream": "stdout",
       "text": [
        "0.845\n",
        "Epoch 9 Train: "
       ]
      },
      {
       "output_type": "stream",
       "stream": "stdout",
       "text": [
        "0.895 Dev: "
       ]
      },
      {
       "output_type": "stream",
       "stream": "stdout",
       "text": [
        "0.846\n",
        "Epoch 10 Train: "
       ]
      },
      {
       "output_type": "stream",
       "stream": "stdout",
       "text": [
        "0.898 Dev: "
       ]
      },
      {
       "output_type": "stream",
       "stream": "stdout",
       "text": [
        "0.848\n",
        "Cluster Features"
       ]
      },
      {
       "output_type": "stream",
       "stream": "stdout",
       "text": [
        "\n",
        "parsing/../data/deppars\n",
        "Number of sentences: 500\n",
        "Number of tokens: 4933\n",
        "Number of words: 1890\n",
        "Number of pos: 44\n",
        "Number of features: 62271"
       ]
      },
      {
       "output_type": "stream",
       "stream": "stdout",
       "text": [
        "\n",
        "Epoch 1 Train: "
       ]
      },
      {
       "output_type": "stream",
       "stream": "stdout",
       "text": [
        "0.768 Dev: "
       ]
      },
      {
       "output_type": "stream",
       "stream": "stdout",
       "text": [
        "0.795\n",
        "Epoch 2 Train: "
       ]
      },
      {
       "output_type": "stream",
       "stream": "stdout",
       "text": [
        "0.833 Dev: "
       ]
      },
      {
       "output_type": "stream",
       "stream": "stdout",
       "text": [
        "0.823\n",
        "Epoch 3 Train: "
       ]
      },
      {
       "output_type": "stream",
       "stream": "stdout",
       "text": [
        "0.853 Dev: "
       ]
      },
      {
       "output_type": "stream",
       "stream": "stdout",
       "text": [
        "0.834\n",
        "Epoch 4 Train: "
       ]
      },
      {
       "output_type": "stream",
       "stream": "stdout",
       "text": [
        "0.867 Dev: "
       ]
      },
      {
       "output_type": "stream",
       "stream": "stdout",
       "text": [
        "0.843\n",
        "Epoch 5 Train: "
       ]
      },
      {
       "output_type": "stream",
       "stream": "stdout",
       "text": [
        "0.877 Dev: "
       ]
      },
      {
       "output_type": "stream",
       "stream": "stdout",
       "text": [
        "0.846\n",
        "Epoch 6 Train: "
       ]
      },
      {
       "output_type": "stream",
       "stream": "stdout",
       "text": [
        "0.887 Dev: "
       ]
      },
      {
       "output_type": "stream",
       "stream": "stdout",
       "text": [
        "0.845\n",
        "Epoch 7 Train: "
       ]
      },
      {
       "output_type": "stream",
       "stream": "stdout",
       "text": [
        "0.891 Dev: "
       ]
      },
      {
       "output_type": "stream",
       "stream": "stdout",
       "text": [
        "0.849\n",
        "Epoch 8 Train: "
       ]
      },
      {
       "output_type": "stream",
       "stream": "stdout",
       "text": [
        "0.896 Dev: "
       ]
      },
      {
       "output_type": "stream",
       "stream": "stdout",
       "text": [
        "0.849\n",
        "Epoch 9 Train: "
       ]
      },
      {
       "output_type": "stream",
       "stream": "stdout",
       "text": [
        "0.904 Dev: "
       ]
      },
      {
       "output_type": "stream",
       "stream": "stdout",
       "text": [
        "0.847\n",
        "Epoch 10 Train: "
       ]
      },
      {
       "output_type": "stream",
       "stream": "stdout",
       "text": [
        "0.907 Dev: "
       ]
      },
      {
       "output_type": "stream",
       "stream": "stdout",
       "text": [
        "0.848\n"
       ]
      },
      {
       "metadata": {},
       "output_type": "display_data",
       "png": "[encoded data removed]",
       "text": [
        "<matplotlib.figure.Figure at 0x143c6abd0>"
       ]
      }
     ],
     "prompt_number": 36
    },
    {
     "cell_type": "code",
     "collapsed": false,
     "input": [
      "print 'Train 3000'\n",
      "dp = depp.DependencyParser(feature_function=BakeOffFeats())\n",
      "dp.read_data(\"english\",3000)\n",
      "tr_acc, dv_acc = dp.train_perceptron(10)  \n",
      "makePlots(tr_acc, dv_acc)\n",
      "print 'Cluster Features'\n",
      "dp = depp.DependencyParser(feature_function=BrownFeats())\n",
      "dp.read_data(\"english\",3000)\n",
      "tr_acc, dv_acc = dp.train_perceptron(10) \n",
      "makePlots(tr_acc, dv_acc)"
     ],
     "language": "python",
     "metadata": {},
     "outputs": [
      {
       "output_type": "stream",
       "stream": "stdout",
       "text": [
        "Train 3000\n",
        "parsing/../data/deppars\n",
        "Number of sentences: 3000"
       ]
      },
      {
       "output_type": "stream",
       "stream": "stdout",
       "text": [
        "\n",
        "Number of tokens: 30128\n",
        "Number of words: 6513\n",
        "Number of pos: 46\n",
        "Number of features: 78737"
       ]
      },
      {
       "output_type": "stream",
       "stream": "stdout",
       "text": [
        "\n",
        "Epoch 1 Train: "
       ]
      },
      {
       "output_type": "stream",
       "stream": "stdout",
       "text": [
        "0.766 Dev: "
       ]
      },
      {
       "output_type": "stream",
       "stream": "stdout",
       "text": [
        "0.812\n",
        "Epoch 2 Train: "
       ]
      },
      {
       "output_type": "stream",
       "stream": "stdout",
       "text": [
        "0.838 Dev: "
       ]
      },
      {
       "output_type": "stream",
       "stream": "stdout",
       "text": [
        "0.829\n",
        "Epoch 3 Train: "
       ]
      },
      {
       "output_type": "stream",
       "stream": "stdout",
       "text": [
        "0.867 Dev: "
       ]
      },
      {
       "output_type": "stream",
       "stream": "stdout",
       "text": [
        "0.836\n",
        "Epoch 4 Train: "
       ]
      },
      {
       "output_type": "stream",
       "stream": "stdout",
       "text": [
        "0.886 Dev: "
       ]
      },
      {
       "output_type": "stream",
       "stream": "stdout",
       "text": [
        "0.845\n",
        "Epoch 5 Train: "
       ]
      },
      {
       "output_type": "stream",
       "stream": "stdout",
       "text": [
        "0.900 Dev: "
       ]
      },
      {
       "output_type": "stream",
       "stream": "stdout",
       "text": [
        "0.848\n",
        "Epoch 6 Train: "
       ]
      },
      {
       "output_type": "stream",
       "stream": "stdout",
       "text": [
        "0.910 Dev: "
       ]
      },
      {
       "output_type": "stream",
       "stream": "stdout",
       "text": [
        "0.848\n",
        "Epoch 7 Train: "
       ]
      },
      {
       "output_type": "stream",
       "stream": "stdout",
       "text": [
        "0.919 Dev: "
       ]
      },
      {
       "output_type": "stream",
       "stream": "stdout",
       "text": [
        "0.850\n",
        "Epoch 8 Train: "
       ]
      },
      {
       "output_type": "stream",
       "stream": "stdout",
       "text": [
        "0.924 Dev: "
       ]
      },
      {
       "output_type": "stream",
       "stream": "stdout",
       "text": [
        "0.854\n",
        "Epoch 9 Train: "
       ]
      },
      {
       "output_type": "stream",
       "stream": "stdout",
       "text": [
        "0.930 Dev: "
       ]
      },
      {
       "output_type": "stream",
       "stream": "stdout",
       "text": [
        "0.853\n",
        "Epoch 10 Train: "
       ]
      },
      {
       "output_type": "stream",
       "stream": "stdout",
       "text": [
        "0.935 Dev: "
       ]
      },
      {
       "output_type": "stream",
       "stream": "stdout",
       "text": [
        "0.856\n",
        "Cluster Features"
       ]
      },
      {
       "output_type": "stream",
       "stream": "stdout",
       "text": [
        "\n",
        "parsing/../data/deppars\n",
        "Number of sentences: 3000"
       ]
      },
      {
       "output_type": "stream",
       "stream": "stdout",
       "text": [
        "\n",
        "Number of tokens: 30128\n",
        "Number of words: 6513\n",
        "Number of pos: 46\n",
        "Number of features: 107076"
       ]
      },
      {
       "output_type": "stream",
       "stream": "stdout",
       "text": [
        "\n",
        "Epoch 1 Train: "
       ]
      },
      {
       "output_type": "stream",
       "stream": "stdout",
       "text": [
        "0.770 Dev: "
       ]
      },
      {
       "output_type": "stream",
       "stream": "stdout",
       "text": [
        "0.808\n",
        "Epoch 2 Train: "
       ]
      },
      {
       "output_type": "stream",
       "stream": "stdout",
       "text": [
        "0.849 Dev: "
       ]
      },
      {
       "output_type": "stream",
       "stream": "stdout",
       "text": [
        "0.839\n",
        "Epoch 3 Train: "
       ]
      },
      {
       "output_type": "stream",
       "stream": "stdout",
       "text": [
        "0.878 Dev: "
       ]
      },
      {
       "output_type": "stream",
       "stream": "stdout",
       "text": [
        "0.841\n",
        "Epoch 4 Train: "
       ]
      },
      {
       "output_type": "stream",
       "stream": "stdout",
       "text": [
        "0.897 Dev: "
       ]
      },
      {
       "output_type": "stream",
       "stream": "stdout",
       "text": [
        "0.854\n",
        "Epoch 5 Train: "
       ]
      },
      {
       "output_type": "stream",
       "stream": "stdout",
       "text": [
        "0.912 Dev: "
       ]
      },
      {
       "output_type": "stream",
       "stream": "stdout",
       "text": [
        "0.857\n",
        "Epoch 6 Train: "
       ]
      },
      {
       "output_type": "stream",
       "stream": "stdout",
       "text": [
        "0.921 Dev: "
       ]
      },
      {
       "output_type": "stream",
       "stream": "stdout",
       "text": [
        "0.861\n",
        "Epoch 7 Train: "
       ]
      },
      {
       "output_type": "stream",
       "stream": "stdout",
       "text": [
        "0.928 Dev: "
       ]
      },
      {
       "output_type": "stream",
       "stream": "stdout",
       "text": [
        "0.862\n",
        "Epoch 8 Train: "
       ]
      },
      {
       "output_type": "stream",
       "stream": "stdout",
       "text": [
        "0.936 Dev: "
       ]
      },
      {
       "output_type": "stream",
       "stream": "stdout",
       "text": [
        "0.863\n",
        "Epoch 9 Train: "
       ]
      },
      {
       "output_type": "stream",
       "stream": "stdout",
       "text": [
        "0.941 Dev: "
       ]
      },
      {
       "output_type": "stream",
       "stream": "stdout",
       "text": [
        "0.865\n",
        "Epoch 10 Train: "
       ]
      },
      {
       "output_type": "stream",
       "stream": "stdout",
       "text": [
        "0.947 Dev: "
       ]
      },
      {
       "output_type": "stream",
       "stream": "stdout",
       "text": [
        "0.864\n"
       ]
      },
      {
       "metadata": {},
       "output_type": "display_data",
       "png": "[encoded data removed]",
       "text": [
        "<matplotlib.figure.Figure at 0x112bec8d0>"
       ]
      }
     ],
     "prompt_number": 37
    },
    {
     "cell_type": "code",
     "collapsed": false,
     "input": [
      "print 'Train 5000'\n",
      "dp = depp.DependencyParser(feature_function=BakeOffFeats())\n",
      "dp.read_data(\"english\",5000)\n",
      "tr_acc, dv_acc = dp.train_perceptron(10)  \n",
      "makePlots(tr_acc, dv_acc)\n",
      "print 'Cluster Features'\n",
      "dp = depp.DependencyParser(feature_function=BrownFeats())\n",
      "dp.read_data(\"english\",5000)\n",
      "tr_acc, dv_acc = dp.train_perceptron(10) \n",
      "makePlots(tr_acc, dv_acc)"
     ],
     "language": "python",
     "metadata": {},
     "outputs": [
      {
       "output_type": "stream",
       "stream": "stdout",
       "text": [
        "Train 5000\n",
        "parsing/../data/deppars\n",
        "Number of sentences: 5000"
       ]
      },
      {
       "output_type": "stream",
       "stream": "stdout",
       "text": [
        "\n",
        "Number of tokens: 50322\n",
        "Number of words: 9151\n",
        "Number of pos: 48\n",
        "Number of features: 88882"
       ]
      },
      {
       "output_type": "stream",
       "stream": "stdout",
       "text": [
        "\n",
        "Epoch 1 Train: "
       ]
      },
      {
       "output_type": "stream",
       "stream": "stdout",
       "text": [
        "0.766 Dev: "
       ]
      },
      {
       "output_type": "stream",
       "stream": "stdout",
       "text": [
        "0.811\n",
        "Epoch 2 Train: "
       ]
      },
      {
       "output_type": "stream",
       "stream": "stdout",
       "text": [
        "0.843 Dev: "
       ]
      },
      {
       "output_type": "stream",
       "stream": "stdout",
       "text": [
        "0.837\n",
        "Epoch 3 Train: "
       ]
      },
      {
       "output_type": "stream",
       "stream": "stdout",
       "text": [
        "0.872 Dev: "
       ]
      },
      {
       "output_type": "stream",
       "stream": "stdout",
       "text": [
        "0.847\n",
        "Epoch 4 Train: "
       ]
      },
      {
       "output_type": "stream",
       "stream": "stdout",
       "text": [
        "0.891 Dev: "
       ]
      },
      {
       "output_type": "stream",
       "stream": "stdout",
       "text": [
        "0.849\n",
        "Epoch 5 Train: "
       ]
      },
      {
       "output_type": "stream",
       "stream": "stdout",
       "text": [
        "0.906 Dev: "
       ]
      },
      {
       "output_type": "stream",
       "stream": "stdout",
       "text": [
        "0.852\n",
        "Epoch 6 Train: "
       ]
      },
      {
       "output_type": "stream",
       "stream": "stdout",
       "text": [
        "0.917 Dev: "
       ]
      },
      {
       "output_type": "stream",
       "stream": "stdout",
       "text": [
        "0.853\n",
        "Epoch 7 Train: "
       ]
      },
      {
       "output_type": "stream",
       "stream": "stdout",
       "text": [
        "0.925 Dev: "
       ]
      },
      {
       "output_type": "stream",
       "stream": "stdout",
       "text": [
        "0.856\n",
        "Epoch 8 Train: "
       ]
      },
      {
       "output_type": "stream",
       "stream": "stdout",
       "text": [
        "0.932 Dev: "
       ]
      },
      {
       "output_type": "stream",
       "stream": "stdout",
       "text": [
        "0.857\n",
        "Epoch 9 Train: "
       ]
      },
      {
       "output_type": "stream",
       "stream": "stdout",
       "text": [
        "0.936 Dev: "
       ]
      },
      {
       "output_type": "stream",
       "stream": "stdout",
       "text": [
        "0.856\n",
        "Epoch 10 Train: "
       ]
      },
      {
       "output_type": "stream",
       "stream": "stdout",
       "text": [
        "0.941 Dev: "
       ]
      },
      {
       "output_type": "stream",
       "stream": "stdout",
       "text": [
        "0.858\n",
        "Cluster Features"
       ]
      },
      {
       "output_type": "stream",
       "stream": "stdout",
       "text": [
        "\n",
        "parsing/../data/deppars\n",
        "Number of sentences: 5000"
       ]
      },
      {
       "output_type": "stream",
       "stream": "stdout",
       "text": [
        "\n",
        "Number of tokens: 50322\n",
        "Number of words: 9151\n",
        "Number of pos: 48\n",
        "Number of features: 120931"
       ]
      },
      {
       "output_type": "stream",
       "stream": "stdout",
       "text": [
        "\n",
        "Epoch 1 Train: "
       ]
      },
      {
       "output_type": "stream",
       "stream": "stdout",
       "text": [
        "0.770 Dev: "
       ]
      },
      {
       "output_type": "stream",
       "stream": "stdout",
       "text": [
        "0.800\n",
        "Epoch 2 Train: "
       ]
      },
      {
       "output_type": "stream",
       "stream": "stdout",
       "text": [
        "0.852 Dev: "
       ]
      },
      {
       "output_type": "stream",
       "stream": "stdout",
       "text": [
        "0.833\n",
        "Epoch 3 Train: "
       ]
      },
      {
       "output_type": "stream",
       "stream": "stdout",
       "text": [
        "0.885 Dev: "
       ]
      },
      {
       "output_type": "stream",
       "stream": "stdout",
       "text": [
        "0.842\n",
        "Epoch 4 Train: "
       ]
      },
      {
       "output_type": "stream",
       "stream": "stdout",
       "text": [
        "0.905 Dev: "
       ]
      },
      {
       "output_type": "stream",
       "stream": "stdout",
       "text": [
        "0.851\n",
        "Epoch 5 Train: "
       ]
      },
      {
       "output_type": "stream",
       "stream": "stdout",
       "text": [
        "0.919 Dev: "
       ]
      },
      {
       "output_type": "stream",
       "stream": "stdout",
       "text": [
        "0.854\n",
        "Epoch 6 Train: "
       ]
      },
      {
       "output_type": "stream",
       "stream": "stdout",
       "text": [
        "0.929 Dev: "
       ]
      },
      {
       "output_type": "stream",
       "stream": "stdout",
       "text": [
        "0.859\n",
        "Epoch 7 Train: "
       ]
      },
      {
       "output_type": "stream",
       "stream": "stdout",
       "text": [
        "0.937 Dev: "
       ]
      },
      {
       "output_type": "stream",
       "stream": "stdout",
       "text": [
        "0.861\n",
        "Epoch 8 Train: "
       ]
      },
      {
       "output_type": "stream",
       "stream": "stdout",
       "text": [
        "0.945 Dev: "
       ]
      },
      {
       "output_type": "stream",
       "stream": "stdout",
       "text": [
        "0.864\n",
        "Epoch 9 Train: "
       ]
      },
      {
       "output_type": "stream",
       "stream": "stdout",
       "text": [
        "0.950 Dev: "
       ]
      },
      {
       "output_type": "stream",
       "stream": "stdout",
       "text": [
        "0.864\n",
        "Epoch 10 Train: "
       ]
      },
      {
       "output_type": "stream",
       "stream": "stdout",
       "text": [
        "0.956 Dev: "
       ]
      },
      {
       "output_type": "stream",
       "stream": "stdout",
       "text": [
        "0.864\n"
       ]
      },
      {
       "metadata": {},
       "output_type": "display_data",
       "png": "[encoded data removed]",
       "text": [
        "<matplotlib.figure.Figure at 0x112c35d90>"
       ]
      }
     ],
     "prompt_number": 38
    },
    {
     "cell_type": "code",
     "collapsed": false,
     "input": [
      "print 'Train 8000'\n",
      "dp = depp.DependencyParser(feature_function=BakeOffFeats())\n",
      "dp.read_data(\"english\",8000)\n",
      "tr_acc, dv_acc = dp.train_perceptron(10)  \n",
      "makePlots(tr_acc, dv_acc)\n",
      "print 'Cluster Features'\n",
      "dp = depp.DependencyParser(feature_function=BrownFeats())\n",
      "dp.read_data(\"english\",8000)\n",
      "tr_acc, dv_acc = dp.train_perceptron(10) \n",
      "makePlots(tr_acc, dv_acc)"
     ],
     "language": "python",
     "metadata": {},
     "outputs": [
      {
       "output_type": "stream",
       "stream": "stdout",
       "text": [
        "Train 8000\n",
        "parsing/../data/deppars\n",
        "Number of sentences: 7569"
       ]
      },
      {
       "output_type": "stream",
       "stream": "stdout",
       "text": [
        "\n",
        "Number of tokens: 75621\n",
        "Number of words: 11766\n",
        "Number of pos: 48\n",
        "Number of features: 96518"
       ]
      },
      {
       "output_type": "stream",
       "stream": "stdout",
       "text": [
        "\n",
        "Epoch 1 Train: "
       ]
      },
      {
       "output_type": "stream",
       "stream": "stdout",
       "text": [
        "0.767 Dev: "
       ]
      },
      {
       "output_type": "stream",
       "stream": "stdout",
       "text": [
        "0.818\n",
        "Epoch 2 Train: "
       ]
      },
      {
       "output_type": "stream",
       "stream": "stdout",
       "text": [
        "0.846 Dev: "
       ]
      },
      {
       "output_type": "stream",
       "stream": "stdout",
       "text": [
        "0.834\n",
        "Epoch 3 Train: "
       ]
      },
      {
       "output_type": "stream",
       "stream": "stdout",
       "text": [
        "0.876 Dev: "
       ]
      },
      {
       "output_type": "stream",
       "stream": "stdout",
       "text": [
        "0.842\n",
        "Epoch 4 Train: "
       ]
      },
      {
       "output_type": "stream",
       "stream": "stdout",
       "text": [
        "0.896 Dev: "
       ]
      },
      {
       "output_type": "stream",
       "stream": "stdout",
       "text": [
        "0.847\n",
        "Epoch 5 Train: "
       ]
      },
      {
       "output_type": "stream",
       "stream": "stdout",
       "text": [
        "0.912 Dev: "
       ]
      },
      {
       "output_type": "stream",
       "stream": "stdout",
       "text": [
        "0.849\n",
        "Epoch 6 Train: "
       ]
      },
      {
       "output_type": "stream",
       "stream": "stdout",
       "text": [
        "0.923 Dev: "
       ]
      },
      {
       "output_type": "stream",
       "stream": "stdout",
       "text": [
        "0.853\n",
        "Epoch 7 Train: "
       ]
      },
      {
       "output_type": "stream",
       "stream": "stdout",
       "text": [
        "0.931 Dev: "
       ]
      },
      {
       "output_type": "stream",
       "stream": "stdout",
       "text": [
        "0.855\n",
        "Epoch 8 Train: "
       ]
      },
      {
       "output_type": "stream",
       "stream": "stdout",
       "text": [
        "0.939 Dev: "
       ]
      },
      {
       "output_type": "stream",
       "stream": "stdout",
       "text": [
        "0.858\n",
        "Epoch 9 Train: "
       ]
      },
      {
       "output_type": "stream",
       "stream": "stdout",
       "text": [
        "0.945 Dev: "
       ]
      },
      {
       "output_type": "stream",
       "stream": "stdout",
       "text": [
        "0.859\n",
        "Epoch 10 Train: "
       ]
      },
      {
       "output_type": "stream",
       "stream": "stdout",
       "text": [
        "0.949 Dev: "
       ]
      },
      {
       "output_type": "stream",
       "stream": "stdout",
       "text": [
        "0.862\n",
        "Cluster Features"
       ]
      },
      {
       "output_type": "stream",
       "stream": "stdout",
       "text": [
        "\n",
        "parsing/../data/deppars\n",
        "Number of sentences: 7569"
       ]
      },
      {
       "output_type": "stream",
       "stream": "stdout",
       "text": [
        "\n",
        "Number of tokens: 75621\n",
        "Number of words: 11766\n",
        "Number of pos: 48\n",
        "Number of features: 131335"
       ]
      },
      {
       "output_type": "stream",
       "stream": "stdout",
       "text": [
        "\n",
        "Epoch 1 Train: "
       ]
      },
      {
       "output_type": "stream",
       "stream": "stdout",
       "text": [
        "0.772 Dev: "
       ]
      },
      {
       "output_type": "stream",
       "stream": "stdout",
       "text": [
        "0.810\n",
        "Epoch 2 Train: "
       ]
      },
      {
       "output_type": "stream",
       "stream": "stdout",
       "text": [
        "0.855 Dev: "
       ]
      },
      {
       "output_type": "stream",
       "stream": "stdout",
       "text": [
        "0.834\n",
        "Epoch 3 Train: "
       ]
      },
      {
       "output_type": "stream",
       "stream": "stdout",
       "text": [
        "0.889 Dev: "
       ]
      },
      {
       "output_type": "stream",
       "stream": "stdout",
       "text": [
        "0.846\n",
        "Epoch 4 Train: "
       ]
      },
      {
       "output_type": "stream",
       "stream": "stdout",
       "text": [
        "0.910 Dev: "
       ]
      },
      {
       "output_type": "stream",
       "stream": "stdout",
       "text": [
        "0.852\n",
        "Epoch 5 Train: "
       ]
      },
      {
       "output_type": "stream",
       "stream": "stdout",
       "text": [
        "0.927 Dev: "
       ]
      },
      {
       "output_type": "stream",
       "stream": "stdout",
       "text": [
        "0.858\n",
        "Epoch 6 Train: "
       ]
      },
      {
       "output_type": "stream",
       "stream": "stdout",
       "text": [
        "0.936 Dev: "
       ]
      },
      {
       "output_type": "stream",
       "stream": "stdout",
       "text": [
        "0.860\n",
        "Epoch 7 Train: "
       ]
      },
      {
       "output_type": "stream",
       "stream": "stdout",
       "text": [
        "0.945 Dev: "
       ]
      },
      {
       "output_type": "stream",
       "stream": "stdout",
       "text": [
        "0.863\n",
        "Epoch 8 Train: "
       ]
      },
      {
       "output_type": "stream",
       "stream": "stdout",
       "text": [
        "0.952 Dev: "
       ]
      },
      {
       "output_type": "stream",
       "stream": "stdout",
       "text": [
        "0.865\n",
        "Epoch 9 Train: "
       ]
      },
      {
       "output_type": "stream",
       "stream": "stdout",
       "text": [
        "0.957 Dev: "
       ]
      },
      {
       "output_type": "stream",
       "stream": "stdout",
       "text": [
        "0.867\n",
        "Epoch 10 Train: "
       ]
      },
      {
       "output_type": "stream",
       "stream": "stdout",
       "text": [
        "0.962 Dev: "
       ]
      },
      {
       "output_type": "stream",
       "stream": "stdout",
       "text": [
        "0.866\n"
       ]
      },
      {
       "metadata": {},
       "output_type": "display_data",
       "png": "[encoded data removed]",
       "text": [
        "<matplotlib.figure.Figure at 0x143c5fb50>"
       ]
      }
     ],
     "prompt_number": 39
    },
    {
     "cell_type": "code",
     "collapsed": false,
     "input": [],
     "language": "python",
     "metadata": {},
     "outputs": [],
     "prompt_number": 39
    },
    {
     "cell_type": "code",
     "collapsed": false,
     "input": [],
     "language": "python",
     "metadata": {},
     "outputs": [],
     "prompt_number": 39
    },
    {
     "cell_type": "code",
     "collapsed": false,
     "input": [],
     "language": "python",
     "metadata": {},
     "outputs": [],
     "prompt_number": 39
    },
    {
     "cell_type": "code",
     "collapsed": false,
     "input": [],
     "language": "python",
     "metadata": {},
     "outputs": []
    },
    {
     "cell_type": "code",
     "collapsed": false,
     "input": [],
     "language": "python",
     "metadata": {},
     "outputs": []
    }
   ],
   "metadata": {}
  }
 ]
}